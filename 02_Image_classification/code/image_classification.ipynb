{
 "cells": [
  {
   "cell_type": "markdown",
   "metadata": {
    "id": "iO76etmeOZ47"
   },
   "source": [
    "# Image Classification with PyTorch"
   ]
  },
  {
   "cell_type": "markdown",
   "metadata": {
    "id": "x05yMvrtOZ4-"
   },
   "source": [
    "## Data loading\n"
   ]
  },
  {
   "cell_type": "code",
   "execution_count": 1,
   "metadata": {
    "id": "mvCkEtTVOZ5A"
   },
   "outputs": [],
   "source": [
    "import numpy as np\n",
    "import matplotlib.pyplot as plt\n",
    "\n",
    "import torch\n",
    "import torch.nn as nn\n",
    "import torch.nn.functional as F\n",
    "import torch.optim as optim\n",
    "from torch.utils.data import DataLoader\n",
    "import torchvision\n",
    "from torchvision import datasets, transforms"
   ]
  },
  {
   "cell_type": "code",
   "execution_count": 2,
   "metadata": {
    "colab": {
     "base_uri": "https://localhost:8080/",
     "height": 430,
     "referenced_widgets": [
      "6dc3720d46c14210a89025e682af1b93",
      "8e786b93cb9544bc8b1a333b7ac26b59",
      "5f001ee7b32f49cdbdd213ace0f2fc65",
      "9dd44e6cc8064ae6a56a27052b1b17e1",
      "4200d6dcbd2b456d844d41628743427d",
      "6e7f6eacfc95436db0ceee348eb62357",
      "27b7aaa9128e463daba773a813499c1c",
      "711eed22b2b840808e18f653e5f8b130",
      "04b38dab6cde4214af9ea0817fccb02a",
      "2fe4581831294406b65dd7c42b3f2b16",
      "b647132ed5944f4abd5a7f65dbd6e840",
      "2160482b900f46e5affe09f0dfa656f0",
      "e285551db0b148729b25f2a165d3efbc",
      "bf2ff425393d402a9c1505b9e51ff6d7",
      "c9114a23559e4b2a85a7d4a9c468b666",
      "44d2a2b1729e495ebd3228c745d287da",
      "c80b58a8093c4abbbd30f7a54e409205",
      "13a5ab234da14a4b946e37ecb8bd5221",
      "6b70223bc4744a79b00b36c446190e7d",
      "cefcf2dd904349429958cd072d40a217",
      "4b82ecce912a46739c90b594b9f07738",
      "cafd86c9224445859d7c287bd519b89c",
      "30c224ecb3d042bc808974408a59afff",
      "2a8f7c5f518c4d659d239e338959292a",
      "61ce584b9df144b3825ede6626273d3e",
      "00ec3c14cd93487f941886e8666f2c7c",
      "3a34a8625a764ad5bc4f6cdd9a8bcb55",
      "6a7407bb9024414d8254f2f7479db0d0",
      "47930c18b6fc4496b358e5b3eb67c42f",
      "5968f8b29fc2478aa12490fedab887b0",
      "faff73019f8048c1a7155a8d86a6e287",
      "cc1055767bea4a47902d560fabd63b60",
      "a7103d4135cf40669406adf692fc72e5",
      "237f3ed0d8a74adead734e266665160c",
      "778308e38c974f849e10f8faae780442",
      "2b856a27f5934c6cbeacad1c3c47650d",
      "8a2f2626439f47b58bcd48862e1bd31a",
      "20600f4a16b54b849bf38b4fb8c3e0e3",
      "b14ecccb549c452082db580ccaaf4626",
      "233821bbf54443a98d3626fa36fca28f",
      "f41b2ad8319a47e8ba06c1b0c173a324",
      "03b57d0a248d406c829eba634afba130",
      "ff070c33970a494788828e9eefc828eb",
      "deb94fac980345c8a26c22fe37018d79"
     ]
    },
    "id": "fblhrptJOZ5C",
    "outputId": "e50d47b5-1d63-4bf9-e4d0-a338aad7bd5b"
   },
   "outputs": [
    {
     "name": "stdout",
     "output_type": "stream",
     "text": [
      "Downloading http://yann.lecun.com/exdb/mnist/train-images-idx3-ubyte.gz\n",
      "Downloading http://yann.lecun.com/exdb/mnist/train-images-idx3-ubyte.gz to data/MNIST/raw/train-images-idx3-ubyte.gz\n"
     ]
    },
    {
     "data": {
      "application/vnd.jupyter.widget-view+json": {
       "model_id": "6dc3720d46c14210a89025e682af1b93",
       "version_major": 2,
       "version_minor": 0
      },
      "text/plain": [
       "  0%|          | 0/9912422 [00:00<?, ?it/s]"
      ]
     },
     "metadata": {},
     "output_type": "display_data"
    },
    {
     "name": "stdout",
     "output_type": "stream",
     "text": [
      "Extracting data/MNIST/raw/train-images-idx3-ubyte.gz to data/MNIST/raw\n",
      "\n",
      "Downloading http://yann.lecun.com/exdb/mnist/train-labels-idx1-ubyte.gz\n",
      "Downloading http://yann.lecun.com/exdb/mnist/train-labels-idx1-ubyte.gz to data/MNIST/raw/train-labels-idx1-ubyte.gz\n"
     ]
    },
    {
     "data": {
      "application/vnd.jupyter.widget-view+json": {
       "model_id": "2160482b900f46e5affe09f0dfa656f0",
       "version_major": 2,
       "version_minor": 0
      },
      "text/plain": [
       "  0%|          | 0/28881 [00:00<?, ?it/s]"
      ]
     },
     "metadata": {},
     "output_type": "display_data"
    },
    {
     "name": "stdout",
     "output_type": "stream",
     "text": [
      "Extracting data/MNIST/raw/train-labels-idx1-ubyte.gz to data/MNIST/raw\n",
      "\n",
      "Downloading http://yann.lecun.com/exdb/mnist/t10k-images-idx3-ubyte.gz\n",
      "Downloading http://yann.lecun.com/exdb/mnist/t10k-images-idx3-ubyte.gz to data/MNIST/raw/t10k-images-idx3-ubyte.gz\n"
     ]
    },
    {
     "data": {
      "application/vnd.jupyter.widget-view+json": {
       "model_id": "30c224ecb3d042bc808974408a59afff",
       "version_major": 2,
       "version_minor": 0
      },
      "text/plain": [
       "  0%|          | 0/1648877 [00:00<?, ?it/s]"
      ]
     },
     "metadata": {},
     "output_type": "display_data"
    },
    {
     "name": "stdout",
     "output_type": "stream",
     "text": [
      "Extracting data/MNIST/raw/t10k-images-idx3-ubyte.gz to data/MNIST/raw\n",
      "\n",
      "Downloading http://yann.lecun.com/exdb/mnist/t10k-labels-idx1-ubyte.gz\n",
      "Downloading http://yann.lecun.com/exdb/mnist/t10k-labels-idx1-ubyte.gz to data/MNIST/raw/t10k-labels-idx1-ubyte.gz\n"
     ]
    },
    {
     "data": {
      "application/vnd.jupyter.widget-view+json": {
       "model_id": "237f3ed0d8a74adead734e266665160c",
       "version_major": 2,
       "version_minor": 0
      },
      "text/plain": [
       "  0%|          | 0/4542 [00:00<?, ?it/s]"
      ]
     },
     "metadata": {},
     "output_type": "display_data"
    },
    {
     "name": "stdout",
     "output_type": "stream",
     "text": [
      "Extracting data/MNIST/raw/t10k-labels-idx1-ubyte.gz to data/MNIST/raw\n",
      "\n"
     ]
    }
   ],
   "source": [
    "# torchvision contains convinience functions for popular datasets\n",
    "ds_train = datasets.MNIST('data', train=True, download=True)"
   ]
  },
  {
   "cell_type": "markdown",
   "metadata": {
    "id": "t-2WqnaeOZ5E"
   },
   "source": [
    "Each sample is a 28x28 image"
   ]
  },
  {
   "cell_type": "code",
   "execution_count": 3,
   "metadata": {
    "colab": {
     "base_uri": "https://localhost:8080/",
     "height": 155
    },
    "id": "rOFMzOxOOZ5F",
    "outputId": "799c4f0c-81d2-4e72-9bc1-c82f357f10d5"
   },
   "outputs": [
    {
     "name": "stdout",
     "output_type": "stream",
     "text": [
      "(<PIL.Image.Image image mode=L size=28x28 at 0x7F5CB40C32D0>, 5)\n"
     ]
    },
    {
     "data": {
      "image/png": "[encoded data removed]",
      "text/plain": [
       "<PIL.Image.Image image mode=L size=120x120 at 0x7F5CB35B4C50>"
      ]
     },
     "execution_count": 3,
     "metadata": {},
     "output_type": "execute_result"
    }
   ],
   "source": [
    "# if we index this dataset, we get a single data point: a PIL image and an Integer\n",
    "print(ds_train[0])\n",
    "ds_train[0][0].resize((120,120))"
   ]
  },
  {
   "cell_type": "markdown",
   "metadata": {
    "id": "HpZAEBQrOZ5G"
   },
   "source": [
    "Let's transform the data to something that our Pytorch models will understand\n",
    "for this purpose, we can supply a transform function to the datase"
   ]
  },
  {
   "cell_type": "code",
   "execution_count": 4,
   "metadata": {
    "id": "jg9Ag3nxOZ5G"
   },
   "outputs": [],
   "source": [
    "transform = transforms.Compose([\n",
    "    transforms.ToTensor(),\n",
    "])\n",
    "ds_train = datasets.MNIST('data', train=True, download=True, transform=transform)"
   ]
  },
  {
   "cell_type": "markdown",
   "metadata": {
    "id": "dHolZAwsOZ5H"
   },
   "source": [
    "The image is now a `torch.Tensor`"
   ]
  },
  {
   "cell_type": "code",
   "execution_count": 5,
   "metadata": {
    "colab": {
     "base_uri": "https://localhost:8080/"
    },
    "id": "ZHnQXF7qOZ5K",
    "outputId": "a96625b0-21f0-4a6b-d9f9-4a87d67f0d1f"
   },
   "outputs": [
    {
     "data": {
      "text/plain": [
       "torch.Tensor"
      ]
     },
     "execution_count": 5,
     "metadata": {},
     "output_type": "execute_result"
    }
   ],
   "source": [
    "type(ds_train[0][0])"
   ]
  },
  {
   "cell_type": "markdown",
   "metadata": {
    "id": "uGGLY0CmOZ5N"
   },
   "source": [
    "The normalization is something you learned about in the lecture. Normalizing with $\\mu=0, \\sigma=1$ corresponds to no normalization. Let's compute the proper normalization constants!"
   ]
  },
  {
   "cell_type": "code",
   "execution_count": 6,
   "metadata": {
    "colab": {
     "base_uri": "https://localhost:8080/"
    },
    "id": "blVQkrpYOZ5O",
    "outputId": "f68e5ce1-5a1c-43cd-939b-7312e41aa043"
   },
   "outputs": [
    {
     "name": "stdout",
     "output_type": "stream",
     "text": [
      "torch.Size([60000, 28, 28])\n"
     ]
    }
   ],
   "source": [
    "# lets get only the images \n",
    "ims_train = ds_train.data\n",
    "ims_train = ims_train.float() / 255.\n",
    "print(ims_train.shape)"
   ]
  },
  {
   "cell_type": "code",
   "execution_count": 7,
   "metadata": {
    "id": "ldlQTMqROZ5O"
   },
   "outputs": [],
   "source": [
    "#########################################################################\n",
    "# TODO: calculate the mean and std of MNIST images\n",
    "# hint: to look for operations on pytorch tensor, refer to the official PyTorch docs \n",
    "# https://pytorch.org/docs/stable/\n",
    "#########################################################################\n",
    "mu = torch.mean(ims_train)\n",
    "std = torch.std(ims_train, unbiased=False)"
   ]
  },
  {
   "cell_type": "markdown",
   "metadata": {
    "id": "d9zHIim3OZ5P"
   },
   "source": [
    "We normalize the data as below."
   ]
  },
  {
   "cell_type": "code",
   "execution_count": 8,
   "metadata": {
    "id": "qFqQlcx0OZ5Q"
   },
   "outputs": [],
   "source": [
    "transform = transforms.Compose([\n",
    "    transforms.ToTensor(),\n",
    "    transforms.Normalize(mu, std)\n",
    "])\n",
    "ds_train = datasets.MNIST('data', train=True, download=True, transform=transform)\n",
    "ds_test = datasets.MNIST('data', train=False, download=True, transform=transform)"
   ]
  },
  {
   "cell_type": "code",
   "execution_count": 9,
   "metadata": {
    "colab": {
     "base_uri": "https://localhost:8080/"
    },
    "id": "LaeM0FqaOZ5Q",
    "outputId": "f57b21d3-0f22-4ffe-a5fb-4878d3b3291e"
   },
   "outputs": [
    {
     "data": {
      "text/plain": [
       "(tensor(-0.4241), tensor(2.8215))"
      ]
     },
     "execution_count": 9,
     "metadata": {},
     "output_type": "execute_result"
    }
   ],
   "source": [
    "ds_train[0][0].min(), ds_train[0][0].max()"
   ]
  },
  {
   "cell_type": "markdown",
   "metadata": {
    "id": "eD3u5nCuOZ5R"
   },
   "source": [
    "Next, we want to receive mini-batches, not only single data points.\n",
    "We use PyTorch's DataLoader class. Build a dataloader with a batch size of 64 and 4 workers (number of subprocess that peform the dataloading). Important: you need to shuffle the training data, not the test data.\n",
    "\n",
    "**NOTE**: if you encounter some unexpected errors in data loading, try setting `NUM_WORKERS = 0`"
   ]
  },
  {
   "cell_type": "code",
   "execution_count": 10,
   "metadata": {
    "colab": {
     "base_uri": "https://localhost:8080/"
    },
    "id": "mzyWDZIHOZ5S",
    "outputId": "4ad6270d-593c-4ae5-83b8-01aec3172264"
   },
   "outputs": [
    {
     "name": "stderr",
     "output_type": "stream",
     "text": [
      "/usr/local/lib/python3.7/dist-packages/torch/utils/data/dataloader.py:566: UserWarning: This DataLoader will create 4 worker processes in total. Our suggested max number of worker in current system is 2, which is smaller than what this DataLoader is going to create. Please be aware that excessive worker creation might get DataLoader running slow or even freeze, lower the worker number to avoid potential slowness/freeze if necessary.\n",
      "  cpuset_checked))\n"
     ]
    }
   ],
   "source": [
    "BATCH_SIZE = 64\n",
    "NUM_WORKERS = 4\n",
    "#########################################################################\n",
    "# TODO: Build a dataloader for both train and test data.\n",
    "#########################################################################\n",
    "dl_train = DataLoader(\n",
    "    ds_train,\n",
    "    batch_size=BATCH_SIZE,\n",
    "    num_workers=NUM_WORKERS,\n",
    "    shuffle=True\n",
    ")\n",
    "dl_test = DataLoader(\n",
    "    ds_test,\n",
    "    batch_size=BATCH_SIZE,\n",
    "    num_workers=NUM_WORKERS,\n",
    "    shuffle=False\n",
    ")"
   ]
  },
  {
   "cell_type": "markdown",
   "metadata": {
    "id": "7yQh9oS1OZ5T"
   },
   "source": [
    "## MLP in Pytorch\n",
    "\n",
    "Ok, the dataloading works. Let's build our model, PyTorch makes this very easy. We will build replicate the model from our last exercises. However, now, we add another variable called `nLayer` that indicates how many linear layers that in your network. Please adapt your code from last exercise accordingly to allow different number of layers."
   ]
  },
  {
   "cell_type": "code",
   "execution_count": 11,
   "metadata": {
    "id": "QX8BAuu4OZ5T"
   },
   "outputs": [],
   "source": [
    "# These are the parameters to be used\n",
    "nInput = 784\n",
    "nOutput = 10\n",
    "nLayer = 2\n",
    "nHidden = 16\n",
    "act_fn = nn.ReLU()"
   ]
  },
  {
   "cell_type": "code",
   "execution_count": 12,
   "metadata": {
    "id": "IPafM6a_OZ5U"
   },
   "outputs": [],
   "source": [
    "#########################################################################\n",
    "# TODO: Implement the __init__ of the MLP class. \n",
    "# insert the activation after every linear layer. Important: the number of \n",
    "# hidden layers should be variable!\n",
    "#########################################################################\n",
    "\n",
    "class MLP(nn.Module):\n",
    "    def __init__(self, nInput, nOutput, nLayer, nHidden, act_fn):\n",
    "        super(MLP, self).__init__()\n",
    "        layers = []\n",
    "        \n",
    "        ##### implement this part #####\n",
    "        layers.append(nn.Linear(nInput,nHidden))\n",
    "        layers.append(act_fn)\n",
    "        for i in range(nLayer):\n",
    "            layers.append(nn.Linear(nHidden,nHidden))\n",
    "            layers.append(act_fn)\n",
    "        layers.append(nn.Linear(nHidden,nOutput))\n",
    "        ###############################\n",
    "        \n",
    "        self.model = nn.Sequential(*layers)\n",
    "\n",
    "    def forward(self, x):\n",
    "        x = torch.flatten(x, 1)\n",
    "        return self.model(x)"
   ]
  },
  {
   "cell_type": "code",
   "execution_count": 13,
   "metadata": {
    "colab": {
     "base_uri": "https://localhost:8080/"
    },
    "id": "zlSbU8XpOZ5V",
    "outputId": "ab52a44e-56cf-4968-e180-26c62fec4361",
    "scrolled": true
   },
   "outputs": [
    {
     "data": {
      "text/plain": [
       "torch.Size([1, 10])"
      ]
     },
     "execution_count": 13,
     "metadata": {},
     "output_type": "execute_result"
    }
   ],
   "source": [
    "# Let's test if the forward pass works\n",
    "# this should print torch.Size([1, 10])\n",
    "t = torch.randn(1,1,28,28)\n",
    "mlp = MLP(nInput, nOutput, nLayer, nHidden, act_fn)\n",
    "mlp(t).shape"
   ]
  },
  {
   "cell_type": "code",
   "execution_count": 14,
   "metadata": {
    "colab": {
     "base_uri": "https://localhost:8080/"
    },
    "id": "jzeRT2nPOZ5V",
    "outputId": "4d77cb4d-f61b-46d9-cef3-bd684a4d4d6f"
   },
   "outputs": [
    {
     "data": {
      "text/plain": [
       "MLP(\n",
       "  (model): Sequential(\n",
       "    (0): Linear(in_features=784, out_features=16, bias=True)\n",
       "    (1): ReLU()\n",
       "    (2): Linear(in_features=16, out_features=16, bias=True)\n",
       "    (3): ReLU()\n",
       "    (4): Linear(in_features=16, out_features=16, bias=True)\n",
       "    (5): ReLU()\n",
       "    (6): Linear(in_features=16, out_features=10, bias=True)\n",
       "  )\n",
       ")"
      ]
     },
     "execution_count": 14,
     "metadata": {},
     "output_type": "execute_result"
    }
   ],
   "source": [
    "mlp"
   ]
  },
  {
   "cell_type": "markdown",
   "metadata": {
    "id": "rhwbwnsgOZ5W"
   },
   "source": [
    "We already implemented the test function for you"
   ]
  },
  {
   "cell_type": "code",
   "execution_count": 15,
   "metadata": {
    "id": "qrgoXTrROZ5X"
   },
   "outputs": [],
   "source": [
    "def test(model, dl_test, device='cpu'):\n",
    "    model.eval()\n",
    "    test_loss = 0\n",
    "    correct = 0\n",
    "    with torch.no_grad():\n",
    "        for data, target in dl_test:\n",
    "            data, target = data.to(device), target.to(device)\n",
    "            output = model(data)\n",
    "            test_loss += F.cross_entropy(output, target, reduction='sum').item()  # sum up batch loss\n",
    "            pred = output.argmax(dim=1, keepdim=True)  # get the index of the max log-probability\n",
    "            correct += pred.eq(target.view_as(pred)).sum().item()\n",
    "\n",
    "    test_loss /= len(dl_test.dataset)\n",
    "\n",
    "    print('\\nTest set: Average loss: {:.4f}, Accuracy: {}/{} ({:.3f}%)\\n'.format(\n",
    "        test_loss, correct, len(dl_test.dataset),\n",
    "        100. * correct / len(dl_test.dataset)))"
   ]
  },
  {
   "cell_type": "markdown",
   "metadata": {
    "id": "XaMo0T3yOZ5X"
   },
   "source": [
    "Now you only need to implement the training and you are good to go"
   ]
  },
  {
   "cell_type": "code",
   "execution_count": 16,
   "metadata": {
    "id": "YyedW2U8OZ5Y"
   },
   "outputs": [],
   "source": [
    "#########################################################################\n",
    "# TODO: Implement the missing part of the training function. As a loss function we want to use cross entropy\n",
    "# It can be called with F.cross_entropy().\n",
    "# Hint: Pass through the model -> Backpropagate gradients -> Take gradient step\n",
    "#########################################################################\n",
    "\n",
    "def train(model, dl_train, optimizer, epoch, log_interval=100, device='cpu'):\n",
    "    model.train()\n",
    "    correct = 0\n",
    "    for batch_idx, (data, target) in enumerate(dl_train):\n",
    "        data, target = data.to(device), target.to(device)\n",
    "        \n",
    "        # first we need to zero the gradient, otherwise PyTorch would accumulate them\n",
    "        optimizer.zero_grad()         \n",
    "        \n",
    "        ##### implement this part #####\n",
    "        output = model.forward(data)\n",
    "        loss = F.cross_entropy(output, target)\n",
    "        loss.backward()\n",
    "        optimizer.step()        \n",
    "        ###############################\n",
    "\n",
    "        # stats\n",
    "        pred = output.argmax(dim=1, keepdim=True)  # get the index of the max log-probability\n",
    "        correct += pred.eq(target.view_as(pred)).sum().item()\n",
    "\n",
    "        if batch_idx % log_interval == 0:\n",
    "            print('Train Epoch: {} [{}/{} ({:.0f}%)]\\tLoss: {:.6f}'.format(\n",
    "                epoch, batch_idx * len(data), len(dl_train.dataset),\n",
    "                100. * batch_idx / len(dl_train), loss.item()))\n",
    "\n",
    "    print('\\nTrain set: Average loss: {:.4f}, Accuracy: {}/{} ({:.1f}%)\\n'.format(\n",
    "        loss, correct, len(dl_train.dataset),\n",
    "        100. * correct / len(dl_train.dataset)))"
   ]
  },
  {
   "cell_type": "markdown",
   "metadata": {
    "id": "ZbAuqlV4OZ5Y"
   },
   "source": [
    "Ok, the setup is almost done. The onoly missing part is the optimizer. We are going to use Adam."
   ]
  },
  {
   "cell_type": "code",
   "execution_count": 17,
   "metadata": {
    "id": "22sdH7UCOZ5Z"
   },
   "outputs": [],
   "source": [
    "# reinitialize the mlp, so we can play with parameters right here\n",
    "mlp = MLP(nInput, nOutput, nLayer, nHidden, act_fn)\n",
    "optimizer = optim.Adam(mlp.parameters())"
   ]
  },
  {
   "cell_type": "code",
   "execution_count": 18,
   "metadata": {
    "colab": {
     "base_uri": "https://localhost:8080/"
    },
    "id": "mUiWSm4LOZ5Z",
    "outputId": "f20a14b0-1828-4291-f97d-f41c58efd330",
    "scrolled": true
   },
   "outputs": [
    {
     "name": "stdout",
     "output_type": "stream",
     "text": [
      "Train Epoch: 1 [0/60000 (0%)]\tLoss: 2.345213\n",
      "Train Epoch: 1 [6400/60000 (11%)]\tLoss: 1.171623\n",
      "Train Epoch: 1 [12800/60000 (21%)]\tLoss: 0.586547\n",
      "Train Epoch: 1 [19200/60000 (32%)]\tLoss: 0.516484\n",
      "Train Epoch: 1 [25600/60000 (43%)]\tLoss: 0.479384\n",
      "Train Epoch: 1 [32000/60000 (53%)]\tLoss: 0.328059\n",
      "Train Epoch: 1 [38400/60000 (64%)]\tLoss: 0.307270\n",
      "Train Epoch: 1 [44800/60000 (75%)]\tLoss: 0.358518\n",
      "Train Epoch: 1 [51200/60000 (85%)]\tLoss: 0.277210\n",
      "Train Epoch: 1 [57600/60000 (96%)]\tLoss: 0.381267\n",
      "\n",
      "Train set: Average loss: 0.1728, Accuracy: 50030/60000 (83.4%)\n",
      "\n",
      "\n",
      "Test set: Average loss: 0.3015, Accuracy: 9097/10000 (90.970%)\n",
      "\n",
      "Train Epoch: 2 [0/60000 (0%)]\tLoss: 0.221607\n",
      "Train Epoch: 2 [6400/60000 (11%)]\tLoss: 0.364924\n",
      "Train Epoch: 2 [12800/60000 (21%)]\tLoss: 0.349326\n",
      "Train Epoch: 2 [19200/60000 (32%)]\tLoss: 0.312799\n",
      "Train Epoch: 2 [25600/60000 (43%)]\tLoss: 0.378433\n",
      "Train Epoch: 2 [32000/60000 (53%)]\tLoss: 0.206041\n",
      "Train Epoch: 2 [38400/60000 (64%)]\tLoss: 0.102419\n",
      "Train Epoch: 2 [44800/60000 (75%)]\tLoss: 0.279449\n",
      "Train Epoch: 2 [51200/60000 (85%)]\tLoss: 0.219468\n",
      "Train Epoch: 2 [57600/60000 (96%)]\tLoss: 0.318003\n",
      "\n",
      "Train set: Average loss: 0.3647, Accuracy: 55255/60000 (92.1%)\n",
      "\n",
      "\n",
      "Test set: Average loss: 0.2437, Accuracy: 9272/10000 (92.720%)\n",
      "\n",
      "Train Epoch: 3 [0/60000 (0%)]\tLoss: 0.138963\n",
      "Train Epoch: 3 [6400/60000 (11%)]\tLoss: 0.126449\n",
      "Train Epoch: 3 [12800/60000 (21%)]\tLoss: 0.257948\n",
      "Train Epoch: 3 [19200/60000 (32%)]\tLoss: 0.237223\n",
      "Train Epoch: 3 [25600/60000 (43%)]\tLoss: 0.434558\n",
      "Train Epoch: 3 [32000/60000 (53%)]\tLoss: 0.280326\n",
      "Train Epoch: 3 [38400/60000 (64%)]\tLoss: 0.085792\n",
      "Train Epoch: 3 [44800/60000 (75%)]\tLoss: 0.418186\n",
      "Train Epoch: 3 [51200/60000 (85%)]\tLoss: 0.087018\n",
      "Train Epoch: 3 [57600/60000 (96%)]\tLoss: 0.245615\n",
      "\n",
      "Train set: Average loss: 0.2767, Accuracy: 55965/60000 (93.3%)\n",
      "\n",
      "\n",
      "Test set: Average loss: 0.2188, Accuracy: 9352/10000 (93.520%)\n",
      "\n",
      "Train Epoch: 4 [0/60000 (0%)]\tLoss: 0.162394\n",
      "Train Epoch: 4 [6400/60000 (11%)]\tLoss: 0.131782\n",
      "Train Epoch: 4 [12800/60000 (21%)]\tLoss: 0.080114\n",
      "Train Epoch: 4 [19200/60000 (32%)]\tLoss: 0.180801\n",
      "Train Epoch: 4 [25600/60000 (43%)]\tLoss: 0.067936\n",
      "Train Epoch: 4 [32000/60000 (53%)]\tLoss: 0.212185\n",
      "Train Epoch: 4 [38400/60000 (64%)]\tLoss: 0.151062\n",
      "Train Epoch: 4 [44800/60000 (75%)]\tLoss: 0.293228\n",
      "Train Epoch: 4 [51200/60000 (85%)]\tLoss: 0.372503\n",
      "Train Epoch: 4 [57600/60000 (96%)]\tLoss: 0.257872\n",
      "\n",
      "Train set: Average loss: 0.1415, Accuracy: 56471/60000 (94.1%)\n",
      "\n",
      "\n",
      "Test set: Average loss: 0.1916, Accuracy: 9404/10000 (94.040%)\n",
      "\n",
      "Train Epoch: 5 [0/60000 (0%)]\tLoss: 0.051321\n",
      "Train Epoch: 5 [6400/60000 (11%)]\tLoss: 0.149602\n",
      "Train Epoch: 5 [12800/60000 (21%)]\tLoss: 0.166451\n",
      "Train Epoch: 5 [19200/60000 (32%)]\tLoss: 0.196053\n",
      "Train Epoch: 5 [25600/60000 (43%)]\tLoss: 0.192149\n",
      "Train Epoch: 5 [32000/60000 (53%)]\tLoss: 0.257546\n",
      "Train Epoch: 5 [38400/60000 (64%)]\tLoss: 0.208005\n",
      "Train Epoch: 5 [44800/60000 (75%)]\tLoss: 0.191178\n",
      "Train Epoch: 5 [51200/60000 (85%)]\tLoss: 0.061471\n",
      "Train Epoch: 5 [57600/60000 (96%)]\tLoss: 0.105060\n",
      "\n",
      "Train set: Average loss: 0.0202, Accuracy: 56754/60000 (94.6%)\n",
      "\n",
      "\n",
      "Test set: Average loss: 0.1759, Accuracy: 9459/10000 (94.590%)\n",
      "\n",
      "Train Epoch: 6 [0/60000 (0%)]\tLoss: 0.265035\n",
      "Train Epoch: 6 [6400/60000 (11%)]\tLoss: 0.159694\n",
      "Train Epoch: 6 [12800/60000 (21%)]\tLoss: 0.138948\n",
      "Train Epoch: 6 [19200/60000 (32%)]\tLoss: 0.261143\n",
      "Train Epoch: 6 [25600/60000 (43%)]\tLoss: 0.076803\n",
      "Train Epoch: 6 [32000/60000 (53%)]\tLoss: 0.056003\n",
      "Train Epoch: 6 [38400/60000 (64%)]\tLoss: 0.192944\n",
      "Train Epoch: 6 [44800/60000 (75%)]\tLoss: 0.212029\n",
      "Train Epoch: 6 [51200/60000 (85%)]\tLoss: 0.144319\n",
      "Train Epoch: 6 [57600/60000 (96%)]\tLoss: 0.359116\n",
      "\n",
      "Train set: Average loss: 0.2206, Accuracy: 57016/60000 (95.0%)\n",
      "\n",
      "\n",
      "Test set: Average loss: 0.1649, Accuracy: 9468/10000 (94.680%)\n",
      "\n",
      "Train Epoch: 7 [0/60000 (0%)]\tLoss: 0.140061\n",
      "Train Epoch: 7 [6400/60000 (11%)]\tLoss: 0.059092\n",
      "Train Epoch: 7 [12800/60000 (21%)]\tLoss: 0.068269\n",
      "Train Epoch: 7 [19200/60000 (32%)]\tLoss: 0.052694\n",
      "Train Epoch: 7 [25600/60000 (43%)]\tLoss: 0.192368\n",
      "Train Epoch: 7 [32000/60000 (53%)]\tLoss: 0.068619\n",
      "Train Epoch: 7 [38400/60000 (64%)]\tLoss: 0.028731\n",
      "Train Epoch: 7 [44800/60000 (75%)]\tLoss: 0.263479\n",
      "Train Epoch: 7 [51200/60000 (85%)]\tLoss: 0.145246\n",
      "Train Epoch: 7 [57600/60000 (96%)]\tLoss: 0.199553\n",
      "\n",
      "Train set: Average loss: 0.4180, Accuracy: 57210/60000 (95.3%)\n",
      "\n",
      "\n",
      "Test set: Average loss: 0.1601, Accuracy: 9499/10000 (94.990%)\n",
      "\n",
      "Train Epoch: 8 [0/60000 (0%)]\tLoss: 0.067124\n",
      "Train Epoch: 8 [6400/60000 (11%)]\tLoss: 0.151413\n",
      "Train Epoch: 8 [12800/60000 (21%)]\tLoss: 0.160673\n",
      "Train Epoch: 8 [19200/60000 (32%)]\tLoss: 0.021625\n",
      "Train Epoch: 8 [25600/60000 (43%)]\tLoss: 0.082513\n",
      "Train Epoch: 8 [32000/60000 (53%)]\tLoss: 0.160022\n",
      "Train Epoch: 8 [38400/60000 (64%)]\tLoss: 0.252338\n",
      "Train Epoch: 8 [44800/60000 (75%)]\tLoss: 0.180507\n",
      "Train Epoch: 8 [51200/60000 (85%)]\tLoss: 0.075005\n",
      "Train Epoch: 8 [57600/60000 (96%)]\tLoss: 0.031026\n",
      "\n",
      "Train set: Average loss: 0.0417, Accuracy: 57343/60000 (95.6%)\n",
      "\n",
      "\n",
      "Test set: Average loss: 0.1627, Accuracy: 9496/10000 (94.960%)\n",
      "\n",
      "Train Epoch: 9 [0/60000 (0%)]\tLoss: 0.163593\n",
      "Train Epoch: 9 [6400/60000 (11%)]\tLoss: 0.076101\n",
      "Train Epoch: 9 [12800/60000 (21%)]\tLoss: 0.206725\n",
      "Train Epoch: 9 [19200/60000 (32%)]\tLoss: 0.131263\n",
      "Train Epoch: 9 [25600/60000 (43%)]\tLoss: 0.092564\n",
      "Train Epoch: 9 [32000/60000 (53%)]\tLoss: 0.259725\n",
      "Train Epoch: 9 [38400/60000 (64%)]\tLoss: 0.370048\n",
      "Train Epoch: 9 [44800/60000 (75%)]\tLoss: 0.121658\n",
      "Train Epoch: 9 [51200/60000 (85%)]\tLoss: 0.070882\n",
      "Train Epoch: 9 [57600/60000 (96%)]\tLoss: 0.060542\n",
      "\n",
      "Train set: Average loss: 0.2788, Accuracy: 57465/60000 (95.8%)\n",
      "\n",
      "\n",
      "Test set: Average loss: 0.1581, Accuracy: 9519/10000 (95.190%)\n",
      "\n",
      "Train Epoch: 10 [0/60000 (0%)]\tLoss: 0.110602\n",
      "Train Epoch: 10 [6400/60000 (11%)]\tLoss: 0.315841\n",
      "Train Epoch: 10 [12800/60000 (21%)]\tLoss: 0.157457\n",
      "Train Epoch: 10 [19200/60000 (32%)]\tLoss: 0.152278\n",
      "Train Epoch: 10 [25600/60000 (43%)]\tLoss: 0.226873\n",
      "Train Epoch: 10 [32000/60000 (53%)]\tLoss: 0.106371\n",
      "Train Epoch: 10 [38400/60000 (64%)]\tLoss: 0.120282\n",
      "Train Epoch: 10 [44800/60000 (75%)]\tLoss: 0.118859\n",
      "Train Epoch: 10 [51200/60000 (85%)]\tLoss: 0.175951\n",
      "Train Epoch: 10 [57600/60000 (96%)]\tLoss: 0.098077\n",
      "\n",
      "Train set: Average loss: 0.0580, Accuracy: 57546/60000 (95.9%)\n",
      "\n",
      "\n",
      "Test set: Average loss: 0.1666, Accuracy: 9496/10000 (94.960%)\n",
      "\n",
      "Training is finished.\n"
     ]
    }
   ],
   "source": [
    "epochs = 10\n",
    "for epoch in range(1, epochs + 1):\n",
    "    train(mlp, dl_train, optimizer, epoch, log_interval=100)\n",
    "    test(mlp, dl_test)\n",
    "\n",
    "print ('Training is finished.')"
   ]
  },
  {
   "cell_type": "markdown",
   "metadata": {
    "id": "Gab76jE3OZ5b"
   },
   "source": [
    "After training, you should see test accuracies of > **94%** - By they way, here we report test accuracy, the last exercises reported test error. Accuracy is simply (1 - error). Both metrics are commonly reported, there is no clear preference in literature for one or the other."
   ]
  },
  {
   "cell_type": "markdown",
   "metadata": {
    "id": "7A-y6Hl0OZ5c"
   },
   "source": [
    "Now, can you do some parameter tuning to boost the test accuracy to > **97%**?"
   ]
  },
  {
   "cell_type": "code",
   "execution_count": 19,
   "metadata": {
    "colab": {
     "base_uri": "https://localhost:8080/"
    },
    "id": "RL2v355dOZ5c",
    "outputId": "7af56067-30d0-402f-dbd5-6847dab4be8d"
   },
   "outputs": [
    {
     "name": "stdout",
     "output_type": "stream",
     "text": [
      "Train Epoch: 1 [0/60000 (0%)]\tLoss: 2.315270\n",
      "Train Epoch: 1 [6400/60000 (11%)]\tLoss: 0.436816\n",
      "Train Epoch: 1 [12800/60000 (21%)]\tLoss: 0.146154\n",
      "Train Epoch: 1 [19200/60000 (32%)]\tLoss: 0.401821\n",
      "Train Epoch: 1 [25600/60000 (43%)]\tLoss: 0.108798\n",
      "Train Epoch: 1 [32000/60000 (53%)]\tLoss: 0.255700\n",
      "Train Epoch: 1 [38400/60000 (64%)]\tLoss: 0.168938\n",
      "Train Epoch: 1 [44800/60000 (75%)]\tLoss: 0.579764\n",
      "Train Epoch: 1 [51200/60000 (85%)]\tLoss: 0.200368\n",
      "Train Epoch: 1 [57600/60000 (96%)]\tLoss: 0.196753\n",
      "\n",
      "Train set: Average loss: 0.1619, Accuracy: 53783/60000 (89.6%)\n",
      "\n",
      "\n",
      "Test set: Average loss: 0.1592, Accuracy: 9491/10000 (94.910%)\n",
      "\n",
      "Train Epoch: 2 [0/60000 (0%)]\tLoss: 0.097491\n",
      "Train Epoch: 2 [6400/60000 (11%)]\tLoss: 0.291910\n",
      "Train Epoch: 2 [12800/60000 (21%)]\tLoss: 0.108989\n",
      "Train Epoch: 2 [19200/60000 (32%)]\tLoss: 0.117406\n",
      "Train Epoch: 2 [25600/60000 (43%)]\tLoss: 0.089493\n",
      "Train Epoch: 2 [32000/60000 (53%)]\tLoss: 0.149931\n",
      "Train Epoch: 2 [38400/60000 (64%)]\tLoss: 0.120851\n",
      "Train Epoch: 2 [44800/60000 (75%)]\tLoss: 0.181781\n",
      "Train Epoch: 2 [51200/60000 (85%)]\tLoss: 0.072097\n",
      "Train Epoch: 2 [57600/60000 (96%)]\tLoss: 0.147947\n",
      "\n",
      "Train set: Average loss: 0.0285, Accuracy: 57325/60000 (95.5%)\n",
      "\n",
      "\n",
      "Test set: Average loss: 0.1296, Accuracy: 9593/10000 (95.930%)\n",
      "\n",
      "Train Epoch: 3 [0/60000 (0%)]\tLoss: 0.051810\n",
      "Train Epoch: 3 [6400/60000 (11%)]\tLoss: 0.148933\n",
      "Train Epoch: 3 [12800/60000 (21%)]\tLoss: 0.044152\n",
      "Train Epoch: 3 [19200/60000 (32%)]\tLoss: 0.123790\n",
      "Train Epoch: 3 [25600/60000 (43%)]\tLoss: 0.133259\n",
      "Train Epoch: 3 [32000/60000 (53%)]\tLoss: 0.103304\n",
      "Train Epoch: 3 [38400/60000 (64%)]\tLoss: 0.064464\n",
      "Train Epoch: 3 [44800/60000 (75%)]\tLoss: 0.169678\n",
      "Train Epoch: 3 [51200/60000 (85%)]\tLoss: 0.146966\n",
      "Train Epoch: 3 [57600/60000 (96%)]\tLoss: 0.097040\n",
      "\n",
      "Train set: Average loss: 0.0433, Accuracy: 57937/60000 (96.6%)\n",
      "\n",
      "\n",
      "Test set: Average loss: 0.1009, Accuracy: 9687/10000 (96.870%)\n",
      "\n",
      "Train Epoch: 4 [0/60000 (0%)]\tLoss: 0.006334\n",
      "Train Epoch: 4 [6400/60000 (11%)]\tLoss: 0.061783\n",
      "Train Epoch: 4 [12800/60000 (21%)]\tLoss: 0.052421\n",
      "Train Epoch: 4 [19200/60000 (32%)]\tLoss: 0.042215\n",
      "Train Epoch: 4 [25600/60000 (43%)]\tLoss: 0.147934\n",
      "Train Epoch: 4 [32000/60000 (53%)]\tLoss: 0.116544\n",
      "Train Epoch: 4 [38400/60000 (64%)]\tLoss: 0.089488\n",
      "Train Epoch: 4 [44800/60000 (75%)]\tLoss: 0.056919\n",
      "Train Epoch: 4 [51200/60000 (85%)]\tLoss: 0.101632\n",
      "Train Epoch: 4 [57600/60000 (96%)]\tLoss: 0.020394\n",
      "\n",
      "Train set: Average loss: 0.1019, Accuracy: 58316/60000 (97.2%)\n",
      "\n",
      "\n",
      "Test set: Average loss: 0.1004, Accuracy: 9691/10000 (96.910%)\n",
      "\n",
      "Train Epoch: 5 [0/60000 (0%)]\tLoss: 0.029693\n",
      "Train Epoch: 5 [6400/60000 (11%)]\tLoss: 0.128833\n",
      "Train Epoch: 5 [12800/60000 (21%)]\tLoss: 0.033152\n",
      "Train Epoch: 5 [19200/60000 (32%)]\tLoss: 0.041562\n",
      "Train Epoch: 5 [25600/60000 (43%)]\tLoss: 0.014234\n",
      "Train Epoch: 5 [32000/60000 (53%)]\tLoss: 0.097958\n",
      "Train Epoch: 5 [38400/60000 (64%)]\tLoss: 0.126714\n",
      "Train Epoch: 5 [44800/60000 (75%)]\tLoss: 0.137436\n",
      "Train Epoch: 5 [51200/60000 (85%)]\tLoss: 0.112379\n",
      "Train Epoch: 5 [57600/60000 (96%)]\tLoss: 0.049471\n",
      "\n",
      "Train set: Average loss: 0.0447, Accuracy: 58519/60000 (97.5%)\n",
      "\n",
      "\n",
      "Test set: Average loss: 0.1071, Accuracy: 9677/10000 (96.770%)\n",
      "\n",
      "Train Epoch: 6 [0/60000 (0%)]\tLoss: 0.046122\n",
      "Train Epoch: 6 [6400/60000 (11%)]\tLoss: 0.042966\n",
      "Train Epoch: 6 [12800/60000 (21%)]\tLoss: 0.044266\n",
      "Train Epoch: 6 [19200/60000 (32%)]\tLoss: 0.045092\n",
      "Train Epoch: 6 [25600/60000 (43%)]\tLoss: 0.006101\n",
      "Train Epoch: 6 [32000/60000 (53%)]\tLoss: 0.101170\n",
      "Train Epoch: 6 [38400/60000 (64%)]\tLoss: 0.051072\n",
      "Train Epoch: 6 [44800/60000 (75%)]\tLoss: 0.044054\n",
      "Train Epoch: 6 [51200/60000 (85%)]\tLoss: 0.019745\n",
      "Train Epoch: 6 [57600/60000 (96%)]\tLoss: 0.012697\n",
      "\n",
      "Train set: Average loss: 0.0079, Accuracy: 58729/60000 (97.9%)\n",
      "\n",
      "\n",
      "Test set: Average loss: 0.0907, Accuracy: 9715/10000 (97.150%)\n",
      "\n",
      "Train Epoch: 7 [0/60000 (0%)]\tLoss: 0.128497\n",
      "Train Epoch: 7 [6400/60000 (11%)]\tLoss: 0.025633\n",
      "Train Epoch: 7 [12800/60000 (21%)]\tLoss: 0.034139\n",
      "Train Epoch: 7 [19200/60000 (32%)]\tLoss: 0.198287\n",
      "Train Epoch: 7 [25600/60000 (43%)]\tLoss: 0.033267\n",
      "Train Epoch: 7 [32000/60000 (53%)]\tLoss: 0.072280\n",
      "Train Epoch: 7 [38400/60000 (64%)]\tLoss: 0.011032\n",
      "Train Epoch: 7 [44800/60000 (75%)]\tLoss: 0.041728\n",
      "Train Epoch: 7 [51200/60000 (85%)]\tLoss: 0.007506\n",
      "Train Epoch: 7 [57600/60000 (96%)]\tLoss: 0.069378\n",
      "\n",
      "Train set: Average loss: 0.0072, Accuracy: 58849/60000 (98.1%)\n",
      "\n",
      "\n",
      "Test set: Average loss: 0.0963, Accuracy: 9733/10000 (97.330%)\n",
      "\n",
      "Train Epoch: 8 [0/60000 (0%)]\tLoss: 0.047747\n",
      "Train Epoch: 8 [6400/60000 (11%)]\tLoss: 0.019650\n",
      "Train Epoch: 8 [12800/60000 (21%)]\tLoss: 0.032674\n",
      "Train Epoch: 8 [19200/60000 (32%)]\tLoss: 0.071262\n",
      "Train Epoch: 8 [25600/60000 (43%)]\tLoss: 0.004675\n",
      "Train Epoch: 8 [32000/60000 (53%)]\tLoss: 0.036203\n",
      "Train Epoch: 8 [38400/60000 (64%)]\tLoss: 0.065292\n",
      "Train Epoch: 8 [44800/60000 (75%)]\tLoss: 0.053682\n",
      "Train Epoch: 8 [51200/60000 (85%)]\tLoss: 0.225032\n",
      "Train Epoch: 8 [57600/60000 (96%)]\tLoss: 0.055443\n",
      "\n",
      "Train set: Average loss: 0.0050, Accuracy: 59018/60000 (98.4%)\n",
      "\n",
      "\n",
      "Test set: Average loss: 0.1063, Accuracy: 9691/10000 (96.910%)\n",
      "\n",
      "Train Epoch: 9 [0/60000 (0%)]\tLoss: 0.023895\n",
      "Train Epoch: 9 [6400/60000 (11%)]\tLoss: 0.032022\n",
      "Train Epoch: 9 [12800/60000 (21%)]\tLoss: 0.013680\n",
      "Train Epoch: 9 [19200/60000 (32%)]\tLoss: 0.031345\n",
      "Train Epoch: 9 [25600/60000 (43%)]\tLoss: 0.025172\n",
      "Train Epoch: 9 [32000/60000 (53%)]\tLoss: 0.013146\n",
      "Train Epoch: 9 [38400/60000 (64%)]\tLoss: 0.046060\n",
      "Train Epoch: 9 [44800/60000 (75%)]\tLoss: 0.019317\n",
      "Train Epoch: 9 [51200/60000 (85%)]\tLoss: 0.003074\n",
      "Train Epoch: 9 [57600/60000 (96%)]\tLoss: 0.012362\n",
      "\n",
      "Train set: Average loss: 0.0305, Accuracy: 59122/60000 (98.5%)\n",
      "\n",
      "\n",
      "Test set: Average loss: 0.1101, Accuracy: 9706/10000 (97.060%)\n",
      "\n",
      "Train Epoch: 10 [0/60000 (0%)]\tLoss: 0.020702\n",
      "Train Epoch: 10 [6400/60000 (11%)]\tLoss: 0.004851\n",
      "Train Epoch: 10 [12800/60000 (21%)]\tLoss: 0.101561\n",
      "Train Epoch: 10 [19200/60000 (32%)]\tLoss: 0.078318\n",
      "Train Epoch: 10 [25600/60000 (43%)]\tLoss: 0.053182\n",
      "Train Epoch: 10 [32000/60000 (53%)]\tLoss: 0.023261\n",
      "Train Epoch: 10 [38400/60000 (64%)]\tLoss: 0.027544\n",
      "Train Epoch: 10 [44800/60000 (75%)]\tLoss: 0.031395\n",
      "Train Epoch: 10 [51200/60000 (85%)]\tLoss: 0.108171\n",
      "Train Epoch: 10 [57600/60000 (96%)]\tLoss: 0.032870\n",
      "\n",
      "Train set: Average loss: 0.0091, Accuracy: 59186/60000 (98.6%)\n",
      "\n",
      "\n",
      "Test set: Average loss: 0.0979, Accuracy: 9726/10000 (97.260%)\n",
      "\n",
      "Training is finished.\n"
     ]
    }
   ],
   "source": [
    "#########################################################################\n",
    "#TODO: modify the parameters below to see which setting that you can get to 97%\n",
    "#########################################################################\n",
    "nLayer = 2 \n",
    "nHidden = 50 # 50 : 97.5\n",
    "act_fn = nn.ReLU()\n",
    "\n",
    "# reinitialize the mlp, so we can play with parameters right here\n",
    "mlp = MLP(nInput, nOutput, nLayer, nHidden, act_fn)\n",
    "optimizer = optim.Adam(mlp.parameters())\n",
    "\n",
    "epochs = 10\n",
    "for epoch in range(1, epochs + 1):\n",
    "    train(mlp, dl_train, optimizer, epoch, log_interval=100)\n",
    "    test(mlp, dl_test)\n",
    "\n",
    "print ('Training is finished.')"
   ]
  },
  {
   "cell_type": "markdown",
   "metadata": {
    "id": "XvaD_JptOZ5d"
   },
   "source": [
    "Before you move on to the next exercise, you can further play with the other parameters (learning rate, epochs, a different optimizer, etc.) to get a feeling what can improve or hamper performance. "
   ]
  },
  {
   "cell_type": "markdown",
   "metadata": {
    "id": "Hs-dFUudOZ5d"
   },
   "source": [
    "## CNN\n",
    "Alright, we matched our prior performance. Let's surpass it! You will soon see the power of CNN by building a small one yourself. The structure should be as follows\n",
    "\n",
    "| CNN Architecture                             \t|\n",
    "|----------------------------------------------\t|\n",
    "| Conv: $C_{in}=1, C_{out}=32, K=3, S=1, P=0$  \t|\n",
    "| ReLU                                         \t|\n",
    "| Conv: $C_{in}=32, C_{out}=64, K=3, S=1, P=0$ \t|\n",
    "| ReLU                                         \t|\n",
    "| MaxPool2d: $K=2, S=2, P=0$                   \t|\n",
    "| Dropout: $p=0.25$                            \t|\n",
    "| Linear: $C_{in}=9216, C_{out}=128$           \t|\n",
    "| ReLU                                         \t|\n",
    "| Dropout: $p=0.5$                             \t|\n",
    "| Linear: $C_{in}=128, C_{out}=10$             \t|\n",
    "\n",
    "The layers you will need are: \n",
    "\n",
    "`nn.Conv2d,  nn.Linear,  nn.Dropout, nn.MaxPool2d, nn.Flatten`\n",
    "\n",
    "For layers without parameters you can alternatively use function in the forward pass:  \n",
    "\n",
    "`F.max_pool2d, torch.flatten`"
   ]
  },
  {
   "cell_type": "code",
   "execution_count": 20,
   "metadata": {
    "id": "qk8UlLRKOZ5e"
   },
   "outputs": [],
   "source": [
    "#########################################################################\n",
    "# TODO: Implement the __init__ and forward method of the CNN class. \n",
    "# Hint: do not forget to flatten the appropriate dimension after the convolutional blocks. \n",
    "# A linear layers expect input of the size (B, H) with batch size B and feature size H\n",
    "#########################################################################\n",
    "\n",
    "class CNN(nn.Module):\n",
    "    def __init__(self):\n",
    "        super(CNN, self).__init__()\n",
    "        self.model = nn.Sequential(\n",
    "                     nn.Conv2d(1,32,3,stride=1,padding=0),\n",
    "                     nn.ReLU(),\n",
    "                     nn.Conv2d(32,64,3,stride=1,padding=0),\n",
    "                     nn.ReLU(),\n",
    "                     nn.MaxPool2d(2,stride=2,padding=0),\n",
    "                     nn.Dropout(p=0.25),\n",
    "                     nn.Flatten(),\n",
    "                     nn.Linear(9216,128),\n",
    "                     nn.ReLU(),\n",
    "                     nn.Dropout(p=0.25),\n",
    "                     nn.Linear(128,10)\n",
    "        )\n",
    "\n",
    "    def forward(self, x):\n",
    "        return self.model(x) #preds after passing x through the model\n"
   ]
  },
  {
   "cell_type": "code",
   "execution_count": 21,
   "metadata": {
    "colab": {
     "base_uri": "https://localhost:8080/"
    },
    "id": "ltG0yepaOZ5e",
    "outputId": "029c664b-3580-4fb1-ce09-f34d6a21d39a"
   },
   "outputs": [
    {
     "data": {
      "text/plain": [
       "torch.Size([1, 10])"
      ]
     },
     "execution_count": 21,
     "metadata": {},
     "output_type": "execute_result"
    }
   ],
   "source": [
    "# Let's test if the forward pass works\n",
    "# this should print torch.Size([1, 10])\n",
    "t = torch.randn(1,1,28,28)\n",
    "cnn = CNN()\n",
    "cnn(t).shape"
   ]
  },
  {
   "cell_type": "markdown",
   "metadata": {
    "id": "jgwLzZF7OZ5e"
   },
   "source": [
    "Alright, let's train!"
   ]
  },
  {
   "cell_type": "code",
   "execution_count": 22,
   "metadata": {
    "id": "PJnYsYJzOZ5e"
   },
   "outputs": [],
   "source": [
    "optimizer = optim.Adam(cnn.parameters())"
   ]
  },
  {
   "cell_type": "code",
   "execution_count": 23,
   "metadata": {
    "colab": {
     "base_uri": "https://localhost:8080/"
    },
    "id": "T2mGGaEMOZ5f",
    "outputId": "021e8db2-8eb9-45f3-ef18-88f122dfd839",
    "scrolled": true
   },
   "outputs": [
    {
     "name": "stdout",
     "output_type": "stream",
     "text": [
      "Train Epoch: 1 [0/60000 (0%)]\tLoss: 2.301837\n",
      "Train Epoch: 1 [6400/60000 (11%)]\tLoss: 0.417301\n",
      "Train Epoch: 1 [12800/60000 (21%)]\tLoss: 0.368049\n",
      "Train Epoch: 1 [19200/60000 (32%)]\tLoss: 0.072831\n",
      "Train Epoch: 1 [25600/60000 (43%)]\tLoss: 0.127449\n",
      "Train Epoch: 1 [32000/60000 (53%)]\tLoss: 0.040273\n",
      "Train Epoch: 1 [38400/60000 (64%)]\tLoss: 0.079956\n",
      "Train Epoch: 1 [44800/60000 (75%)]\tLoss: 0.027843\n",
      "Train Epoch: 1 [51200/60000 (85%)]\tLoss: 0.167739\n",
      "Train Epoch: 1 [57600/60000 (96%)]\tLoss: 0.067368\n",
      "\n",
      "Train set: Average loss: 0.0935, Accuracy: 57188/60000 (95.3%)\n",
      "\n",
      "\n",
      "Test set: Average loss: 0.0453, Accuracy: 9847/10000 (98.470%)\n",
      "\n",
      "Train Epoch: 2 [0/60000 (0%)]\tLoss: 0.142667\n",
      "Train Epoch: 2 [6400/60000 (11%)]\tLoss: 0.007204\n",
      "Train Epoch: 2 [12800/60000 (21%)]\tLoss: 0.001884\n",
      "Train Epoch: 2 [19200/60000 (32%)]\tLoss: 0.009981\n",
      "Train Epoch: 2 [25600/60000 (43%)]\tLoss: 0.107720\n",
      "Train Epoch: 2 [32000/60000 (53%)]\tLoss: 0.008578\n",
      "Train Epoch: 2 [38400/60000 (64%)]\tLoss: 0.142789\n",
      "Train Epoch: 2 [44800/60000 (75%)]\tLoss: 0.045697\n",
      "Train Epoch: 2 [51200/60000 (85%)]\tLoss: 0.011052\n",
      "Train Epoch: 2 [57600/60000 (96%)]\tLoss: 0.088640\n",
      "\n",
      "Train set: Average loss: 0.0405, Accuracy: 58991/60000 (98.3%)\n",
      "\n",
      "\n",
      "Test set: Average loss: 0.0350, Accuracy: 9886/10000 (98.860%)\n",
      "\n",
      "Train Epoch: 3 [0/60000 (0%)]\tLoss: 0.080092\n",
      "Train Epoch: 3 [6400/60000 (11%)]\tLoss: 0.003481\n",
      "Train Epoch: 3 [12800/60000 (21%)]\tLoss: 0.014754\n",
      "Train Epoch: 3 [19200/60000 (32%)]\tLoss: 0.044631\n",
      "Train Epoch: 3 [25600/60000 (43%)]\tLoss: 0.036443\n",
      "Train Epoch: 3 [32000/60000 (53%)]\tLoss: 0.048148\n",
      "Train Epoch: 3 [38400/60000 (64%)]\tLoss: 0.010608\n",
      "Train Epoch: 3 [44800/60000 (75%)]\tLoss: 0.015570\n",
      "Train Epoch: 3 [51200/60000 (85%)]\tLoss: 0.032623\n",
      "Train Epoch: 3 [57600/60000 (96%)]\tLoss: 0.012974\n",
      "\n",
      "Train set: Average loss: 0.0323, Accuracy: 59249/60000 (98.7%)\n",
      "\n",
      "\n",
      "Test set: Average loss: 0.0320, Accuracy: 9896/10000 (98.960%)\n",
      "\n",
      "Train Epoch: 4 [0/60000 (0%)]\tLoss: 0.045756\n",
      "Train Epoch: 4 [6400/60000 (11%)]\tLoss: 0.016323\n",
      "Train Epoch: 4 [12800/60000 (21%)]\tLoss: 0.149834\n",
      "Train Epoch: 4 [19200/60000 (32%)]\tLoss: 0.058428\n",
      "Train Epoch: 4 [25600/60000 (43%)]\tLoss: 0.019165\n",
      "Train Epoch: 4 [32000/60000 (53%)]\tLoss: 0.018796\n",
      "Train Epoch: 4 [38400/60000 (64%)]\tLoss: 0.036883\n",
      "Train Epoch: 4 [44800/60000 (75%)]\tLoss: 0.003479\n",
      "Train Epoch: 4 [51200/60000 (85%)]\tLoss: 0.091641\n",
      "Train Epoch: 4 [57600/60000 (96%)]\tLoss: 0.022349\n",
      "\n",
      "Train set: Average loss: 0.1370, Accuracy: 59370/60000 (99.0%)\n",
      "\n",
      "\n",
      "Test set: Average loss: 0.0266, Accuracy: 9915/10000 (99.150%)\n",
      "\n",
      "Train Epoch: 5 [0/60000 (0%)]\tLoss: 0.018727\n",
      "Train Epoch: 5 [6400/60000 (11%)]\tLoss: 0.001654\n",
      "Train Epoch: 5 [12800/60000 (21%)]\tLoss: 0.002094\n",
      "Train Epoch: 5 [19200/60000 (32%)]\tLoss: 0.074371\n",
      "Train Epoch: 5 [25600/60000 (43%)]\tLoss: 0.000558\n",
      "Train Epoch: 5 [32000/60000 (53%)]\tLoss: 0.030819\n",
      "Train Epoch: 5 [38400/60000 (64%)]\tLoss: 0.166013\n",
      "Train Epoch: 5 [44800/60000 (75%)]\tLoss: 0.050781\n",
      "Train Epoch: 5 [51200/60000 (85%)]\tLoss: 0.048675\n",
      "Train Epoch: 5 [57600/60000 (96%)]\tLoss: 0.030582\n",
      "\n",
      "Train set: Average loss: 0.0014, Accuracy: 59476/60000 (99.1%)\n",
      "\n",
      "\n",
      "Test set: Average loss: 0.0361, Accuracy: 9898/10000 (98.980%)\n",
      "\n"
     ]
    }
   ],
   "source": [
    "epochs = 5\n",
    "for epoch in range(1, epochs + 1):\n",
    "    train(cnn, dl_train, optimizer, epoch, log_interval=100)\n",
    "    test(cnn, dl_test)"
   ]
  },
  {
   "cell_type": "markdown",
   "metadata": {
    "id": "wtIU82IiOZ5f"
   },
   "source": [
    "This will probably take a bit longer to train, as a convolutional network is not very efficient on a CPU. The current settings should get you around **99%** accuracy. Nice! \n",
    "Again, you should try different hyperparameters and see how far you can push the performance."
   ]
  },
  {
   "cell_type": "markdown",
   "metadata": {
    "id": "pkDi4MsEOZ5g"
   },
   "source": [
    "### Inline Question\n",
    "\n",
    "If your model weight is randomly initalized, and no training is done as above. What accuracy do you think the model will get for a 10-class classification task in theory?\n",
    "\n",
    "**Your answer**: \n",
    "\n",
    "For a binary classifier it should not be better than guessing, so 50%. For a 10-class classifier the accuracy would be below 10%, when every label has an a priori probability of 1/10."
   ]
  },
  {
   "cell_type": "markdown",
   "metadata": {
    "id": "lIbqZv6AOZ5g"
   },
   "source": [
    "## Training on CIFAR10\n",
    "\n",
    "Now we are going to move to something more challenging - CIFAR10. We can reuse most of the code above. Thankfully, CIFAR is also a popular dataset, so we can again make use of a PyTorch convience function."
   ]
  },
  {
   "cell_type": "code",
   "execution_count": 24,
   "metadata": {
    "colab": {
     "base_uri": "https://localhost:8080/",
     "height": 85,
     "referenced_widgets": [
      "827f6b8cf7864955af20a4a2a3017db2",
      "fa2d3ac6b9cd4b4fb0df1aca16ae5730",
      "b4748f457fbe4f99a1756e52359c8ea8",
      "d4ede617053b4baaa32c64d430844bd1",
      "1f40c4cd777b4c678d92aeb960c96093",
      "f1584fb5abce44f09d26062bbed4833b",
      "6d9767b698d4410186e3c260f95c06f3",
      "115e37596c0e499a904a4101f69ee3e1",
      "80eddeaa1bb842108d24a369518cac4c",
      "e5ae412348e34334acfea296ec463b27",
      "9fed6b5ee0cc4cad8999ddd1eb111efb"
     ]
    },
    "id": "qiKnWOjcOZ5g",
    "outputId": "ece6af81-8104-4f7b-c017-b899f19fbbe5"
   },
   "outputs": [
    {
     "name": "stdout",
     "output_type": "stream",
     "text": [
      "Downloading https://www.cs.toronto.edu/~kriz/cifar-10-python.tar.gz to ./data/cifar-10-python.tar.gz\n"
     ]
    },
    {
     "data": {
      "application/vnd.jupyter.widget-view+json": {
       "model_id": "827f6b8cf7864955af20a4a2a3017db2",
       "version_major": 2,
       "version_minor": 0
      },
      "text/plain": [
       "  0%|          | 0/170498071 [00:00<?, ?it/s]"
      ]
     },
     "metadata": {},
     "output_type": "display_data"
    },
    {
     "name": "stdout",
     "output_type": "stream",
     "text": [
      "Extracting ./data/cifar-10-python.tar.gz to ./data\n"
     ]
    }
   ],
   "source": [
    "ds_train = datasets.CIFAR10(root='./data', train=True, download=True)"
   ]
  },
  {
   "cell_type": "markdown",
   "metadata": {
    "id": "FmuVGdpnOZ5h"
   },
   "source": [
    "This dataset is not normalized yet, so we need to calculate the normalization constants."
   ]
  },
  {
   "cell_type": "code",
   "execution_count": 25,
   "metadata": {
    "id": "Pu0XBmoCOZ5i"
   },
   "outputs": [],
   "source": [
    "ims_train = torch.tensor(ds_train.data)\n",
    "ims_train = ims_train.float() / 255."
   ]
  },
  {
   "cell_type": "code",
   "execution_count": 26,
   "metadata": {
    "colab": {
     "base_uri": "https://localhost:8080/"
    },
    "id": "GDcDcg15OZ5i",
    "outputId": "94a0c364-602c-423d-9a5e-777264459eab"
   },
   "outputs": [
    {
     "data": {
      "text/plain": [
       "tensor([0.2470, 0.2435, 0.2616])"
      ]
     },
     "execution_count": 26,
     "metadata": {},
     "output_type": "execute_result"
    }
   ],
   "source": [
    "ims_train.std((0,1,2))"
   ]
  },
  {
   "cell_type": "code",
   "execution_count": 27,
   "metadata": {
    "colab": {
     "base_uri": "https://localhost:8080/"
    },
    "id": "1CBM8WyqOZ5j",
    "outputId": "c30bb968-1366-47f0-ef87-481a1d5ef016"
   },
   "outputs": [
    {
     "name": "stdout",
     "output_type": "stream",
     "text": [
      "torch.Size([50000, 32, 32, 3])\n"
     ]
    }
   ],
   "source": [
    "#########################################################################\n",
    "# TODO: calculate the mean and std of CIFAR\n",
    "# hint: We want the mean and std of the channel dimension, these should\n",
    "# be 3 dimensional\n",
    "#########################################################################\n",
    "mu = torch.mean(ims_train, dim=(0,1,2))\n",
    "#r, g, b = torch.mean(ims_train, dim=[0, 1, 2])\n",
    "std = ims_train.std((0,1,2))\n",
    "print(ims_train.shape)"
   ]
  },
  {
   "cell_type": "code",
   "execution_count": 28,
   "metadata": {
    "colab": {
     "base_uri": "https://localhost:8080/"
    },
    "id": "f5JNaYX5OZ5j",
    "outputId": "19483879-2d6a-48e3-baef-1287c14e32be"
   },
   "outputs": [
    {
     "data": {
      "text/plain": [
       "tensor([0.4914, 0.4822, 0.4465])"
      ]
     },
     "execution_count": 28,
     "metadata": {},
     "output_type": "execute_result"
    }
   ],
   "source": [
    "torch.mean(ims_train, dim=(0,1,2))"
   ]
  },
  {
   "cell_type": "markdown",
   "metadata": {
    "id": "zC_UhYR3OZ5k"
   },
   "source": [
    "For CIFAR we want to make use of data augmentation to improve generalization. You will find all data augmentations data are included in torchvision here:\n",
    "\n",
    "https://pytorch.org/docs/stable/torchvision/transforms.html"
   ]
  },
  {
   "cell_type": "code",
   "execution_count": 29,
   "metadata": {
    "colab": {
     "base_uri": "https://localhost:8080/"
    },
    "id": "LCijdjY7OZ5k",
    "outputId": "0919073b-a567-4601-b306-ec91e1fdf227"
   },
   "outputs": [
    {
     "name": "stdout",
     "output_type": "stream",
     "text": [
      "Files already downloaded and verified\n",
      "Files already downloaded and verified\n"
     ]
    }
   ],
   "source": [
    "BATCH_SIZE = 128\n",
    "NUM_WORKERS = 4 # if you encounter some unexpected errors in data loading, try setting `NUM_WORKERS = 0`\n",
    "#########################################################################\n",
    "# TODO: Implement the proper transforms for the training and test dataloaders. \n",
    "# Then build train and test dataloaders with batch size 128 and 4 workers\n",
    "#\n",
    "# Train: \n",
    "# - Apply a random crop with size 32 on a padded version of the image with P=4\n",
    "# - Flip the image horizontally with a probability of 40 %\n",
    "# - Transform to a Tensor\n",
    "# - Normalize with the constants calculated above\n",
    "# Test: \n",
    "# - Transform to a Tensor\n",
    "# - Normalize with the constants calculated above\n",
    "#########################################################################\n",
    "\n",
    "\n",
    "# horizontal flip 40%\n",
    "#for img in ims_train:\n",
    "#    if random.random() > 0.6:\n",
    "#        transform_hflip = functional.hflip()\n",
    "\n",
    "# normalizing\n",
    "transform_train = transforms.Compose([\n",
    "    transforms.RandomCrop(32,padding=4),\n",
    "    transforms.RandomHorizontalFlip(p=0.4),\n",
    "    transforms.ToTensor(),\n",
    "    transforms.Normalize(mu, std)\n",
    "])\n",
    "\n",
    "\n",
    "transform_test = transforms.Compose([\n",
    "    transforms.ToTensor(),\n",
    "    transforms.Normalize(mu,std)  \n",
    "])\n",
    "\n",
    "ds_train = datasets.CIFAR10('./data', train=True, download=True, transform=transform_train)\n",
    "ds_test = datasets.CIFAR10('./data', train=False, download=True, transform=transform_test)\n",
    "\n",
    "dl_train = DataLoader(\n",
    "    ds_train,\n",
    "    batch_size=BATCH_SIZE,\n",
    "    num_workers=NUM_WORKERS,\n",
    "    shuffle=True\n",
    ")\n",
    "dl_test = DataLoader(\n",
    "    ds_test,\n",
    "    batch_size=BATCH_SIZE,\n",
    "    num_workers=NUM_WORKERS,\n",
    "    shuffle=False\n",
    ")\n"
   ]
  },
  {
   "cell_type": "markdown",
   "metadata": {
    "id": "fnh2sdqXOZ5l"
   },
   "source": [
    "Setting up the  optimizer, this time we use SGD. The scheduler adapts the learning rate during traing (you can ignore it)"
   ]
  },
  {
   "cell_type": "code",
   "execution_count": 30,
   "metadata": {
    "id": "c_6_FxuKOZ5l"
   },
   "outputs": [],
   "source": [
    "cnn = CNN()\n",
    "optimizer = optim.SGD(cnn.parameters(), lr=0.1, momentum=0.9, weight_decay=5e-4)\n",
    "scheduler = torch.optim.lr_scheduler.CosineAnnealingLR(optimizer, T_max=200)\n"
   ]
  },
  {
   "cell_type": "code",
   "execution_count": 31,
   "metadata": {
    "colab": {
     "base_uri": "https://localhost:8080/",
     "height": 389
    },
    "id": "br_5LEv-OZ5l",
    "outputId": "71a3874c-d777-40c4-fcd1-606d91e895cb",
    "scrolled": true
   },
   "outputs": [
    {
     "ename": "RuntimeError",
     "evalue": "ignored",
     "output_type": "error",
     "traceback": [
      "\u001b[0;31m---------------------------------------------------------------------------\u001b[0m",
      "\u001b[0;31mRuntimeError\u001b[0m                              Traceback (most recent call last)",
      "\u001b[0;32m<ipython-input-31-ba9429f4ef5e>\u001b[0m in \u001b[0;36m<module>\u001b[0;34m\u001b[0m\n\u001b[1;32m      1\u001b[0m \u001b[0mepochs\u001b[0m \u001b[0;34m=\u001b[0m \u001b[0;36m5\u001b[0m\u001b[0;34m\u001b[0m\u001b[0;34m\u001b[0m\u001b[0m\n\u001b[1;32m      2\u001b[0m \u001b[0;32mfor\u001b[0m \u001b[0mepoch\u001b[0m \u001b[0;32min\u001b[0m \u001b[0mrange\u001b[0m\u001b[0;34m(\u001b[0m\u001b[0;36m1\u001b[0m\u001b[0;34m,\u001b[0m \u001b[0mepochs\u001b[0m \u001b[0;34m+\u001b[0m \u001b[0;36m1\u001b[0m\u001b[0;34m)\u001b[0m\u001b[0;34m:\u001b[0m\u001b[0;34m\u001b[0m\u001b[0;34m\u001b[0m\u001b[0m\n\u001b[0;32m----> 3\u001b[0;31m     \u001b[0mtrain\u001b[0m\u001b[0;34m(\u001b[0m\u001b[0mcnn\u001b[0m\u001b[0;34m,\u001b[0m \u001b[0mdl_train\u001b[0m\u001b[0;34m,\u001b[0m \u001b[0moptimizer\u001b[0m\u001b[0;34m,\u001b[0m \u001b[0mepoch\u001b[0m\u001b[0;34m,\u001b[0m \u001b[0mlog_interval\u001b[0m\u001b[0;34m=\u001b[0m\u001b[0;36m100\u001b[0m\u001b[0;34m)\u001b[0m\u001b[0;34m\u001b[0m\u001b[0;34m\u001b[0m\u001b[0m\n\u001b[0m\u001b[1;32m      4\u001b[0m     \u001b[0mtest\u001b[0m\u001b[0;34m(\u001b[0m\u001b[0mcnn\u001b[0m\u001b[0;34m,\u001b[0m \u001b[0mdl_test\u001b[0m\u001b[0;34m)\u001b[0m\u001b[0;34m\u001b[0m\u001b[0;34m\u001b[0m\u001b[0m\n\u001b[1;32m      5\u001b[0m     \u001b[0mscheduler\u001b[0m\u001b[0;34m.\u001b[0m\u001b[0mstep\u001b[0m\u001b[0;34m(\u001b[0m\u001b[0;34m)\u001b[0m\u001b[0;34m\u001b[0m\u001b[0;34m\u001b[0m\u001b[0m\n",
      "\u001b[0;32m<ipython-input-16-69e6cba85b25>\u001b[0m in \u001b[0;36mtrain\u001b[0;34m(model, dl_train, optimizer, epoch, log_interval, device)\u001b[0m\n\u001b[1;32m     15\u001b[0m \u001b[0;34m\u001b[0m\u001b[0m\n\u001b[1;32m     16\u001b[0m         \u001b[0;31m##### implement this part #####\u001b[0m\u001b[0;34m\u001b[0m\u001b[0;34m\u001b[0m\u001b[0;34m\u001b[0m\u001b[0m\n\u001b[0;32m---> 17\u001b[0;31m         \u001b[0moutput\u001b[0m \u001b[0;34m=\u001b[0m \u001b[0mmodel\u001b[0m\u001b[0;34m.\u001b[0m\u001b[0mforward\u001b[0m\u001b[0;34m(\u001b[0m\u001b[0mdata\u001b[0m\u001b[0;34m)\u001b[0m\u001b[0;34m\u001b[0m\u001b[0;34m\u001b[0m\u001b[0m\n\u001b[0m\u001b[1;32m     18\u001b[0m         \u001b[0mloss\u001b[0m \u001b[0;34m=\u001b[0m \u001b[0mF\u001b[0m\u001b[0;34m.\u001b[0m\u001b[0mcross_entropy\u001b[0m\u001b[0;34m(\u001b[0m\u001b[0moutput\u001b[0m\u001b[0;34m,\u001b[0m \u001b[0mtarget\u001b[0m\u001b[0;34m)\u001b[0m\u001b[0;34m\u001b[0m\u001b[0;34m\u001b[0m\u001b[0m\n\u001b[1;32m     19\u001b[0m         \u001b[0mloss\u001b[0m\u001b[0;34m.\u001b[0m\u001b[0mbackward\u001b[0m\u001b[0;34m(\u001b[0m\u001b[0;34m)\u001b[0m\u001b[0;34m\u001b[0m\u001b[0;34m\u001b[0m\u001b[0m\n",
      "\u001b[0;32m<ipython-input-20-9601849319b3>\u001b[0m in \u001b[0;36mforward\u001b[0;34m(self, x)\u001b[0m\n\u001b[1;32m     23\u001b[0m \u001b[0;34m\u001b[0m\u001b[0m\n\u001b[1;32m     24\u001b[0m     \u001b[0;32mdef\u001b[0m \u001b[0mforward\u001b[0m\u001b[0;34m(\u001b[0m\u001b[0mself\u001b[0m\u001b[0;34m,\u001b[0m \u001b[0mx\u001b[0m\u001b[0;34m)\u001b[0m\u001b[0;34m:\u001b[0m\u001b[0;34m\u001b[0m\u001b[0;34m\u001b[0m\u001b[0m\n\u001b[0;32m---> 25\u001b[0;31m         \u001b[0;32mreturn\u001b[0m \u001b[0mself\u001b[0m\u001b[0;34m.\u001b[0m\u001b[0mmodel\u001b[0m\u001b[0;34m(\u001b[0m\u001b[0mx\u001b[0m\u001b[0;34m)\u001b[0m \u001b[0;31m#preds after passing x through the model\u001b[0m\u001b[0;34m\u001b[0m\u001b[0;34m\u001b[0m\u001b[0m\n\u001b[0m",
      "\u001b[0;32m/usr/local/lib/python3.7/dist-packages/torch/nn/modules/module.py\u001b[0m in \u001b[0;36m_call_impl\u001b[0;34m(self, *input, **kwargs)\u001b[0m\n\u001b[1;32m   1128\u001b[0m         if not (self._backward_hooks or self._forward_hooks or self._forward_pre_hooks or _global_backward_hooks\n\u001b[1;32m   1129\u001b[0m                 or _global_forward_hooks or _global_forward_pre_hooks):\n\u001b[0;32m-> 1130\u001b[0;31m             \u001b[0;32mreturn\u001b[0m \u001b[0mforward_call\u001b[0m\u001b[0;34m(\u001b[0m\u001b[0;34m*\u001b[0m\u001b[0minput\u001b[0m\u001b[0;34m,\u001b[0m \u001b[0;34m**\u001b[0m\u001b[0mkwargs\u001b[0m\u001b[0;34m)\u001b[0m\u001b[0;34m\u001b[0m\u001b[0;34m\u001b[0m\u001b[0m\n\u001b[0m\u001b[1;32m   1131\u001b[0m         \u001b[0;31m# Do not call functions when jit is used\u001b[0m\u001b[0;34m\u001b[0m\u001b[0;34m\u001b[0m\u001b[0;34m\u001b[0m\u001b[0m\n\u001b[1;32m   1132\u001b[0m         \u001b[0mfull_backward_hooks\u001b[0m\u001b[0;34m,\u001b[0m \u001b[0mnon_full_backward_hooks\u001b[0m \u001b[0;34m=\u001b[0m \u001b[0;34m[\u001b[0m\u001b[0;34m]\u001b[0m\u001b[0;34m,\u001b[0m \u001b[0;34m[\u001b[0m\u001b[0;34m]\u001b[0m\u001b[0;34m\u001b[0m\u001b[0;34m\u001b[0m\u001b[0m\n",
      "\u001b[0;32m/usr/local/lib/python3.7/dist-packages/torch/nn/modules/container.py\u001b[0m in \u001b[0;36mforward\u001b[0;34m(self, input)\u001b[0m\n\u001b[1;32m    137\u001b[0m     \u001b[0;32mdef\u001b[0m \u001b[0mforward\u001b[0m\u001b[0;34m(\u001b[0m\u001b[0mself\u001b[0m\u001b[0;34m,\u001b[0m \u001b[0minput\u001b[0m\u001b[0;34m)\u001b[0m\u001b[0;34m:\u001b[0m\u001b[0;34m\u001b[0m\u001b[0;34m\u001b[0m\u001b[0m\n\u001b[1;32m    138\u001b[0m         \u001b[0;32mfor\u001b[0m \u001b[0mmodule\u001b[0m \u001b[0;32min\u001b[0m \u001b[0mself\u001b[0m\u001b[0;34m:\u001b[0m\u001b[0;34m\u001b[0m\u001b[0;34m\u001b[0m\u001b[0m\n\u001b[0;32m--> 139\u001b[0;31m             \u001b[0minput\u001b[0m \u001b[0;34m=\u001b[0m \u001b[0mmodule\u001b[0m\u001b[0;34m(\u001b[0m\u001b[0minput\u001b[0m\u001b[0;34m)\u001b[0m\u001b[0;34m\u001b[0m\u001b[0;34m\u001b[0m\u001b[0m\n\u001b[0m\u001b[1;32m    140\u001b[0m         \u001b[0;32mreturn\u001b[0m \u001b[0minput\u001b[0m\u001b[0;34m\u001b[0m\u001b[0;34m\u001b[0m\u001b[0m\n\u001b[1;32m    141\u001b[0m \u001b[0;34m\u001b[0m\u001b[0m\n",
      "\u001b[0;32m/usr/local/lib/python3.7/dist-packages/torch/nn/modules/module.py\u001b[0m in \u001b[0;36m_call_impl\u001b[0;34m(self, *input, **kwargs)\u001b[0m\n\u001b[1;32m   1128\u001b[0m         if not (self._backward_hooks or self._forward_hooks or self._forward_pre_hooks or _global_backward_hooks\n\u001b[1;32m   1129\u001b[0m                 or _global_forward_hooks or _global_forward_pre_hooks):\n\u001b[0;32m-> 1130\u001b[0;31m             \u001b[0;32mreturn\u001b[0m \u001b[0mforward_call\u001b[0m\u001b[0;34m(\u001b[0m\u001b[0;34m*\u001b[0m\u001b[0minput\u001b[0m\u001b[0;34m,\u001b[0m \u001b[0;34m**\u001b[0m\u001b[0mkwargs\u001b[0m\u001b[0;34m)\u001b[0m\u001b[0;34m\u001b[0m\u001b[0;34m\u001b[0m\u001b[0m\n\u001b[0m\u001b[1;32m   1131\u001b[0m         \u001b[0;31m# Do not call functions when jit is used\u001b[0m\u001b[0;34m\u001b[0m\u001b[0;34m\u001b[0m\u001b[0;34m\u001b[0m\u001b[0m\n\u001b[1;32m   1132\u001b[0m         \u001b[0mfull_backward_hooks\u001b[0m\u001b[0;34m,\u001b[0m \u001b[0mnon_full_backward_hooks\u001b[0m \u001b[0;34m=\u001b[0m \u001b[0;34m[\u001b[0m\u001b[0;34m]\u001b[0m\u001b[0;34m,\u001b[0m \u001b[0;34m[\u001b[0m\u001b[0;34m]\u001b[0m\u001b[0;34m\u001b[0m\u001b[0;34m\u001b[0m\u001b[0m\n",
      "\u001b[0;32m/usr/local/lib/python3.7/dist-packages/torch/nn/modules/conv.py\u001b[0m in \u001b[0;36mforward\u001b[0;34m(self, input)\u001b[0m\n\u001b[1;32m    455\u001b[0m \u001b[0;34m\u001b[0m\u001b[0m\n\u001b[1;32m    456\u001b[0m     \u001b[0;32mdef\u001b[0m \u001b[0mforward\u001b[0m\u001b[0;34m(\u001b[0m\u001b[0mself\u001b[0m\u001b[0;34m,\u001b[0m \u001b[0minput\u001b[0m\u001b[0;34m:\u001b[0m \u001b[0mTensor\u001b[0m\u001b[0;34m)\u001b[0m \u001b[0;34m->\u001b[0m \u001b[0mTensor\u001b[0m\u001b[0;34m:\u001b[0m\u001b[0;34m\u001b[0m\u001b[0;34m\u001b[0m\u001b[0m\n\u001b[0;32m--> 457\u001b[0;31m         \u001b[0;32mreturn\u001b[0m \u001b[0mself\u001b[0m\u001b[0;34m.\u001b[0m\u001b[0m_conv_forward\u001b[0m\u001b[0;34m(\u001b[0m\u001b[0minput\u001b[0m\u001b[0;34m,\u001b[0m \u001b[0mself\u001b[0m\u001b[0;34m.\u001b[0m\u001b[0mweight\u001b[0m\u001b[0;34m,\u001b[0m \u001b[0mself\u001b[0m\u001b[0;34m.\u001b[0m\u001b[0mbias\u001b[0m\u001b[0;34m)\u001b[0m\u001b[0;34m\u001b[0m\u001b[0;34m\u001b[0m\u001b[0m\n\u001b[0m\u001b[1;32m    458\u001b[0m \u001b[0;34m\u001b[0m\u001b[0m\n\u001b[1;32m    459\u001b[0m \u001b[0;32mclass\u001b[0m \u001b[0mConv3d\u001b[0m\u001b[0;34m(\u001b[0m\u001b[0m_ConvNd\u001b[0m\u001b[0;34m)\u001b[0m\u001b[0;34m:\u001b[0m\u001b[0;34m\u001b[0m\u001b[0;34m\u001b[0m\u001b[0m\n",
      "\u001b[0;32m/usr/local/lib/python3.7/dist-packages/torch/nn/modules/conv.py\u001b[0m in \u001b[0;36m_conv_forward\u001b[0;34m(self, input, weight, bias)\u001b[0m\n\u001b[1;32m    452\u001b[0m                             _pair(0), self.dilation, self.groups)\n\u001b[1;32m    453\u001b[0m         return F.conv2d(input, weight, bias, self.stride,\n\u001b[0;32m--> 454\u001b[0;31m                         self.padding, self.dilation, self.groups)\n\u001b[0m\u001b[1;32m    455\u001b[0m \u001b[0;34m\u001b[0m\u001b[0m\n\u001b[1;32m    456\u001b[0m     \u001b[0;32mdef\u001b[0m \u001b[0mforward\u001b[0m\u001b[0;34m(\u001b[0m\u001b[0mself\u001b[0m\u001b[0;34m,\u001b[0m \u001b[0minput\u001b[0m\u001b[0;34m:\u001b[0m \u001b[0mTensor\u001b[0m\u001b[0;34m)\u001b[0m \u001b[0;34m->\u001b[0m \u001b[0mTensor\u001b[0m\u001b[0;34m:\u001b[0m\u001b[0;34m\u001b[0m\u001b[0;34m\u001b[0m\u001b[0m\n",
      "\u001b[0;31mRuntimeError\u001b[0m: Given groups=1, weight of size [32, 1, 3, 3], expected input[128, 3, 32, 32] to have 1 channels, but got 3 channels instead"
     ]
    }
   ],
   "source": [
    "epochs = 5\n",
    "for epoch in range(1, epochs + 1):\n",
    "    train(cnn, dl_train, optimizer, epoch, log_interval=100)\n",
    "    test(cnn, dl_test)    \n",
    "    scheduler.step()"
   ]
  },
  {
   "cell_type": "markdown",
   "metadata": {
    "id": "xFg1GA-nOZ5m"
   },
   "source": [
    "This will not work. You should see the following error message\n",
    "\n",
    "```\n",
    "Given groups=1, weight of size [32, 1, 3, 3], expected input[128, 3, 32, 32] to have 1 channels, but got 3 channels instead\n",
    "```\n",
    "\n",
    "This error is telling us that something is not right in the definition of our model. Copy the CNN class from above and make changes, so the training works."
   ]
  },
  {
   "cell_type": "code",
   "execution_count": 32,
   "metadata": {
    "id": "o_SKT1N7OZ5m"
   },
   "outputs": [],
   "source": [
    "#########################################################################\n",
    "# TODO: Adapt the definition from the CNN class above to work on CIFAR.\n",
    "# You can copy and run the following prompt for evaluation:\n",
    "# CNN()(torch.randn(1,3,32,32)).shape\n",
    "# It should print 'torch.Size([1, 10])'\n",
    "# Hint: You need to change 2 things. \n",
    "#########################################################################\n",
    "\n",
    "class CNN(nn.Module):\n",
    "    def __init__(self):\n",
    "        super(CNN, self).__init__()\n",
    "        self.model = nn.Sequential(\n",
    "                     # changed number of input channels to RGB = 3\n",
    "                     nn.Conv2d(3,32,3,stride=1,padding=0),\n",
    "                     nn.ReLU(),\n",
    "                     nn.Conv2d(32,64,3,stride=1,padding=0),\n",
    "                     nn.ReLU(),\n",
    "                     nn.MaxPool2d(2,stride=2,padding=0),\n",
    "                     nn.Dropout(p=0.25),\n",
    "                     nn.Flatten(), \n",
    "                     # the output size of flatten layer has changed to 12544. To enable matrix multiplication \n",
    "                     # the input size of the linear layer has to be adjusted accordingly: (1,12544) x (12544,128)\n",
    "                     nn.Linear(12544,128),\n",
    "                     nn.ReLU(),\n",
    "                     nn.Dropout(p=0.25),\n",
    "                     nn.Linear(128,10)\n",
    "        )\n",
    "\n",
    "    def forward(self, x):\n",
    "        return self.model(x) #preds after passing x through the model"
   ]
  },
  {
   "cell_type": "code",
   "execution_count": 33,
   "metadata": {
    "colab": {
     "base_uri": "https://localhost:8080/"
    },
    "id": "56VTrytaOZ5n",
    "outputId": "8dfe1b01-4c43-4b2f-9376-98530d2142a3"
   },
   "outputs": [
    {
     "data": {
      "text/plain": [
       "torch.Size([1, 10])"
      ]
     },
     "execution_count": 33,
     "metadata": {},
     "output_type": "execute_result"
    }
   ],
   "source": [
    "CNN()(torch.randn(1,3,32,32)).shape"
   ]
  },
  {
   "cell_type": "markdown",
   "metadata": {
    "id": "klfcBFHqOZ5n"
   },
   "source": [
    "Let's try again"
   ]
  },
  {
   "cell_type": "code",
   "execution_count": 34,
   "metadata": {
    "colab": {
     "base_uri": "https://localhost:8080/"
    },
    "id": "9lLxDtTNOZ5n",
    "outputId": "3cf2918f-f016-4ca5-8b4e-d4de356d923f",
    "scrolled": true
   },
   "outputs": [
    {
     "name": "stdout",
     "output_type": "stream",
     "text": [
      "Train Epoch: 1 [0/50000 (0%)]\tLoss: 2.287605\n",
      "Train Epoch: 1 [12800/50000 (26%)]\tLoss: 2.006276\n",
      "Train Epoch: 1 [25600/50000 (51%)]\tLoss: 1.926154\n",
      "Train Epoch: 1 [38400/50000 (77%)]\tLoss: 1.738065\n",
      "\n",
      "Train set: Average loss: 1.7670, Accuracy: 14105/50000 (28.2%)\n",
      "\n",
      "\n",
      "Test set: Average loss: 1.8346, Accuracy: 3350/10000 (33.500%)\n",
      "\n",
      "Train Epoch: 2 [0/50000 (0%)]\tLoss: 1.921980\n",
      "Train Epoch: 2 [12800/50000 (26%)]\tLoss: 1.745245\n",
      "Train Epoch: 2 [25600/50000 (51%)]\tLoss: 1.764631\n",
      "Train Epoch: 2 [38400/50000 (77%)]\tLoss: 1.484599\n",
      "\n",
      "Train set: Average loss: 1.6833, Accuracy: 17870/50000 (35.7%)\n",
      "\n",
      "\n",
      "Test set: Average loss: 1.5218, Accuracy: 4563/10000 (45.630%)\n",
      "\n",
      "Train Epoch: 3 [0/50000 (0%)]\tLoss: 1.827755\n",
      "Train Epoch: 3 [12800/50000 (26%)]\tLoss: 1.678707\n",
      "Train Epoch: 3 [25600/50000 (51%)]\tLoss: 1.678574\n",
      "Train Epoch: 3 [38400/50000 (77%)]\tLoss: 1.752669\n",
      "\n",
      "Train set: Average loss: 1.6857, Accuracy: 20274/50000 (40.5%)\n",
      "\n",
      "\n",
      "Test set: Average loss: 1.4613, Accuracy: 4715/10000 (47.150%)\n",
      "\n",
      "Train Epoch: 4 [0/50000 (0%)]\tLoss: 1.560068\n",
      "Train Epoch: 4 [12800/50000 (26%)]\tLoss: 1.562156\n",
      "Train Epoch: 4 [25600/50000 (51%)]\tLoss: 1.456300\n",
      "Train Epoch: 4 [38400/50000 (77%)]\tLoss: 1.451542\n",
      "\n",
      "Train set: Average loss: 1.4873, Accuracy: 21500/50000 (43.0%)\n",
      "\n",
      "\n",
      "Test set: Average loss: 1.3700, Accuracy: 5082/10000 (50.820%)\n",
      "\n",
      "Train Epoch: 5 [0/50000 (0%)]\tLoss: 1.637258\n",
      "Train Epoch: 5 [12800/50000 (26%)]\tLoss: 1.536407\n",
      "Train Epoch: 5 [25600/50000 (51%)]\tLoss: 1.548181\n",
      "Train Epoch: 5 [38400/50000 (77%)]\tLoss: 1.542938\n",
      "\n",
      "Train set: Average loss: 1.5916, Accuracy: 21676/50000 (43.4%)\n",
      "\n",
      "\n",
      "Test set: Average loss: 1.4538, Accuracy: 4699/10000 (46.990%)\n",
      "\n",
      "Train Epoch: 6 [0/50000 (0%)]\tLoss: 1.551466\n",
      "Train Epoch: 6 [12800/50000 (26%)]\tLoss: 1.783791\n",
      "Train Epoch: 6 [25600/50000 (51%)]\tLoss: 1.525338\n",
      "Train Epoch: 6 [38400/50000 (77%)]\tLoss: 1.667738\n",
      "\n",
      "Train set: Average loss: 1.6854, Accuracy: 22231/50000 (44.5%)\n",
      "\n",
      "\n",
      "Test set: Average loss: 1.4132, Accuracy: 4977/10000 (49.770%)\n",
      "\n",
      "Train Epoch: 7 [0/50000 (0%)]\tLoss: 1.608996\n",
      "Train Epoch: 7 [12800/50000 (26%)]\tLoss: 1.729329\n",
      "Train Epoch: 7 [25600/50000 (51%)]\tLoss: 1.603208\n",
      "Train Epoch: 7 [38400/50000 (77%)]\tLoss: 1.568338\n",
      "\n",
      "Train set: Average loss: 1.5412, Accuracy: 22850/50000 (45.7%)\n",
      "\n",
      "\n",
      "Test set: Average loss: 1.3485, Accuracy: 5253/10000 (52.530%)\n",
      "\n",
      "Train Epoch: 8 [0/50000 (0%)]\tLoss: 1.562384\n",
      "Train Epoch: 8 [12800/50000 (26%)]\tLoss: 1.539318\n",
      "Train Epoch: 8 [25600/50000 (51%)]\tLoss: 1.333824\n",
      "Train Epoch: 8 [38400/50000 (77%)]\tLoss: 1.521385\n",
      "\n",
      "Train set: Average loss: 1.4641, Accuracy: 22938/50000 (45.9%)\n",
      "\n",
      "\n",
      "Test set: Average loss: 1.4621, Accuracy: 4857/10000 (48.570%)\n",
      "\n",
      "Train Epoch: 9 [0/50000 (0%)]\tLoss: 1.834125\n",
      "Train Epoch: 9 [12800/50000 (26%)]\tLoss: 1.467408\n",
      "Train Epoch: 9 [25600/50000 (51%)]\tLoss: 1.610427\n",
      "Train Epoch: 9 [38400/50000 (77%)]\tLoss: 1.567685\n",
      "\n",
      "Train set: Average loss: 1.4371, Accuracy: 23200/50000 (46.4%)\n",
      "\n",
      "\n",
      "Test set: Average loss: 1.3055, Accuracy: 5433/10000 (54.330%)\n",
      "\n",
      "Train Epoch: 10 [0/50000 (0%)]\tLoss: 1.354618\n",
      "Train Epoch: 10 [12800/50000 (26%)]\tLoss: 1.328473\n",
      "Train Epoch: 10 [25600/50000 (51%)]\tLoss: 1.644310\n",
      "Train Epoch: 10 [38400/50000 (77%)]\tLoss: 1.443764\n",
      "\n",
      "Train set: Average loss: 1.5759, Accuracy: 23383/50000 (46.8%)\n",
      "\n",
      "\n",
      "Test set: Average loss: 1.3010, Accuracy: 5435/10000 (54.350%)\n",
      "\n"
     ]
    }
   ],
   "source": [
    "cnn = CNN()\n",
    "optimizer = optim.SGD(cnn.parameters(), lr=0.1, momentum=0.9, weight_decay=5e-4)\n",
    "scheduler = torch.optim.lr_scheduler.CosineAnnealingLR(optimizer, T_max=200)\n",
    "\n",
    "epochs = 10\n",
    "for epoch in range(1, epochs + 1):\n",
    "    train(cnn, dl_train, optimizer, epoch, log_interval=100)\n",
    "    test(cnn, dl_test)    \n",
    "    scheduler.step()"
   ]
  },
  {
   "cell_type": "markdown",
   "metadata": {
    "id": "h8NWoee0OZ5o"
   },
   "source": [
    "This should give 40 - 50 % - and if you are not already on Colab it will give you a stressed out laptop. The performance is a lot better than random, but we can definitely do better."
   ]
  },
  {
   "cell_type": "markdown",
   "metadata": {
    "id": "a-W7TNBQOZ5o"
   },
   "source": [
    "### Have fun with GPUs\n",
    "You can already call it a day until this point because we won't grade the rest of the excecise. You can have more fun with the rest :)\n"
   ]
  },
  {
   "cell_type": "markdown",
   "metadata": {
    "id": "jhuSmpZwOZ5p"
   },
   "source": [
    "\n",
    "If you didn't already, move to colab. To use a GPU, follow on the collaboratory menu tabs, \"Runtime\" => \"Change runtime type\" and set it to GPU. Then run the same training loop but now on GPU. \n",
    "\n",
    "It as easy as:"
   ]
  },
  {
   "cell_type": "code",
   "execution_count": 35,
   "metadata": {
    "colab": {
     "base_uri": "https://localhost:8080/"
    },
    "id": "6oazstM0OZ5p",
    "outputId": "73bb6357-da3e-499f-9e3e-dac29bd2be8c"
   },
   "outputs": [
    {
     "name": "stdout",
     "output_type": "stream",
     "text": [
      "Train Epoch: 1 [0/50000 (0%)]\tLoss: 2.314934\n",
      "Train Epoch: 1 [12800/50000 (26%)]\tLoss: 1.974783\n",
      "Train Epoch: 1 [25600/50000 (51%)]\tLoss: 1.811136\n",
      "Train Epoch: 1 [38400/50000 (77%)]\tLoss: 1.799121\n",
      "\n",
      "Train set: Average loss: 1.7200, Accuracy: 14073/50000 (28.1%)\n",
      "\n",
      "\n",
      "Test set: Average loss: 1.6971, Accuracy: 3633/10000 (36.330%)\n",
      "\n",
      "Train Epoch: 2 [0/50000 (0%)]\tLoss: 1.761796\n",
      "Train Epoch: 2 [12800/50000 (26%)]\tLoss: 1.918190\n",
      "Train Epoch: 2 [25600/50000 (51%)]\tLoss: 1.828251\n",
      "Train Epoch: 2 [38400/50000 (77%)]\tLoss: 1.681033\n",
      "\n",
      "Train set: Average loss: 1.6873, Accuracy: 17472/50000 (34.9%)\n",
      "\n",
      "\n",
      "Test set: Average loss: 1.4887, Accuracy: 4514/10000 (45.140%)\n",
      "\n",
      "Train Epoch: 3 [0/50000 (0%)]\tLoss: 1.667964\n",
      "Train Epoch: 3 [12800/50000 (26%)]\tLoss: 1.642992\n",
      "Train Epoch: 3 [25600/50000 (51%)]\tLoss: 1.650486\n",
      "Train Epoch: 3 [38400/50000 (77%)]\tLoss: 1.517145\n",
      "\n",
      "Train set: Average loss: 1.4000, Accuracy: 19797/50000 (39.6%)\n",
      "\n",
      "\n",
      "Test set: Average loss: 1.4352, Accuracy: 4868/10000 (48.680%)\n",
      "\n",
      "Train Epoch: 4 [0/50000 (0%)]\tLoss: 1.622349\n",
      "Train Epoch: 4 [12800/50000 (26%)]\tLoss: 1.790428\n",
      "Train Epoch: 4 [25600/50000 (51%)]\tLoss: 1.685569\n",
      "Train Epoch: 4 [38400/50000 (77%)]\tLoss: 1.524058\n",
      "\n",
      "Train set: Average loss: 1.8926, Accuracy: 20373/50000 (40.7%)\n",
      "\n",
      "\n",
      "Test set: Average loss: 1.4786, Accuracy: 4642/10000 (46.420%)\n",
      "\n",
      "Train Epoch: 5 [0/50000 (0%)]\tLoss: 1.827918\n",
      "Train Epoch: 5 [12800/50000 (26%)]\tLoss: 1.597350\n",
      "Train Epoch: 5 [25600/50000 (51%)]\tLoss: 1.486408\n",
      "Train Epoch: 5 [38400/50000 (77%)]\tLoss: 1.714806\n",
      "\n",
      "Train set: Average loss: 1.5081, Accuracy: 21239/50000 (42.5%)\n",
      "\n",
      "\n",
      "Test set: Average loss: 1.4392, Accuracy: 4842/10000 (48.420%)\n",
      "\n",
      "Train Epoch: 6 [0/50000 (0%)]\tLoss: 1.740098\n",
      "Train Epoch: 6 [12800/50000 (26%)]\tLoss: 1.417124\n",
      "Train Epoch: 6 [25600/50000 (51%)]\tLoss: 1.496295\n",
      "Train Epoch: 6 [38400/50000 (77%)]\tLoss: 1.757413\n",
      "\n",
      "Train set: Average loss: 1.3819, Accuracy: 22029/50000 (44.1%)\n",
      "\n",
      "\n",
      "Test set: Average loss: 1.3393, Accuracy: 5137/10000 (51.370%)\n",
      "\n",
      "Train Epoch: 7 [0/50000 (0%)]\tLoss: 1.515396\n",
      "Train Epoch: 7 [12800/50000 (26%)]\tLoss: 1.524688\n",
      "Train Epoch: 7 [25600/50000 (51%)]\tLoss: 1.664464\n",
      "Train Epoch: 7 [38400/50000 (77%)]\tLoss: 1.449460\n",
      "\n",
      "Train set: Average loss: 1.6330, Accuracy: 22780/50000 (45.6%)\n",
      "\n",
      "\n",
      "Test set: Average loss: 1.2726, Accuracy: 5405/10000 (54.050%)\n",
      "\n",
      "Train Epoch: 8 [0/50000 (0%)]\tLoss: 1.348978\n",
      "Train Epoch: 8 [12800/50000 (26%)]\tLoss: 1.541312\n",
      "Train Epoch: 8 [25600/50000 (51%)]\tLoss: 1.516700\n",
      "Train Epoch: 8 [38400/50000 (77%)]\tLoss: 1.494692\n",
      "\n",
      "Train set: Average loss: 1.4280, Accuracy: 23013/50000 (46.0%)\n",
      "\n",
      "\n",
      "Test set: Average loss: 1.3494, Accuracy: 5162/10000 (51.620%)\n",
      "\n",
      "Train Epoch: 9 [0/50000 (0%)]\tLoss: 1.499762\n",
      "Train Epoch: 9 [12800/50000 (26%)]\tLoss: 1.494583\n",
      "Train Epoch: 9 [25600/50000 (51%)]\tLoss: 1.369837\n",
      "Train Epoch: 9 [38400/50000 (77%)]\tLoss: 1.362452\n",
      "\n",
      "Train set: Average loss: 1.7291, Accuracy: 23371/50000 (46.7%)\n",
      "\n",
      "\n",
      "Test set: Average loss: 1.3392, Accuracy: 5259/10000 (52.590%)\n",
      "\n",
      "Train Epoch: 10 [0/50000 (0%)]\tLoss: 1.521094\n",
      "Train Epoch: 10 [12800/50000 (26%)]\tLoss: 1.422248\n",
      "Train Epoch: 10 [25600/50000 (51%)]\tLoss: 1.430746\n",
      "Train Epoch: 10 [38400/50000 (77%)]\tLoss: 1.702481\n",
      "\n",
      "Train set: Average loss: 1.3337, Accuracy: 23279/50000 (46.6%)\n",
      "\n",
      "\n",
      "Test set: Average loss: 1.3008, Accuracy: 5488/10000 (54.880%)\n",
      "\n"
     ]
    }
   ],
   "source": [
    "device = 'cuda'\n",
    "if device == 'cuda': torch.backends.cudnn.benchmark = True # additional speed up\n",
    "\n",
    "cnn = CNN()\n",
    "optimizer = optim.SGD(cnn.parameters(), lr=0.1, momentum=0.9, weight_decay=5e-4)\n",
    "scheduler = torch.optim.lr_scheduler.CosineAnnealingLR(optimizer, T_max=200)\n",
    "cnn = cnn.to(device)\n",
    "\n",
    "epochs = 10\n",
    "for epoch in range(1, epochs + 1):\n",
    "    train(cnn, dl_train, optimizer, epoch, log_interval=100, device=device)\n",
    "    test(cnn, dl_test, device=device)    \n",
    "    scheduler.step()"
   ]
  },
  {
   "cell_type": "markdown",
   "metadata": {
    "id": "xUU2qZGvOZ5q"
   },
   "source": [
    "This should be way faster now. But the true advantage of the GPU is that we can use much bigger models now and still train them in a reasonable amount of time. PyTorch is again very handy. The torchvision library comes with varies state-of-the-art model architectures, some of which you have seen in the lecture."
   ]
  },
  {
   "cell_type": "code",
   "execution_count": 36,
   "metadata": {
    "id": "b_1D9bcmOZ5s"
   },
   "outputs": [],
   "source": [
    "from torchvision.models import resnet18"
   ]
  },
  {
   "cell_type": "code",
   "execution_count": 37,
   "metadata": {
    "colab": {
     "base_uri": "https://localhost:8080/"
    },
    "id": "DVYDllNqOZ5s",
    "outputId": "68158d4e-f2b2-4c1f-d05b-61a37ccb4325",
    "scrolled": true
   },
   "outputs": [
    {
     "name": "stdout",
     "output_type": "stream",
     "text": [
      "ResNet(\n",
      "  (conv1): Conv2d(3, 64, kernel_size=(7, 7), stride=(2, 2), padding=(3, 3), bias=False)\n",
      "  (bn1): BatchNorm2d(64, eps=1e-05, momentum=0.1, affine=True, track_running_stats=True)\n",
      "  (relu): ReLU(inplace=True)\n",
      "  (maxpool): MaxPool2d(kernel_size=3, stride=2, padding=1, dilation=1, ceil_mode=False)\n",
      "  (layer1): Sequential(\n",
      "    (0): BasicBlock(\n",
      "      (conv1): Conv2d(64, 64, kernel_size=(3, 3), stride=(1, 1), padding=(1, 1), bias=False)\n",
      "      (bn1): BatchNorm2d(64, eps=1e-05, momentum=0.1, affine=True, track_running_stats=True)\n",
      "      (relu): ReLU(inplace=True)\n",
      "      (conv2): Conv2d(64, 64, kernel_size=(3, 3), stride=(1, 1), padding=(1, 1), bias=False)\n",
      "      (bn2): BatchNorm2d(64, eps=1e-05, momentum=0.1, affine=True, track_running_stats=True)\n",
      "    )\n",
      "    (1): BasicBlock(\n",
      "      (conv1): Conv2d(64, 64, kernel_size=(3, 3), stride=(1, 1), padding=(1, 1), bias=False)\n",
      "      (bn1): BatchNorm2d(64, eps=1e-05, momentum=0.1, affine=True, track_running_stats=True)\n",
      "      (relu): ReLU(inplace=True)\n",
      "      (conv2): Conv2d(64, 64, kernel_size=(3, 3), stride=(1, 1), padding=(1, 1), bias=False)\n",
      "      (bn2): BatchNorm2d(64, eps=1e-05, momentum=0.1, affine=True, track_running_stats=True)\n",
      "    )\n",
      "  )\n",
      "  (layer2): Sequential(\n",
      "    (0): BasicBlock(\n",
      "      (conv1): Conv2d(64, 128, kernel_size=(3, 3), stride=(2, 2), padding=(1, 1), bias=False)\n",
      "      (bn1): BatchNorm2d(128, eps=1e-05, momentum=0.1, affine=True, track_running_stats=True)\n",
      "      (relu): ReLU(inplace=True)\n",
      "      (conv2): Conv2d(128, 128, kernel_size=(3, 3), stride=(1, 1), padding=(1, 1), bias=False)\n",
      "      (bn2): BatchNorm2d(128, eps=1e-05, momentum=0.1, affine=True, track_running_stats=True)\n",
      "      (downsample): Sequential(\n",
      "        (0): Conv2d(64, 128, kernel_size=(1, 1), stride=(2, 2), bias=False)\n",
      "        (1): BatchNorm2d(128, eps=1e-05, momentum=0.1, affine=True, track_running_stats=True)\n",
      "      )\n",
      "    )\n",
      "    (1): BasicBlock(\n",
      "      (conv1): Conv2d(128, 128, kernel_size=(3, 3), stride=(1, 1), padding=(1, 1), bias=False)\n",
      "      (bn1): BatchNorm2d(128, eps=1e-05, momentum=0.1, affine=True, track_running_stats=True)\n",
      "      (relu): ReLU(inplace=True)\n",
      "      (conv2): Conv2d(128, 128, kernel_size=(3, 3), stride=(1, 1), padding=(1, 1), bias=False)\n",
      "      (bn2): BatchNorm2d(128, eps=1e-05, momentum=0.1, affine=True, track_running_stats=True)\n",
      "    )\n",
      "  )\n",
      "  (layer3): Sequential(\n",
      "    (0): BasicBlock(\n",
      "      (conv1): Conv2d(128, 256, kernel_size=(3, 3), stride=(2, 2), padding=(1, 1), bias=False)\n",
      "      (bn1): BatchNorm2d(256, eps=1e-05, momentum=0.1, affine=True, track_running_stats=True)\n",
      "      (relu): ReLU(inplace=True)\n",
      "      (conv2): Conv2d(256, 256, kernel_size=(3, 3), stride=(1, 1), padding=(1, 1), bias=False)\n",
      "      (bn2): BatchNorm2d(256, eps=1e-05, momentum=0.1, affine=True, track_running_stats=True)\n",
      "      (downsample): Sequential(\n",
      "        (0): Conv2d(128, 256, kernel_size=(1, 1), stride=(2, 2), bias=False)\n",
      "        (1): BatchNorm2d(256, eps=1e-05, momentum=0.1, affine=True, track_running_stats=True)\n",
      "      )\n",
      "    )\n",
      "    (1): BasicBlock(\n",
      "      (conv1): Conv2d(256, 256, kernel_size=(3, 3), stride=(1, 1), padding=(1, 1), bias=False)\n",
      "      (bn1): BatchNorm2d(256, eps=1e-05, momentum=0.1, affine=True, track_running_stats=True)\n",
      "      (relu): ReLU(inplace=True)\n",
      "      (conv2): Conv2d(256, 256, kernel_size=(3, 3), stride=(1, 1), padding=(1, 1), bias=False)\n",
      "      (bn2): BatchNorm2d(256, eps=1e-05, momentum=0.1, affine=True, track_running_stats=True)\n",
      "    )\n",
      "  )\n",
      "  (layer4): Sequential(\n",
      "    (0): BasicBlock(\n",
      "      (conv1): Conv2d(256, 512, kernel_size=(3, 3), stride=(2, 2), padding=(1, 1), bias=False)\n",
      "      (bn1): BatchNorm2d(512, eps=1e-05, momentum=0.1, affine=True, track_running_stats=True)\n",
      "      (relu): ReLU(inplace=True)\n",
      "      (conv2): Conv2d(512, 512, kernel_size=(3, 3), stride=(1, 1), padding=(1, 1), bias=False)\n",
      "      (bn2): BatchNorm2d(512, eps=1e-05, momentum=0.1, affine=True, track_running_stats=True)\n",
      "      (downsample): Sequential(\n",
      "        (0): Conv2d(256, 512, kernel_size=(1, 1), stride=(2, 2), bias=False)\n",
      "        (1): BatchNorm2d(512, eps=1e-05, momentum=0.1, affine=True, track_running_stats=True)\n",
      "      )\n",
      "    )\n",
      "    (1): BasicBlock(\n",
      "      (conv1): Conv2d(512, 512, kernel_size=(3, 3), stride=(1, 1), padding=(1, 1), bias=False)\n",
      "      (bn1): BatchNorm2d(512, eps=1e-05, momentum=0.1, affine=True, track_running_stats=True)\n",
      "      (relu): ReLU(inplace=True)\n",
      "      (conv2): Conv2d(512, 512, kernel_size=(3, 3), stride=(1, 1), padding=(1, 1), bias=False)\n",
      "      (bn2): BatchNorm2d(512, eps=1e-05, momentum=0.1, affine=True, track_running_stats=True)\n",
      "    )\n",
      "  )\n",
      "  (avgpool): AdaptiveAvgPool2d(output_size=(1, 1))\n",
      "  (fc): Linear(in_features=512, out_features=1000, bias=True)\n",
      ")\n"
     ]
    }
   ],
   "source": [
    "cnn = resnet18()\n",
    "print(cnn)"
   ]
  },
  {
   "cell_type": "markdown",
   "metadata": {
    "id": "2pGqWOssOZ5t"
   },
   "source": [
    "Looks scary! But the only thing you need to change to make it work on CIFAR is the last layer.\n",
    "Currently the last layer is:\n",
    "```\n",
    "  (fc): Linear(in_features=512, out_features=1000, bias=True)\n",
    "```\n",
    "out_features is the number of classes. This models are developed for Imagenet, a dataset with 1000 classes. So this part of the model you need to adapt. Additionally, you need to add a log-softmax layer again, as we us negative log-likelihood as the training criterion. "
   ]
  },
  {
   "cell_type": "code",
   "execution_count": 40,
   "metadata": {
    "id": "jIZylvysOZ5u"
   },
   "outputs": [],
   "source": [
    "#########################################################################\n",
    "# TODO: Adapt the Resnet to work on CIFAR\n",
    "#########################################################################\n",
    "\n",
    "# adapt fc layer to 10 classes\n",
    "cnn.fc = nn.Linear(512,10)\n",
    "# add new log-softmax layer\n",
    "cnn.softmax = nn.LogSoftmax()"
   ]
  },
  {
   "cell_type": "code",
   "execution_count": 41,
   "metadata": {
    "colab": {
     "base_uri": "https://localhost:8080/"
    },
    "id": "O3_2xNWBOZ5u",
    "outputId": "d8406cb2-f13c-42e5-b6fe-26579f753636"
   },
   "outputs": [
    {
     "data": {
      "text/plain": [
       "torch.Size([16, 10])"
      ]
     },
     "execution_count": 41,
     "metadata": {},
     "output_type": "execute_result"
    }
   ],
   "source": [
    "# This should print 'torch.Size([16, 10])'\n",
    "cnn(torch.randn(16,3,32,32)).shape"
   ]
  },
  {
   "cell_type": "code",
   "execution_count": 42,
   "metadata": {
    "colab": {
     "base_uri": "https://localhost:8080/"
    },
    "id": "3Z-tAGJqOZ5u",
    "outputId": "e3602a96-e79a-4cf9-a471-fc8a7d55b401"
   },
   "outputs": [
    {
     "name": "stderr",
     "output_type": "stream",
     "text": [
      "/usr/local/lib/python3.7/dist-packages/torch/utils/data/dataloader.py:566: UserWarning: This DataLoader will create 4 worker processes in total. Our suggested max number of worker in current system is 2, which is smaller than what this DataLoader is going to create. Please be aware that excessive worker creation might get DataLoader running slow or even freeze, lower the worker number to avoid potential slowness/freeze if necessary.\n",
      "  cpuset_checked))\n"
     ]
    },
    {
     "name": "stdout",
     "output_type": "stream",
     "text": [
      "Train Epoch: 1 [0/50000 (0%)]\tLoss: 2.525965\n",
      "Train Epoch: 1 [12800/50000 (26%)]\tLoss: 2.262477\n",
      "Train Epoch: 1 [25600/50000 (51%)]\tLoss: 1.682805\n",
      "Train Epoch: 1 [38400/50000 (77%)]\tLoss: 1.652465\n",
      "\n",
      "Train set: Average loss: 1.5349, Accuracy: 15737/50000 (31.5%)\n",
      "\n",
      "\n",
      "Test set: Average loss: 1.4764, Accuracy: 4561/10000 (45.610%)\n",
      "\n",
      "Train Epoch: 2 [0/50000 (0%)]\tLoss: 1.423316\n",
      "Train Epoch: 2 [12800/50000 (26%)]\tLoss: 1.598443\n",
      "Train Epoch: 2 [25600/50000 (51%)]\tLoss: 1.391918\n",
      "Train Epoch: 2 [38400/50000 (77%)]\tLoss: 1.478431\n",
      "\n",
      "Train set: Average loss: 1.3756, Accuracy: 23217/50000 (46.4%)\n",
      "\n",
      "\n",
      "Test set: Average loss: 1.3512, Accuracy: 5010/10000 (50.100%)\n",
      "\n",
      "Train Epoch: 3 [0/50000 (0%)]\tLoss: 1.452424\n",
      "Train Epoch: 3 [12800/50000 (26%)]\tLoss: 1.195408\n",
      "Train Epoch: 3 [25600/50000 (51%)]\tLoss: 1.142759\n",
      "Train Epoch: 3 [38400/50000 (77%)]\tLoss: 1.412178\n",
      "\n",
      "Train set: Average loss: 1.1073, Accuracy: 27316/50000 (54.6%)\n",
      "\n",
      "\n",
      "Test set: Average loss: 1.1180, Accuracy: 6012/10000 (60.120%)\n",
      "\n",
      "Train Epoch: 4 [0/50000 (0%)]\tLoss: 1.196230\n",
      "Train Epoch: 4 [12800/50000 (26%)]\tLoss: 1.195441\n",
      "Train Epoch: 4 [25600/50000 (51%)]\tLoss: 1.085159\n",
      "Train Epoch: 4 [38400/50000 (77%)]\tLoss: 1.071321\n",
      "\n",
      "Train set: Average loss: 1.0426, Accuracy: 29984/50000 (60.0%)\n",
      "\n",
      "\n",
      "Test set: Average loss: 1.0593, Accuracy: 6310/10000 (63.100%)\n",
      "\n",
      "Train Epoch: 5 [0/50000 (0%)]\tLoss: 1.066278\n",
      "Train Epoch: 5 [12800/50000 (26%)]\tLoss: 1.011488\n",
      "Train Epoch: 5 [25600/50000 (51%)]\tLoss: 1.085264\n",
      "Train Epoch: 5 [38400/50000 (77%)]\tLoss: 1.091574\n",
      "\n",
      "Train set: Average loss: 0.9242, Accuracy: 31432/50000 (62.9%)\n",
      "\n",
      "\n",
      "Test set: Average loss: 1.0748, Accuracy: 6326/10000 (63.260%)\n",
      "\n",
      "Train Epoch: 6 [0/50000 (0%)]\tLoss: 0.992621\n",
      "Train Epoch: 6 [12800/50000 (26%)]\tLoss: 1.103872\n",
      "Train Epoch: 6 [25600/50000 (51%)]\tLoss: 1.145764\n",
      "Train Epoch: 6 [38400/50000 (77%)]\tLoss: 0.983382\n",
      "\n",
      "Train set: Average loss: 0.9896, Accuracy: 32647/50000 (65.3%)\n",
      "\n",
      "\n",
      "Test set: Average loss: 0.9472, Accuracy: 6662/10000 (66.620%)\n",
      "\n",
      "Train Epoch: 7 [0/50000 (0%)]\tLoss: 0.896882\n",
      "Train Epoch: 7 [12800/50000 (26%)]\tLoss: 0.881538\n",
      "Train Epoch: 7 [25600/50000 (51%)]\tLoss: 1.007961\n",
      "Train Epoch: 7 [38400/50000 (77%)]\tLoss: 0.825638\n",
      "\n",
      "Train set: Average loss: 0.7334, Accuracy: 33747/50000 (67.5%)\n",
      "\n",
      "\n",
      "Test set: Average loss: 0.9976, Accuracy: 6615/10000 (66.150%)\n",
      "\n",
      "Train Epoch: 8 [0/50000 (0%)]\tLoss: 0.993651\n",
      "Train Epoch: 8 [12800/50000 (26%)]\tLoss: 0.898491\n",
      "Train Epoch: 8 [25600/50000 (51%)]\tLoss: 0.936985\n",
      "Train Epoch: 8 [38400/50000 (77%)]\tLoss: 0.886044\n",
      "\n",
      "Train set: Average loss: 0.8039, Accuracy: 34495/50000 (69.0%)\n",
      "\n",
      "\n",
      "Test set: Average loss: 0.8738, Accuracy: 7009/10000 (70.090%)\n",
      "\n",
      "Train Epoch: 9 [0/50000 (0%)]\tLoss: 1.215433\n",
      "Train Epoch: 9 [12800/50000 (26%)]\tLoss: 0.831669\n",
      "Train Epoch: 9 [25600/50000 (51%)]\tLoss: 0.821328\n",
      "Train Epoch: 9 [38400/50000 (77%)]\tLoss: 0.939481\n",
      "\n",
      "Train set: Average loss: 0.8920, Accuracy: 35166/50000 (70.3%)\n",
      "\n",
      "\n",
      "Test set: Average loss: 0.9285, Accuracy: 6749/10000 (67.490%)\n",
      "\n",
      "Train Epoch: 10 [0/50000 (0%)]\tLoss: 0.839352\n",
      "Train Epoch: 10 [12800/50000 (26%)]\tLoss: 0.630230\n",
      "Train Epoch: 10 [25600/50000 (51%)]\tLoss: 0.968513\n",
      "Train Epoch: 10 [38400/50000 (77%)]\tLoss: 0.816975\n",
      "\n",
      "Train set: Average loss: 0.6893, Accuracy: 35468/50000 (70.9%)\n",
      "\n",
      "\n",
      "Test set: Average loss: 0.9566, Accuracy: 6814/10000 (68.140%)\n",
      "\n",
      "Train Epoch: 11 [0/50000 (0%)]\tLoss: 0.928618\n",
      "Train Epoch: 11 [12800/50000 (26%)]\tLoss: 0.862327\n",
      "Train Epoch: 11 [25600/50000 (51%)]\tLoss: 0.784446\n",
      "Train Epoch: 11 [38400/50000 (77%)]\tLoss: 0.723481\n",
      "\n",
      "Train set: Average loss: 0.7371, Accuracy: 36140/50000 (72.3%)\n",
      "\n",
      "\n",
      "Test set: Average loss: 0.8555, Accuracy: 7104/10000 (71.040%)\n",
      "\n",
      "Train Epoch: 12 [0/50000 (0%)]\tLoss: 0.857953\n",
      "Train Epoch: 12 [12800/50000 (26%)]\tLoss: 0.721771\n",
      "Train Epoch: 12 [25600/50000 (51%)]\tLoss: 0.941705\n",
      "Train Epoch: 12 [38400/50000 (77%)]\tLoss: 0.939258\n",
      "\n",
      "Train set: Average loss: 0.7992, Accuracy: 36406/50000 (72.8%)\n",
      "\n",
      "\n",
      "Test set: Average loss: 0.8856, Accuracy: 7017/10000 (70.170%)\n",
      "\n",
      "Train Epoch: 13 [0/50000 (0%)]\tLoss: 0.816719\n",
      "Train Epoch: 13 [12800/50000 (26%)]\tLoss: 0.793785\n",
      "Train Epoch: 13 [25600/50000 (51%)]\tLoss: 0.842775\n",
      "Train Epoch: 13 [38400/50000 (77%)]\tLoss: 0.754802\n",
      "\n",
      "Train set: Average loss: 0.7045, Accuracy: 36758/50000 (73.5%)\n",
      "\n",
      "\n",
      "Test set: Average loss: 0.9259, Accuracy: 6921/10000 (69.210%)\n",
      "\n",
      "Train Epoch: 14 [0/50000 (0%)]\tLoss: 0.619793\n",
      "Train Epoch: 14 [12800/50000 (26%)]\tLoss: 0.847979\n",
      "Train Epoch: 14 [25600/50000 (51%)]\tLoss: 0.741834\n",
      "Train Epoch: 14 [38400/50000 (77%)]\tLoss: 0.755883\n",
      "\n",
      "Train set: Average loss: 0.8916, Accuracy: 36712/50000 (73.4%)\n",
      "\n",
      "\n",
      "Test set: Average loss: 0.8110, Accuracy: 7251/10000 (72.510%)\n",
      "\n",
      "Train Epoch: 15 [0/50000 (0%)]\tLoss: 0.676122\n",
      "Train Epoch: 15 [12800/50000 (26%)]\tLoss: 0.683178\n",
      "Train Epoch: 15 [25600/50000 (51%)]\tLoss: 0.837329\n",
      "Train Epoch: 15 [38400/50000 (77%)]\tLoss: 0.623489\n",
      "\n",
      "Train set: Average loss: 0.7683, Accuracy: 37060/50000 (74.1%)\n",
      "\n",
      "\n",
      "Test set: Average loss: 0.7751, Accuracy: 7374/10000 (73.740%)\n",
      "\n",
      "Train Epoch: 16 [0/50000 (0%)]\tLoss: 0.570634\n",
      "Train Epoch: 16 [12800/50000 (26%)]\tLoss: 0.693985\n",
      "Train Epoch: 16 [25600/50000 (51%)]\tLoss: 0.770282\n",
      "Train Epoch: 16 [38400/50000 (77%)]\tLoss: 0.649347\n",
      "\n",
      "Train set: Average loss: 0.9167, Accuracy: 37253/50000 (74.5%)\n",
      "\n",
      "\n",
      "Test set: Average loss: 0.7938, Accuracy: 7279/10000 (72.790%)\n",
      "\n",
      "Train Epoch: 17 [0/50000 (0%)]\tLoss: 0.748091\n",
      "Train Epoch: 17 [12800/50000 (26%)]\tLoss: 0.631557\n",
      "Train Epoch: 17 [25600/50000 (51%)]\tLoss: 0.663110\n",
      "Train Epoch: 17 [38400/50000 (77%)]\tLoss: 0.671681\n",
      "\n",
      "Train set: Average loss: 0.5058, Accuracy: 37453/50000 (74.9%)\n",
      "\n",
      "\n",
      "Test set: Average loss: 0.7508, Accuracy: 7434/10000 (74.340%)\n",
      "\n",
      "Train Epoch: 18 [0/50000 (0%)]\tLoss: 0.717303\n",
      "Train Epoch: 18 [12800/50000 (26%)]\tLoss: 0.916210\n",
      "Train Epoch: 18 [25600/50000 (51%)]\tLoss: 0.837177\n",
      "Train Epoch: 18 [38400/50000 (77%)]\tLoss: 0.620321\n",
      "\n",
      "Train set: Average loss: 0.8220, Accuracy: 37530/50000 (75.1%)\n",
      "\n",
      "\n",
      "Test set: Average loss: 0.9791, Accuracy: 6827/10000 (68.270%)\n",
      "\n",
      "Train Epoch: 19 [0/50000 (0%)]\tLoss: 0.808701\n",
      "Train Epoch: 19 [12800/50000 (26%)]\tLoss: 0.670177\n",
      "Train Epoch: 19 [25600/50000 (51%)]\tLoss: 0.710515\n",
      "Train Epoch: 19 [38400/50000 (77%)]\tLoss: 0.721340\n",
      "\n",
      "Train set: Average loss: 0.6837, Accuracy: 37477/50000 (75.0%)\n",
      "\n",
      "\n",
      "Test set: Average loss: 0.7887, Accuracy: 7307/10000 (73.070%)\n",
      "\n",
      "Train Epoch: 20 [0/50000 (0%)]\tLoss: 0.531703\n",
      "Train Epoch: 20 [12800/50000 (26%)]\tLoss: 0.604100\n",
      "Train Epoch: 20 [25600/50000 (51%)]\tLoss: 0.894247\n",
      "Train Epoch: 20 [38400/50000 (77%)]\tLoss: 0.742375\n",
      "\n",
      "Train set: Average loss: 0.8920, Accuracy: 37712/50000 (75.4%)\n",
      "\n",
      "\n",
      "Test set: Average loss: 0.9222, Accuracy: 6959/10000 (69.590%)\n",
      "\n",
      "Train Epoch: 21 [0/50000 (0%)]\tLoss: 0.712188\n",
      "Train Epoch: 21 [12800/50000 (26%)]\tLoss: 0.602547\n",
      "Train Epoch: 21 [25600/50000 (51%)]\tLoss: 0.672259\n",
      "Train Epoch: 21 [38400/50000 (77%)]\tLoss: 0.753253\n",
      "\n",
      "Train set: Average loss: 0.8639, Accuracy: 37779/50000 (75.6%)\n",
      "\n",
      "\n",
      "Test set: Average loss: 0.7986, Accuracy: 7286/10000 (72.860%)\n",
      "\n",
      "Train Epoch: 22 [0/50000 (0%)]\tLoss: 0.812878\n",
      "Train Epoch: 22 [12800/50000 (26%)]\tLoss: 0.748052\n",
      "Train Epoch: 22 [25600/50000 (51%)]\tLoss: 0.574615\n",
      "Train Epoch: 22 [38400/50000 (77%)]\tLoss: 0.601667\n",
      "\n",
      "Train set: Average loss: 0.8277, Accuracy: 38007/50000 (76.0%)\n",
      "\n",
      "\n",
      "Test set: Average loss: 0.8464, Accuracy: 7144/10000 (71.440%)\n",
      "\n",
      "Train Epoch: 23 [0/50000 (0%)]\tLoss: 0.521373\n",
      "Train Epoch: 23 [12800/50000 (26%)]\tLoss: 0.531487\n",
      "Train Epoch: 23 [25600/50000 (51%)]\tLoss: 0.571401\n",
      "Train Epoch: 23 [38400/50000 (77%)]\tLoss: 0.779106\n",
      "\n",
      "Train set: Average loss: 0.8209, Accuracy: 38002/50000 (76.0%)\n",
      "\n",
      "\n",
      "Test set: Average loss: 0.8147, Accuracy: 7238/10000 (72.380%)\n",
      "\n",
      "Train Epoch: 24 [0/50000 (0%)]\tLoss: 0.735521\n",
      "Train Epoch: 24 [12800/50000 (26%)]\tLoss: 0.639799\n",
      "Train Epoch: 24 [25600/50000 (51%)]\tLoss: 0.588645\n",
      "Train Epoch: 24 [38400/50000 (77%)]\tLoss: 0.665919\n",
      "\n",
      "Train set: Average loss: 0.6430, Accuracy: 38259/50000 (76.5%)\n",
      "\n",
      "\n",
      "Test set: Average loss: 1.0271, Accuracy: 6616/10000 (66.160%)\n",
      "\n",
      "Train Epoch: 25 [0/50000 (0%)]\tLoss: 0.700519\n",
      "Train Epoch: 25 [12800/50000 (26%)]\tLoss: 0.856636\n",
      "Train Epoch: 25 [25600/50000 (51%)]\tLoss: 0.558477\n",
      "Train Epoch: 25 [38400/50000 (77%)]\tLoss: 0.815859\n",
      "\n",
      "Train set: Average loss: 0.7771, Accuracy: 38416/50000 (76.8%)\n",
      "\n",
      "\n",
      "Test set: Average loss: 0.7694, Accuracy: 7414/10000 (74.140%)\n",
      "\n",
      "Train Epoch: 26 [0/50000 (0%)]\tLoss: 0.751393\n",
      "Train Epoch: 26 [12800/50000 (26%)]\tLoss: 0.781339\n",
      "Train Epoch: 26 [25600/50000 (51%)]\tLoss: 0.831056\n",
      "Train Epoch: 26 [38400/50000 (77%)]\tLoss: 0.594554\n",
      "\n",
      "Train set: Average loss: 0.5267, Accuracy: 38259/50000 (76.5%)\n",
      "\n",
      "\n",
      "Test set: Average loss: 0.7264, Accuracy: 7513/10000 (75.130%)\n",
      "\n",
      "Train Epoch: 27 [0/50000 (0%)]\tLoss: 0.627827\n",
      "Train Epoch: 27 [12800/50000 (26%)]\tLoss: 0.634016\n",
      "Train Epoch: 27 [25600/50000 (51%)]\tLoss: 0.689480\n",
      "Train Epoch: 27 [38400/50000 (77%)]\tLoss: 0.595954\n",
      "\n",
      "Train set: Average loss: 1.0720, Accuracy: 38393/50000 (76.8%)\n",
      "\n",
      "\n",
      "Test set: Average loss: 0.8301, Accuracy: 7211/10000 (72.110%)\n",
      "\n",
      "Train Epoch: 28 [0/50000 (0%)]\tLoss: 0.752464\n",
      "Train Epoch: 28 [12800/50000 (26%)]\tLoss: 0.684391\n",
      "Train Epoch: 28 [25600/50000 (51%)]\tLoss: 0.791263\n",
      "Train Epoch: 28 [38400/50000 (77%)]\tLoss: 0.688835\n",
      "\n",
      "Train set: Average loss: 0.5558, Accuracy: 38583/50000 (77.2%)\n",
      "\n",
      "\n",
      "Test set: Average loss: 0.7345, Accuracy: 7507/10000 (75.070%)\n",
      "\n",
      "Train Epoch: 29 [0/50000 (0%)]\tLoss: 0.646027\n",
      "Train Epoch: 29 [12800/50000 (26%)]\tLoss: 0.733816\n",
      "Train Epoch: 29 [25600/50000 (51%)]\tLoss: 0.799987\n",
      "Train Epoch: 29 [38400/50000 (77%)]\tLoss: 0.799948\n",
      "\n",
      "Train set: Average loss: 0.7582, Accuracy: 38447/50000 (76.9%)\n",
      "\n",
      "\n",
      "Test set: Average loss: 0.7597, Accuracy: 7427/10000 (74.270%)\n",
      "\n",
      "Train Epoch: 30 [0/50000 (0%)]\tLoss: 0.713180\n",
      "Train Epoch: 30 [12800/50000 (26%)]\tLoss: 0.596227\n",
      "Train Epoch: 30 [25600/50000 (51%)]\tLoss: 0.636491\n",
      "Train Epoch: 30 [38400/50000 (77%)]\tLoss: 0.719698\n",
      "\n",
      "Train set: Average loss: 0.6399, Accuracy: 38537/50000 (77.1%)\n",
      "\n",
      "\n",
      "Test set: Average loss: 0.7014, Accuracy: 7646/10000 (76.460%)\n",
      "\n",
      "Train Epoch: 31 [0/50000 (0%)]\tLoss: 0.645169\n",
      "Train Epoch: 31 [12800/50000 (26%)]\tLoss: 0.533718\n",
      "Train Epoch: 31 [25600/50000 (51%)]\tLoss: 0.646757\n",
      "Train Epoch: 31 [38400/50000 (77%)]\tLoss: 0.611056\n",
      "\n",
      "Train set: Average loss: 0.7460, Accuracy: 38645/50000 (77.3%)\n",
      "\n",
      "\n",
      "Test set: Average loss: 0.6918, Accuracy: 7611/10000 (76.110%)\n",
      "\n",
      "Train Epoch: 32 [0/50000 (0%)]\tLoss: 0.538044\n",
      "Train Epoch: 32 [12800/50000 (26%)]\tLoss: 0.635672\n",
      "Train Epoch: 32 [25600/50000 (51%)]\tLoss: 0.740442\n",
      "Train Epoch: 32 [38400/50000 (77%)]\tLoss: 0.561544\n",
      "\n",
      "Train set: Average loss: 0.8056, Accuracy: 38543/50000 (77.1%)\n",
      "\n",
      "\n",
      "Test set: Average loss: 0.7427, Accuracy: 7537/10000 (75.370%)\n",
      "\n",
      "Train Epoch: 33 [0/50000 (0%)]\tLoss: 0.638851\n",
      "Train Epoch: 33 [12800/50000 (26%)]\tLoss: 0.582108\n",
      "Train Epoch: 33 [25600/50000 (51%)]\tLoss: 0.601612\n",
      "Train Epoch: 33 [38400/50000 (77%)]\tLoss: 0.561221\n",
      "\n",
      "Train set: Average loss: 0.6047, Accuracy: 38701/50000 (77.4%)\n",
      "\n",
      "\n",
      "Test set: Average loss: 0.8403, Accuracy: 7175/10000 (71.750%)\n",
      "\n",
      "Train Epoch: 34 [0/50000 (0%)]\tLoss: 0.687083\n",
      "Train Epoch: 34 [12800/50000 (26%)]\tLoss: 0.541624\n",
      "Train Epoch: 34 [25600/50000 (51%)]\tLoss: 0.886437\n",
      "Train Epoch: 34 [38400/50000 (77%)]\tLoss: 0.614442\n",
      "\n",
      "Train set: Average loss: 0.5692, Accuracy: 38697/50000 (77.4%)\n",
      "\n",
      "\n",
      "Test set: Average loss: 0.7405, Accuracy: 7521/10000 (75.210%)\n",
      "\n",
      "Train Epoch: 35 [0/50000 (0%)]\tLoss: 0.628726\n",
      "Train Epoch: 35 [12800/50000 (26%)]\tLoss: 0.670543\n",
      "Train Epoch: 35 [25600/50000 (51%)]\tLoss: 0.711845\n",
      "Train Epoch: 35 [38400/50000 (77%)]\tLoss: 0.690506\n",
      "\n",
      "Train set: Average loss: 0.7112, Accuracy: 38744/50000 (77.5%)\n",
      "\n",
      "\n",
      "Test set: Average loss: 0.8016, Accuracy: 7364/10000 (73.640%)\n",
      "\n",
      "Train Epoch: 36 [0/50000 (0%)]\tLoss: 0.578007\n",
      "Train Epoch: 36 [12800/50000 (26%)]\tLoss: 0.540412\n",
      "Train Epoch: 36 [25600/50000 (51%)]\tLoss: 0.773330\n",
      "Train Epoch: 36 [38400/50000 (77%)]\tLoss: 0.648688\n",
      "\n",
      "Train set: Average loss: 0.7504, Accuracy: 38763/50000 (77.5%)\n",
      "\n",
      "\n",
      "Test set: Average loss: 0.7140, Accuracy: 7538/10000 (75.380%)\n",
      "\n",
      "Train Epoch: 37 [0/50000 (0%)]\tLoss: 0.586155\n",
      "Train Epoch: 37 [12800/50000 (26%)]\tLoss: 0.508001\n",
      "Train Epoch: 37 [25600/50000 (51%)]\tLoss: 0.620341\n",
      "Train Epoch: 37 [38400/50000 (77%)]\tLoss: 0.599038\n",
      "\n",
      "Train set: Average loss: 0.7600, Accuracy: 38822/50000 (77.6%)\n",
      "\n",
      "\n",
      "Test set: Average loss: 0.7005, Accuracy: 7594/10000 (75.940%)\n",
      "\n",
      "Train Epoch: 38 [0/50000 (0%)]\tLoss: 0.668454\n",
      "Train Epoch: 38 [12800/50000 (26%)]\tLoss: 0.705523\n",
      "Train Epoch: 38 [25600/50000 (51%)]\tLoss: 0.500287\n",
      "Train Epoch: 38 [38400/50000 (77%)]\tLoss: 0.558540\n",
      "\n",
      "Train set: Average loss: 0.6150, Accuracy: 39136/50000 (78.3%)\n",
      "\n",
      "\n",
      "Test set: Average loss: 0.7549, Accuracy: 7484/10000 (74.840%)\n",
      "\n",
      "Train Epoch: 39 [0/50000 (0%)]\tLoss: 0.726467\n",
      "Train Epoch: 39 [12800/50000 (26%)]\tLoss: 0.695463\n",
      "Train Epoch: 39 [25600/50000 (51%)]\tLoss: 0.724475\n",
      "Train Epoch: 39 [38400/50000 (77%)]\tLoss: 0.694755\n",
      "\n",
      "Train set: Average loss: 0.5148, Accuracy: 38937/50000 (77.9%)\n",
      "\n",
      "\n",
      "Test set: Average loss: 0.7146, Accuracy: 7588/10000 (75.880%)\n",
      "\n",
      "Train Epoch: 40 [0/50000 (0%)]\tLoss: 0.531513\n",
      "Train Epoch: 40 [12800/50000 (26%)]\tLoss: 0.569239\n",
      "Train Epoch: 40 [25600/50000 (51%)]\tLoss: 0.656934\n",
      "Train Epoch: 40 [38400/50000 (77%)]\tLoss: 0.866406\n",
      "\n",
      "Train set: Average loss: 0.7610, Accuracy: 38840/50000 (77.7%)\n",
      "\n",
      "\n",
      "Test set: Average loss: 0.7856, Accuracy: 7435/10000 (74.350%)\n",
      "\n",
      "Train Epoch: 41 [0/50000 (0%)]\tLoss: 0.680900\n",
      "Train Epoch: 41 [12800/50000 (26%)]\tLoss: 0.670631\n",
      "Train Epoch: 41 [25600/50000 (51%)]\tLoss: 0.799471\n",
      "Train Epoch: 41 [38400/50000 (77%)]\tLoss: 0.773860\n",
      "\n",
      "Train set: Average loss: 0.8173, Accuracy: 38791/50000 (77.6%)\n",
      "\n",
      "\n",
      "Test set: Average loss: 0.8213, Accuracy: 7172/10000 (71.720%)\n",
      "\n",
      "Train Epoch: 42 [0/50000 (0%)]\tLoss: 0.882207\n",
      "Train Epoch: 42 [12800/50000 (26%)]\tLoss: 0.541412\n",
      "Train Epoch: 42 [25600/50000 (51%)]\tLoss: 0.559764\n",
      "Train Epoch: 42 [38400/50000 (77%)]\tLoss: 0.724795\n",
      "\n",
      "Train set: Average loss: 0.7743, Accuracy: 39205/50000 (78.4%)\n",
      "\n",
      "\n",
      "Test set: Average loss: 0.6814, Accuracy: 7670/10000 (76.700%)\n",
      "\n",
      "Train Epoch: 43 [0/50000 (0%)]\tLoss: 0.648990\n",
      "Train Epoch: 43 [12800/50000 (26%)]\tLoss: 0.651806\n",
      "Train Epoch: 43 [25600/50000 (51%)]\tLoss: 0.585680\n",
      "Train Epoch: 43 [38400/50000 (77%)]\tLoss: 0.656325\n",
      "\n",
      "Train set: Average loss: 0.7603, Accuracy: 39151/50000 (78.3%)\n",
      "\n",
      "\n",
      "Test set: Average loss: 0.6555, Accuracy: 7749/10000 (77.490%)\n",
      "\n",
      "Train Epoch: 44 [0/50000 (0%)]\tLoss: 0.543554\n",
      "Train Epoch: 44 [12800/50000 (26%)]\tLoss: 0.604727\n",
      "Train Epoch: 44 [25600/50000 (51%)]\tLoss: 0.772965\n",
      "Train Epoch: 44 [38400/50000 (77%)]\tLoss: 0.541997\n",
      "\n",
      "Train set: Average loss: 0.6843, Accuracy: 39259/50000 (78.5%)\n",
      "\n",
      "\n",
      "Test set: Average loss: 0.7330, Accuracy: 7566/10000 (75.660%)\n",
      "\n",
      "Train Epoch: 45 [0/50000 (0%)]\tLoss: 0.541379\n",
      "Train Epoch: 45 [12800/50000 (26%)]\tLoss: 0.570966\n",
      "Train Epoch: 45 [25600/50000 (51%)]\tLoss: 0.816922\n",
      "Train Epoch: 45 [38400/50000 (77%)]\tLoss: 0.718295\n",
      "\n",
      "Train set: Average loss: 0.7678, Accuracy: 39338/50000 (78.7%)\n",
      "\n",
      "\n",
      "Test set: Average loss: 0.7421, Accuracy: 7448/10000 (74.480%)\n",
      "\n",
      "Train Epoch: 46 [0/50000 (0%)]\tLoss: 0.718947\n",
      "Train Epoch: 46 [12800/50000 (26%)]\tLoss: 0.614184\n",
      "Train Epoch: 46 [25600/50000 (51%)]\tLoss: 0.657111\n",
      "Train Epoch: 46 [38400/50000 (77%)]\tLoss: 0.721398\n",
      "\n",
      "Train set: Average loss: 0.7705, Accuracy: 39109/50000 (78.2%)\n",
      "\n",
      "\n",
      "Test set: Average loss: 0.6973, Accuracy: 7649/10000 (76.490%)\n",
      "\n",
      "Train Epoch: 47 [0/50000 (0%)]\tLoss: 0.644440\n",
      "Train Epoch: 47 [12800/50000 (26%)]\tLoss: 0.571337\n",
      "Train Epoch: 47 [25600/50000 (51%)]\tLoss: 0.796738\n",
      "Train Epoch: 47 [38400/50000 (77%)]\tLoss: 0.646852\n",
      "\n",
      "Train set: Average loss: 0.7306, Accuracy: 39328/50000 (78.7%)\n",
      "\n",
      "\n",
      "Test set: Average loss: 0.7061, Accuracy: 7617/10000 (76.170%)\n",
      "\n",
      "Train Epoch: 48 [0/50000 (0%)]\tLoss: 0.495246\n",
      "Train Epoch: 48 [12800/50000 (26%)]\tLoss: 0.584136\n",
      "Train Epoch: 48 [25600/50000 (51%)]\tLoss: 0.550363\n",
      "Train Epoch: 48 [38400/50000 (77%)]\tLoss: 0.453135\n",
      "\n",
      "Train set: Average loss: 0.8277, Accuracy: 39184/50000 (78.4%)\n",
      "\n",
      "\n",
      "Test set: Average loss: 0.8327, Accuracy: 7237/10000 (72.370%)\n",
      "\n",
      "Train Epoch: 49 [0/50000 (0%)]\tLoss: 0.582066\n",
      "Train Epoch: 49 [12800/50000 (26%)]\tLoss: 0.599197\n",
      "Train Epoch: 49 [25600/50000 (51%)]\tLoss: 0.567555\n",
      "Train Epoch: 49 [38400/50000 (77%)]\tLoss: 0.564817\n",
      "\n",
      "Train set: Average loss: 0.7975, Accuracy: 39492/50000 (79.0%)\n",
      "\n",
      "\n",
      "Test set: Average loss: 0.7023, Accuracy: 7598/10000 (75.980%)\n",
      "\n",
      "Train Epoch: 50 [0/50000 (0%)]\tLoss: 0.771269\n",
      "Train Epoch: 50 [12800/50000 (26%)]\tLoss: 0.437568\n",
      "Train Epoch: 50 [25600/50000 (51%)]\tLoss: 0.519676\n",
      "Train Epoch: 50 [38400/50000 (77%)]\tLoss: 0.718461\n",
      "\n",
      "Train set: Average loss: 0.6166, Accuracy: 39656/50000 (79.3%)\n",
      "\n",
      "\n",
      "Test set: Average loss: 0.7326, Accuracy: 7553/10000 (75.530%)\n",
      "\n"
     ]
    }
   ],
   "source": [
    "device = 'cuda'\n",
    "if device == 'cuda': torch.backends.cudnn.benchmark = True # this gives us additional speed up\n",
    "\n",
    "optimizer = optim.SGD(cnn.parameters(), lr=0.1, momentum=0.9, weight_decay=5e-4)\n",
    "scheduler = torch.optim.lr_scheduler.CosineAnnealingLR(optimizer, T_max=200)\n",
    "cnn = cnn.to(device)\n",
    "\n",
    "epochs = 50\n",
    "for epoch in range(1, epochs + 1):\n",
    "    train(cnn, dl_train, optimizer, epoch, log_interval=100, device=device)\n",
    "    test(cnn, dl_test, device=device)    \n",
    "    scheduler.step()"
   ]
  },
  {
   "cell_type": "markdown",
   "metadata": {
    "id": "FoFqlA2AOZ5v"
   },
   "source": [
    "This should get us well above 75%, the best we got was ~ 80%.\n",
    "\n",
    "Now, use different torchvision architectures, different optimizers (Adam is always a good choice), data augmentation techniques, and hyperparameter search to achieve a test accuracy of >90 %"
   ]
  },
  {
   "cell_type": "code",
   "execution_count": null,
   "metadata": {
    "id": "kvg5qO5xOZ5v"
   },
   "outputs": [],
   "source": []
  }
 ],
 "metadata": {
  "accelerator": "GPU",
  "colab": {
   "collapsed_sections": [
    "pkDi4MsEOZ5g"
   ],
   "provenance": []
  },
  "kernelspec": {
   "display_name": "Python 3 (ipykernel)",
   "language": "python",
   "name": "python3"
  },
  "language_info": {
   "codemirror_mode": {
    "name": "ipython",
    "version": 3
   },
   "file_extension": ".py",
   "mimetype": "text/x-python",
   "name": "python",
   "nbconvert_exporter": "python",
   "pygments_lexer": "ipython3",
   "version": "3.9.12"
  },
  "vscode": {
   "interpreter": {
    "hash": "d268b61a0efacafa8645774cb6d0204c9f01d7563ef03f7672146d044e8f345c"
   }
  },
  "widgets": {
   "application/vnd.jupyter.widget-state+json": {
    "00ec3c14cd93487f941886e8666f2c7c": {
     "model_module": "@jupyter-widgets/controls",
     "model_module_version": "1.5.0",
     "model_name": "HTMLModel",
     "state": {
      "_dom_classes": [],
      "_model_module": "@jupyter-widgets/controls",
      "_model_module_version": "1.5.0",
      "_model_name": "HTMLModel",
      "_view_count": null,
      "_view_module": "@jupyter-widgets/controls",
      "_view_module_version": "1.5.0",
      "_view_name": "HTMLView",
      "description": "",
      "description_tooltip": null,
      "layout": "IPY_MODEL_cc1055767bea4a47902d560fabd63b60",
      "placeholder": "​",
      "style": "IPY_MODEL_a7103d4135cf40669406adf692fc72e5",
      "value": " 1648877/1648877 [00:00&lt;00:00, 18888446.61it/s]"
     }
    },
    "03b57d0a248d406c829eba634afba130": {
     "model_module": "@jupyter-widgets/controls",
     "model_module_version": "1.5.0",
     "model_name": "ProgressStyleModel",
     "state": {
      "_model_module": "@jupyter-widgets/controls",
      "_model_module_version": "1.5.0",
      "_model_name": "ProgressStyleModel",
      "_view_count": null,
      "_view_module": "@jupyter-widgets/base",
      "_view_module_version": "1.2.0",
      "_view_name": "StyleView",
      "bar_color": null,
      "description_width": ""
     }
    },
    "04b38dab6cde4214af9ea0817fccb02a": {
     "model_module": "@jupyter-widgets/controls",
     "model_module_version": "1.5.0",
     "model_name": "ProgressStyleModel",
     "state": {
      "_model_module": "@jupyter-widgets/controls",
      "_model_module_version": "1.5.0",
      "_model_name": "ProgressStyleModel",
      "_view_count": null,
      "_view_module": "@jupyter-widgets/base",
      "_view_module_version": "1.2.0",
      "_view_name": "StyleView",
      "bar_color": null,
      "description_width": ""
     }
    },
    "115e37596c0e499a904a4101f69ee3e1": {
     "model_module": "@jupyter-widgets/base",
     "model_module_version": "1.2.0",
     "model_name": "LayoutModel",
     "state": {
      "_model_module": "@jupyter-widgets/base",
      "_model_module_version": "1.2.0",
      "_model_name": "LayoutModel",
      "_view_count": null,
      "_view_module": "@jupyter-widgets/base",
      "_view_module_version": "1.2.0",
      "_view_name": "LayoutView",
      "align_content": null,
      "align_items": null,
      "align_self": null,
      "border": null,
      "bottom": null,
      "display": null,
      "flex": null,
      "flex_flow": null,
      "grid_area": null,
      "grid_auto_columns": null,
      "grid_auto_flow": null,
      "grid_auto_rows": null,
      "grid_column": null,
      "grid_gap": null,
      "grid_row": null,
      "grid_template_areas": null,
      "grid_template_columns": null,
      "grid_template_rows": null,
      "height": null,
      "justify_content": null,
      "justify_items": null,
      "left": null,
      "margin": null,
      "max_height": null,
      "max_width": null,
      "min_height": null,
      "min_width": null,
      "object_fit": null,
      "object_position": null,
      "order": null,
      "overflow": null,
      "overflow_x": null,
      "overflow_y": null,
      "padding": null,
      "right": null,
      "top": null,
      "visibility": null,
      "width": null
     }
    },
    "13a5ab234da14a4b946e37ecb8bd5221": {
     "model_module": "@jupyter-widgets/controls",
     "model_module_version": "1.5.0",
     "model_name": "DescriptionStyleModel",
     "state": {
      "_model_module": "@jupyter-widgets/controls",
      "_model_module_version": "1.5.0",
      "_model_name": "DescriptionStyleModel",
      "_view_count": null,
      "_view_module": "@jupyter-widgets/base",
      "_view_module_version": "1.2.0",
      "_view_name": "StyleView",
      "description_width": ""
     }
    },
    "1f40c4cd777b4c678d92aeb960c96093": {
     "model_module": "@jupyter-widgets/base",
     "model_module_version": "1.2.0",
     "model_name": "LayoutModel",
     "state": {
      "_model_module": "@jupyter-widgets/base",
      "_model_module_version": "1.2.0",
      "_model_name": "LayoutModel",
      "_view_count": null,
      "_view_module": "@jupyter-widgets/base",
      "_view_module_version": "1.2.0",
      "_view_name": "LayoutView",
      "align_content": null,
      "align_items": null,
      "align_self": null,
      "border": null,
      "bottom": null,
      "display": null,
      "flex": null,
      "flex_flow": null,
      "grid_area": null,
      "grid_auto_columns": null,
      "grid_auto_flow": null,
      "grid_auto_rows": null,
      "grid_column": null,
      "grid_gap": null,
      "grid_row": null,
      "grid_template_areas": null,
      "grid_template_columns": null,
      "grid_template_rows": null,
      "height": null,
      "justify_content": null,
      "justify_items": null,
      "left": null,
      "margin": null,
      "max_height": null,
      "max_width": null,
      "min_height": null,
      "min_width": null,
      "object_fit": null,
      "object_position": null,
      "order": null,
      "overflow": null,
      "overflow_x": null,
      "overflow_y": null,
      "padding": null,
      "right": null,
      "top": null,
      "visibility": null,
      "width": null
     }
    },
    "20600f4a16b54b849bf38b4fb8c3e0e3": {
     "model_module": "@jupyter-widgets/base",
     "model_module_version": "1.2.0",
     "model_name": "LayoutModel",
     "state": {
      "_model_module": "@jupyter-widgets/base",
      "_model_module_version": "1.2.0",
      "_model_name": "LayoutModel",
      "_view_count": null,
      "_view_module": "@jupyter-widgets/base",
      "_view_module_version": "1.2.0",
      "_view_name": "LayoutView",
      "align_content": null,
      "align_items": null,
      "align_self": null,
      "border": null,
      "bottom": null,
      "display": null,
      "flex": null,
      "flex_flow": null,
      "grid_area": null,
      "grid_auto_columns": null,
      "grid_auto_flow": null,
      "grid_auto_rows": null,
      "grid_column": null,
      "grid_gap": null,
      "grid_row": null,
      "grid_template_areas": null,
      "grid_template_columns": null,
      "grid_template_rows": null,
      "height": null,
      "justify_content": null,
      "justify_items": null,
      "left": null,
      "margin": null,
      "max_height": null,
      "max_width": null,
      "min_height": null,
      "min_width": null,
      "object_fit": null,
      "object_position": null,
      "order": null,
      "overflow": null,
      "overflow_x": null,
      "overflow_y": null,
      "padding": null,
      "right": null,
      "top": null,
      "visibility": null,
      "width": null
     }
    },
    "2160482b900f46e5affe09f0dfa656f0": {
     "model_module": "@jupyter-widgets/controls",
     "model_module_version": "1.5.0",
     "model_name": "HBoxModel",
     "state": {
      "_dom_classes": [],
      "_model_module": "@jupyter-widgets/controls",
      "_model_module_version": "1.5.0",
      "_model_name": "HBoxModel",
      "_view_count": null,
      "_view_module": "@jupyter-widgets/controls",
      "_view_module_version": "1.5.0",
      "_view_name": "HBoxView",
      "box_style": "",
      "children": [
       "IPY_MODEL_e285551db0b148729b25f2a165d3efbc",
       "IPY_MODEL_bf2ff425393d402a9c1505b9e51ff6d7",
       "IPY_MODEL_c9114a23559e4b2a85a7d4a9c468b666"
      ],
      "layout": "IPY_MODEL_44d2a2b1729e495ebd3228c745d287da"
     }
    },
    "233821bbf54443a98d3626fa36fca28f": {
     "model_module": "@jupyter-widgets/controls",
     "model_module_version": "1.5.0",
     "model_name": "DescriptionStyleModel",
     "state": {
      "_model_module": "@jupyter-widgets/controls",
      "_model_module_version": "1.5.0",
      "_model_name": "DescriptionStyleModel",
      "_view_count": null,
      "_view_module": "@jupyter-widgets/base",
      "_view_module_version": "1.2.0",
      "_view_name": "StyleView",
      "description_width": ""
     }
    },
    "237f3ed0d8a74adead734e266665160c": {
     "model_module": "@jupyter-widgets/controls",
     "model_module_version": "1.5.0",
     "model_name": "HBoxModel",
     "state": {
      "_dom_classes": [],
      "_model_module": "@jupyter-widgets/controls",
      "_model_module_version": "1.5.0",
      "_model_name": "HBoxModel",
      "_view_count": null,
      "_view_module": "@jupyter-widgets/controls",
      "_view_module_version": "1.5.0",
      "_view_name": "HBoxView",
      "box_style": "",
      "children": [
       "IPY_MODEL_778308e38c974f849e10f8faae780442",
       "IPY_MODEL_2b856a27f5934c6cbeacad1c3c47650d",
       "IPY_MODEL_8a2f2626439f47b58bcd48862e1bd31a"
      ],
      "layout": "IPY_MODEL_20600f4a16b54b849bf38b4fb8c3e0e3"
     }
    },
    "27b7aaa9128e463daba773a813499c1c": {
     "model_module": "@jupyter-widgets/controls",
     "model_module_version": "1.5.0",
     "model_name": "DescriptionStyleModel",
     "state": {
      "_model_module": "@jupyter-widgets/controls",
      "_model_module_version": "1.5.0",
      "_model_name": "DescriptionStyleModel",
      "_view_count": null,
      "_view_module": "@jupyter-widgets/base",
      "_view_module_version": "1.2.0",
      "_view_name": "StyleView",
      "description_width": ""
     }
    },
    "2a8f7c5f518c4d659d239e338959292a": {
     "model_module": "@jupyter-widgets/controls",
     "model_module_version": "1.5.0",
     "model_name": "HTMLModel",
     "state": {
      "_dom_classes": [],
      "_model_module": "@jupyter-widgets/controls",
      "_model_module_version": "1.5.0",
      "_model_name": "HTMLModel",
      "_view_count": null,
      "_view_module": "@jupyter-widgets/controls",
      "_view_module_version": "1.5.0",
      "_view_name": "HTMLView",
      "description": "",
      "description_tooltip": null,
      "layout": "IPY_MODEL_6a7407bb9024414d8254f2f7479db0d0",
      "placeholder": "​",
      "style": "IPY_MODEL_47930c18b6fc4496b358e5b3eb67c42f",
      "value": "100%"
     }
    },
    "2b856a27f5934c6cbeacad1c3c47650d": {
     "model_module": "@jupyter-widgets/controls",
     "model_module_version": "1.5.0",
     "model_name": "FloatProgressModel",
     "state": {
      "_dom_classes": [],
      "_model_module": "@jupyter-widgets/controls",
      "_model_module_version": "1.5.0",
      "_model_name": "FloatProgressModel",
      "_view_count": null,
      "_view_module": "@jupyter-widgets/controls",
      "_view_module_version": "1.5.0",
      "_view_name": "ProgressView",
      "bar_style": "success",
      "description": "",
      "description_tooltip": null,
      "layout": "IPY_MODEL_f41b2ad8319a47e8ba06c1b0c173a324",
      "max": 4542,
      "min": 0,
      "orientation": "horizontal",
      "style": "IPY_MODEL_03b57d0a248d406c829eba634afba130",
      "value": 4542
     }
    },
    "2fe4581831294406b65dd7c42b3f2b16": {
     "model_module": "@jupyter-widgets/base",
     "model_module_version": "1.2.0",
     "model_name": "LayoutModel",
     "state": {
      "_model_module": "@jupyter-widgets/base",
      "_model_module_version": "1.2.0",
      "_model_name": "LayoutModel",
      "_view_count": null,
      "_view_module": "@jupyter-widgets/base",
      "_view_module_version": "1.2.0",
      "_view_name": "LayoutView",
      "align_content": null,
      "align_items": null,
      "align_self": null,
      "border": null,
      "bottom": null,
      "display": null,
      "flex": null,
      "flex_flow": null,
      "grid_area": null,
      "grid_auto_columns": null,
      "grid_auto_flow": null,
      "grid_auto_rows": null,
      "grid_column": null,
      "grid_gap": null,
      "grid_row": null,
      "grid_template_areas": null,
      "grid_template_columns": null,
      "grid_template_rows": null,
      "height": null,
      "justify_content": null,
      "justify_items": null,
      "left": null,
      "margin": null,
      "max_height": null,
      "max_width": null,
      "min_height": null,
      "min_width": null,
      "object_fit": null,
      "object_position": null,
      "order": null,
      "overflow": null,
      "overflow_x": null,
      "overflow_y": null,
      "padding": null,
      "right": null,
      "top": null,
      "visibility": null,
      "width": null
     }
    },
    "30c224ecb3d042bc808974408a59afff": {
     "model_module": "@jupyter-widgets/controls",
     "model_module_version": "1.5.0",
     "model_name": "HBoxModel",
     "state": {
      "_dom_classes": [],
      "_model_module": "@jupyter-widgets/controls",
      "_model_module_version": "1.5.0",
      "_model_name": "HBoxModel",
      "_view_count": null,
      "_view_module": "@jupyter-widgets/controls",
      "_view_module_version": "1.5.0",
      "_view_name": "HBoxView",
      "box_style": "",
      "children": [
       "IPY_MODEL_2a8f7c5f518c4d659d239e338959292a",
       "IPY_MODEL_61ce584b9df144b3825ede6626273d3e",
       "IPY_MODEL_00ec3c14cd93487f941886e8666f2c7c"
      ],
      "layout": "IPY_MODEL_3a34a8625a764ad5bc4f6cdd9a8bcb55"
     }
    },
    "3a34a8625a764ad5bc4f6cdd9a8bcb55": {
     "model_module": "@jupyter-widgets/base",
     "model_module_version": "1.2.0",
     "model_name": "LayoutModel",
     "state": {
      "_model_module": "@jupyter-widgets/base",
      "_model_module_version": "1.2.0",
      "_model_name": "LayoutModel",
      "_view_count": null,
      "_view_module": "@jupyter-widgets/base",
      "_view_module_version": "1.2.0",
      "_view_name": "LayoutView",
      "align_content": null,
      "align_items": null,
      "align_self": null,
      "border": null,
      "bottom": null,
      "display": null,
      "flex": null,
      "flex_flow": null,
      "grid_area": null,
      "grid_auto_columns": null,
      "grid_auto_flow": null,
      "grid_auto_rows": null,
      "grid_column": null,
      "grid_gap": null,
      "grid_row": null,
      "grid_template_areas": null,
      "grid_template_columns": null,
      "grid_template_rows": null,
      "height": null,
      "justify_content": null,
      "justify_items": null,
      "left": null,
      "margin": null,
      "max_height": null,
      "max_width": null,
      "min_height": null,
      "min_width": null,
      "object_fit": null,
      "object_position": null,
      "order": null,
      "overflow": null,
      "overflow_x": null,
      "overflow_y": null,
      "padding": null,
      "right": null,
      "top": null,
      "visibility": null,
      "width": null
     }
    },
    "4200d6dcbd2b456d844d41628743427d": {
     "model_module": "@jupyter-widgets/base",
     "model_module_version": "1.2.0",
     "model_name": "LayoutModel",
     "state": {
      "_model_module": "@jupyter-widgets/base",
      "_model_module_version": "1.2.0",
      "_model_name": "LayoutModel",
      "_view_count": null,
      "_view_module": "@jupyter-widgets/base",
      "_view_module_version": "1.2.0",
      "_view_name": "LayoutView",
      "align_content": null,
      "align_items": null,
      "align_self": null,
      "border": null,
      "bottom": null,
      "display": null,
      "flex": null,
      "flex_flow": null,
      "grid_area": null,
      "grid_auto_columns": null,
      "grid_auto_flow": null,
      "grid_auto_rows": null,
      "grid_column": null,
      "grid_gap": null,
      "grid_row": null,
      "grid_template_areas": null,
      "grid_template_columns": null,
      "grid_template_rows": null,
      "height": null,
      "justify_content": null,
      "justify_items": null,
      "left": null,
      "margin": null,
      "max_height": null,
      "max_width": null,
      "min_height": null,
      "min_width": null,
      "object_fit": null,
      "object_position": null,
      "order": null,
      "overflow": null,
      "overflow_x": null,
      "overflow_y": null,
      "padding": null,
      "right": null,
      "top": null,
      "visibility": null,
      "width": null
     }
    },
    "44d2a2b1729e495ebd3228c745d287da": {
     "model_module": "@jupyter-widgets/base",
     "model_module_version": "1.2.0",
     "model_name": "LayoutModel",
     "state": {
      "_model_module": "@jupyter-widgets/base",
      "_model_module_version": "1.2.0",
      "_model_name": "LayoutModel",
      "_view_count": null,
      "_view_module": "@jupyter-widgets/base",
      "_view_module_version": "1.2.0",
      "_view_name": "LayoutView",
      "align_content": null,
      "align_items": null,
      "align_self": null,
      "border": null,
      "bottom": null,
      "display": null,
      "flex": null,
      "flex_flow": null,
      "grid_area": null,
      "grid_auto_columns": null,
      "grid_auto_flow": null,
      "grid_auto_rows": null,
      "grid_column": null,
      "grid_gap": null,
      "grid_row": null,
      "grid_template_areas": null,
      "grid_template_columns": null,
      "grid_template_rows": null,
      "height": null,
      "justify_content": null,
      "justify_items": null,
      "left": null,
      "margin": null,
      "max_height": null,
      "max_width": null,
      "min_height": null,
      "min_width": null,
      "object_fit": null,
      "object_position": null,
      "order": null,
      "overflow": null,
      "overflow_x": null,
      "overflow_y": null,
      "padding": null,
      "right": null,
      "top": null,
      "visibility": null,
      "width": null
     }
    },
    "47930c18b6fc4496b358e5b3eb67c42f": {
     "model_module": "@jupyter-widgets/controls",
     "model_module_version": "1.5.0",
     "model_name": "DescriptionStyleModel",
     "state": {
      "_model_module": "@jupyter-widgets/controls",
      "_model_module_version": "1.5.0",
      "_model_name": "DescriptionStyleModel",
      "_view_count": null,
      "_view_module": "@jupyter-widgets/base",
      "_view_module_version": "1.2.0",
      "_view_name": "StyleView",
      "description_width": ""
     }
    },
    "4b82ecce912a46739c90b594b9f07738": {
     "model_module": "@jupyter-widgets/base",
     "model_module_version": "1.2.0",
     "model_name": "LayoutModel",
     "state": {
      "_model_module": "@jupyter-widgets/base",
      "_model_module_version": "1.2.0",
      "_model_name": "LayoutModel",
      "_view_count": null,
      "_view_module": "@jupyter-widgets/base",
      "_view_module_version": "1.2.0",
      "_view_name": "LayoutView",
      "align_content": null,
      "align_items": null,
      "align_self": null,
      "border": null,
      "bottom": null,
      "display": null,
      "flex": null,
      "flex_flow": null,
      "grid_area": null,
      "grid_auto_columns": null,
      "grid_auto_flow": null,
      "grid_auto_rows": null,
      "grid_column": null,
      "grid_gap": null,
      "grid_row": null,
      "grid_template_areas": null,
      "grid_template_columns": null,
      "grid_template_rows": null,
      "height": null,
      "justify_content": null,
      "justify_items": null,
      "left": null,
      "margin": null,
      "max_height": null,
      "max_width": null,
      "min_height": null,
      "min_width": null,
      "object_fit": null,
      "object_position": null,
      "order": null,
      "overflow": null,
      "overflow_x": null,
      "overflow_y": null,
      "padding": null,
      "right": null,
      "top": null,
      "visibility": null,
      "width": null
     }
    },
    "5968f8b29fc2478aa12490fedab887b0": {
     "model_module": "@jupyter-widgets/base",
     "model_module_version": "1.2.0",
     "model_name": "LayoutModel",
     "state": {
      "_model_module": "@jupyter-widgets/base",
      "_model_module_version": "1.2.0",
      "_model_name": "LayoutModel",
      "_view_count": null,
      "_view_module": "@jupyter-widgets/base",
      "_view_module_version": "1.2.0",
      "_view_name": "LayoutView",
      "align_content": null,
      "align_items": null,
      "align_self": null,
      "border": null,
      "bottom": null,
      "display": null,
      "flex": null,
      "flex_flow": null,
      "grid_area": null,
      "grid_auto_columns": null,
      "grid_auto_flow": null,
      "grid_auto_rows": null,
      "grid_column": null,
      "grid_gap": null,
      "grid_row": null,
      "grid_template_areas": null,
      "grid_template_columns": null,
      "grid_template_rows": null,
      "height": null,
      "justify_content": null,
      "justify_items": null,
      "left": null,
      "margin": null,
      "max_height": null,
      "max_width": null,
      "min_height": null,
      "min_width": null,
      "object_fit": null,
      "object_position": null,
      "order": null,
      "overflow": null,
      "overflow_x": null,
      "overflow_y": null,
      "padding": null,
      "right": null,
      "top": null,
      "visibility": null,
      "width": null
     }
    },
    "5f001ee7b32f49cdbdd213ace0f2fc65": {
     "model_module": "@jupyter-widgets/controls",
     "model_module_version": "1.5.0",
     "model_name": "FloatProgressModel",
     "state": {
      "_dom_classes": [],
      "_model_module": "@jupyter-widgets/controls",
      "_model_module_version": "1.5.0",
      "_model_name": "FloatProgressModel",
      "_view_count": null,
      "_view_module": "@jupyter-widgets/controls",
      "_view_module_version": "1.5.0",
      "_view_name": "ProgressView",
      "bar_style": "success",
      "description": "",
      "description_tooltip": null,
      "layout": "IPY_MODEL_711eed22b2b840808e18f653e5f8b130",
      "max": 9912422,
      "min": 0,
      "orientation": "horizontal",
      "style": "IPY_MODEL_04b38dab6cde4214af9ea0817fccb02a",
      "value": 9912422
     }
    },
    "61ce584b9df144b3825ede6626273d3e": {
     "model_module": "@jupyter-widgets/controls",
     "model_module_version": "1.5.0",
     "model_name": "FloatProgressModel",
     "state": {
      "_dom_classes": [],
      "_model_module": "@jupyter-widgets/controls",
      "_model_module_version": "1.5.0",
      "_model_name": "FloatProgressModel",
      "_view_count": null,
      "_view_module": "@jupyter-widgets/controls",
      "_view_module_version": "1.5.0",
      "_view_name": "ProgressView",
      "bar_style": "success",
      "description": "",
      "description_tooltip": null,
      "layout": "IPY_MODEL_5968f8b29fc2478aa12490fedab887b0",
      "max": 1648877,
      "min": 0,
      "orientation": "horizontal",
      "style": "IPY_MODEL_faff73019f8048c1a7155a8d86a6e287",
      "value": 1648877
     }
    },
    "6a7407bb9024414d8254f2f7479db0d0": {
     "model_module": "@jupyter-widgets/base",
     "model_module_version": "1.2.0",
     "model_name": "LayoutModel",
     "state": {
      "_model_module": "@jupyter-widgets/base",
      "_model_module_version": "1.2.0",
      "_model_name": "LayoutModel",
      "_view_count": null,
      "_view_module": "@jupyter-widgets/base",
      "_view_module_version": "1.2.0",
      "_view_name": "LayoutView",
      "align_content": null,
      "align_items": null,
      "align_self": null,
      "border": null,
      "bottom": null,
      "display": null,
      "flex": null,
      "flex_flow": null,
      "grid_area": null,
      "grid_auto_columns": null,
      "grid_auto_flow": null,
      "grid_auto_rows": null,
      "grid_column": null,
      "grid_gap": null,
      "grid_row": null,
      "grid_template_areas": null,
      "grid_template_columns": null,
      "grid_template_rows": null,
      "height": null,
      "justify_content": null,
      "justify_items": null,
      "left": null,
      "margin": null,
      "max_height": null,
      "max_width": null,
      "min_height": null,
      "min_width": null,
      "object_fit": null,
      "object_position": null,
      "order": null,
      "overflow": null,
      "overflow_x": null,
      "overflow_y": null,
      "padding": null,
      "right": null,
      "top": null,
      "visibility": null,
      "width": null
     }
    },
    "6b70223bc4744a79b00b36c446190e7d": {
     "model_module": "@jupyter-widgets/base",
     "model_module_version": "1.2.0",
     "model_name": "LayoutModel",
     "state": {
      "_model_module": "@jupyter-widgets/base",
      "_model_module_version": "1.2.0",
      "_model_name": "LayoutModel",
      "_view_count": null,
      "_view_module": "@jupyter-widgets/base",
      "_view_module_version": "1.2.0",
      "_view_name": "LayoutView",
      "align_content": null,
      "align_items": null,
      "align_self": null,
      "border": null,
      "bottom": null,
      "display": null,
      "flex": null,
      "flex_flow": null,
      "grid_area": null,
      "grid_auto_columns": null,
      "grid_auto_flow": null,
      "grid_auto_rows": null,
      "grid_column": null,
      "grid_gap": null,
      "grid_row": null,
      "grid_template_areas": null,
      "grid_template_columns": null,
      "grid_template_rows": null,
      "height": null,
      "justify_content": null,
      "justify_items": null,
      "left": null,
      "margin": null,
      "max_height": null,
      "max_width": null,
      "min_height": null,
      "min_width": null,
      "object_fit": null,
      "object_position": null,
      "order": null,
      "overflow": null,
      "overflow_x": null,
      "overflow_y": null,
      "padding": null,
      "right": null,
      "top": null,
      "visibility": null,
      "width": null
     }
    },
    "6d9767b698d4410186e3c260f95c06f3": {
     "model_module": "@jupyter-widgets/controls",
     "model_module_version": "1.5.0",
     "model_name": "DescriptionStyleModel",
     "state": {
      "_model_module": "@jupyter-widgets/controls",
      "_model_module_version": "1.5.0",
      "_model_name": "DescriptionStyleModel",
      "_view_count": null,
      "_view_module": "@jupyter-widgets/base",
      "_view_module_version": "1.2.0",
      "_view_name": "StyleView",
      "description_width": ""
     }
    },
    "6dc3720d46c14210a89025e682af1b93": {
     "model_module": "@jupyter-widgets/controls",
     "model_module_version": "1.5.0",
     "model_name": "HBoxModel",
     "state": {
      "_dom_classes": [],
      "_model_module": "@jupyter-widgets/controls",
      "_model_module_version": "1.5.0",
      "_model_name": "HBoxModel",
      "_view_count": null,
      "_view_module": "@jupyter-widgets/controls",
      "_view_module_version": "1.5.0",
      "_view_name": "HBoxView",
      "box_style": "",
      "children": [
       "IPY_MODEL_8e786b93cb9544bc8b1a333b7ac26b59",
       "IPY_MODEL_5f001ee7b32f49cdbdd213ace0f2fc65",
       "IPY_MODEL_9dd44e6cc8064ae6a56a27052b1b17e1"
      ],
      "layout": "IPY_MODEL_4200d6dcbd2b456d844d41628743427d"
     }
    },
    "6e7f6eacfc95436db0ceee348eb62357": {
     "model_module": "@jupyter-widgets/base",
     "model_module_version": "1.2.0",
     "model_name": "LayoutModel",
     "state": {
      "_model_module": "@jupyter-widgets/base",
      "_model_module_version": "1.2.0",
      "_model_name": "LayoutModel",
      "_view_count": null,
      "_view_module": "@jupyter-widgets/base",
      "_view_module_version": "1.2.0",
      "_view_name": "LayoutView",
      "align_content": null,
      "align_items": null,
      "align_self": null,
      "border": null,
      "bottom": null,
      "display": null,
      "flex": null,
      "flex_flow": null,
      "grid_area": null,
      "grid_auto_columns": null,
      "grid_auto_flow": null,
      "grid_auto_rows": null,
      "grid_column": null,
      "grid_gap": null,
      "grid_row": null,
      "grid_template_areas": null,
      "grid_template_columns": null,
      "grid_template_rows": null,
      "height": null,
      "justify_content": null,
      "justify_items": null,
      "left": null,
      "margin": null,
      "max_height": null,
      "max_width": null,
      "min_height": null,
      "min_width": null,
      "object_fit": null,
      "object_position": null,
      "order": null,
      "overflow": null,
      "overflow_x": null,
      "overflow_y": null,
      "padding": null,
      "right": null,
      "top": null,
      "visibility": null,
      "width": null
     }
    },
    "711eed22b2b840808e18f653e5f8b130": {
     "model_module": "@jupyter-widgets/base",
     "model_module_version": "1.2.0",
     "model_name": "LayoutModel",
     "state": {
      "_model_module": "@jupyter-widgets/base",
      "_model_module_version": "1.2.0",
      "_model_name": "LayoutModel",
      "_view_count": null,
      "_view_module": "@jupyter-widgets/base",
      "_view_module_version": "1.2.0",
      "_view_name": "LayoutView",
      "align_content": null,
      "align_items": null,
      "align_self": null,
      "border": null,
      "bottom": null,
      "display": null,
      "flex": null,
      "flex_flow": null,
      "grid_area": null,
      "grid_auto_columns": null,
      "grid_auto_flow": null,
      "grid_auto_rows": null,
      "grid_column": null,
      "grid_gap": null,
      "grid_row": null,
      "grid_template_areas": null,
      "grid_template_columns": null,
      "grid_template_rows": null,
      "height": null,
      "justify_content": null,
      "justify_items": null,
      "left": null,
      "margin": null,
      "max_height": null,
      "max_width": null,
      "min_height": null,
      "min_width": null,
      "object_fit": null,
      "object_position": null,
      "order": null,
      "overflow": null,
      "overflow_x": null,
      "overflow_y": null,
      "padding": null,
      "right": null,
      "top": null,
      "visibility": null,
      "width": null
     }
    },
    "778308e38c974f849e10f8faae780442": {
     "model_module": "@jupyter-widgets/controls",
     "model_module_version": "1.5.0",
     "model_name": "HTMLModel",
     "state": {
      "_dom_classes": [],
      "_model_module": "@jupyter-widgets/controls",
      "_model_module_version": "1.5.0",
      "_model_name": "HTMLModel",
      "_view_count": null,
      "_view_module": "@jupyter-widgets/controls",
      "_view_module_version": "1.5.0",
      "_view_name": "HTMLView",
      "description": "",
      "description_tooltip": null,
      "layout": "IPY_MODEL_b14ecccb549c452082db580ccaaf4626",
      "placeholder": "​",
      "style": "IPY_MODEL_233821bbf54443a98d3626fa36fca28f",
      "value": "100%"
     }
    },
    "80eddeaa1bb842108d24a369518cac4c": {
     "model_module": "@jupyter-widgets/controls",
     "model_module_version": "1.5.0",
     "model_name": "ProgressStyleModel",
     "state": {
      "_model_module": "@jupyter-widgets/controls",
      "_model_module_version": "1.5.0",
      "_model_name": "ProgressStyleModel",
      "_view_count": null,
      "_view_module": "@jupyter-widgets/base",
      "_view_module_version": "1.2.0",
      "_view_name": "StyleView",
      "bar_color": null,
      "description_width": ""
     }
    },
    "827f6b8cf7864955af20a4a2a3017db2": {
     "model_module": "@jupyter-widgets/controls",
     "model_module_version": "1.5.0",
     "model_name": "HBoxModel",
     "state": {
      "_dom_classes": [],
      "_model_module": "@jupyter-widgets/controls",
      "_model_module_version": "1.5.0",
      "_model_name": "HBoxModel",
      "_view_count": null,
      "_view_module": "@jupyter-widgets/controls",
      "_view_module_version": "1.5.0",
      "_view_name": "HBoxView",
      "box_style": "",
      "children": [
       "IPY_MODEL_fa2d3ac6b9cd4b4fb0df1aca16ae5730",
       "IPY_MODEL_b4748f457fbe4f99a1756e52359c8ea8",
       "IPY_MODEL_d4ede617053b4baaa32c64d430844bd1"
      ],
      "layout": "IPY_MODEL_1f40c4cd777b4c678d92aeb960c96093"
     }
    },
    "8a2f2626439f47b58bcd48862e1bd31a": {
     "model_module": "@jupyter-widgets/controls",
     "model_module_version": "1.5.0",
     "model_name": "HTMLModel",
     "state": {
      "_dom_classes": [],
      "_model_module": "@jupyter-widgets/controls",
      "_model_module_version": "1.5.0",
      "_model_name": "HTMLModel",
      "_view_count": null,
      "_view_module": "@jupyter-widgets/controls",
      "_view_module_version": "1.5.0",
      "_view_name": "HTMLView",
      "description": "",
      "description_tooltip": null,
      "layout": "IPY_MODEL_ff070c33970a494788828e9eefc828eb",
      "placeholder": "​",
      "style": "IPY_MODEL_deb94fac980345c8a26c22fe37018d79",
      "value": " 4542/4542 [00:00&lt;00:00, 182118.72it/s]"
     }
    },
    "8e786b93cb9544bc8b1a333b7ac26b59": {
     "model_module": "@jupyter-widgets/controls",
     "model_module_version": "1.5.0",
     "model_name": "HTMLModel",
     "state": {
      "_dom_classes": [],
      "_model_module": "@jupyter-widgets/controls",
      "_model_module_version": "1.5.0",
      "_model_name": "HTMLModel",
      "_view_count": null,
      "_view_module": "@jupyter-widgets/controls",
      "_view_module_version": "1.5.0",
      "_view_name": "HTMLView",
      "description": "",
      "description_tooltip": null,
      "layout": "IPY_MODEL_6e7f6eacfc95436db0ceee348eb62357",
      "placeholder": "​",
      "style": "IPY_MODEL_27b7aaa9128e463daba773a813499c1c",
      "value": "100%"
     }
    },
    "9dd44e6cc8064ae6a56a27052b1b17e1": {
     "model_module": "@jupyter-widgets/controls",
     "model_module_version": "1.5.0",
     "model_name": "HTMLModel",
     "state": {
      "_dom_classes": [],
      "_model_module": "@jupyter-widgets/controls",
      "_model_module_version": "1.5.0",
      "_model_name": "HTMLModel",
      "_view_count": null,
      "_view_module": "@jupyter-widgets/controls",
      "_view_module_version": "1.5.0",
      "_view_name": "HTMLView",
      "description": "",
      "description_tooltip": null,
      "layout": "IPY_MODEL_2fe4581831294406b65dd7c42b3f2b16",
      "placeholder": "​",
      "style": "IPY_MODEL_b647132ed5944f4abd5a7f65dbd6e840",
      "value": " 9912422/9912422 [00:00&lt;00:00, 22242541.48it/s]"
     }
    },
    "9fed6b5ee0cc4cad8999ddd1eb111efb": {
     "model_module": "@jupyter-widgets/controls",
     "model_module_version": "1.5.0",
     "model_name": "DescriptionStyleModel",
     "state": {
      "_model_module": "@jupyter-widgets/controls",
      "_model_module_version": "1.5.0",
      "_model_name": "DescriptionStyleModel",
      "_view_count": null,
      "_view_module": "@jupyter-widgets/base",
      "_view_module_version": "1.2.0",
      "_view_name": "StyleView",
      "description_width": ""
     }
    },
    "a7103d4135cf40669406adf692fc72e5": {
     "model_module": "@jupyter-widgets/controls",
     "model_module_version": "1.5.0",
     "model_name": "DescriptionStyleModel",
     "state": {
      "_model_module": "@jupyter-widgets/controls",
      "_model_module_version": "1.5.0",
      "_model_name": "DescriptionStyleModel",
      "_view_count": null,
      "_view_module": "@jupyter-widgets/base",
      "_view_module_version": "1.2.0",
      "_view_name": "StyleView",
      "description_width": ""
     }
    },
    "b14ecccb549c452082db580ccaaf4626": {
     "model_module": "@jupyter-widgets/base",
     "model_module_version": "1.2.0",
     "model_name": "LayoutModel",
     "state": {
      "_model_module": "@jupyter-widgets/base",
      "_model_module_version": "1.2.0",
      "_model_name": "LayoutModel",
      "_view_count": null,
      "_view_module": "@jupyter-widgets/base",
      "_view_module_version": "1.2.0",
      "_view_name": "LayoutView",
      "align_content": null,
      "align_items": null,
      "align_self": null,
      "border": null,
      "bottom": null,
      "display": null,
      "flex": null,
      "flex_flow": null,
      "grid_area": null,
      "grid_auto_columns": null,
      "grid_auto_flow": null,
      "grid_auto_rows": null,
      "grid_column": null,
      "grid_gap": null,
      "grid_row": null,
      "grid_template_areas": null,
      "grid_template_columns": null,
      "grid_template_rows": null,
      "height": null,
      "justify_content": null,
      "justify_items": null,
      "left": null,
      "margin": null,
      "max_height": null,
      "max_width": null,
      "min_height": null,
      "min_width": null,
      "object_fit": null,
      "object_position": null,
      "order": null,
      "overflow": null,
      "overflow_x": null,
      "overflow_y": null,
      "padding": null,
      "right": null,
      "top": null,
      "visibility": null,
      "width": null
     }
    },
    "b4748f457fbe4f99a1756e52359c8ea8": {
     "model_module": "@jupyter-widgets/controls",
     "model_module_version": "1.5.0",
     "model_name": "FloatProgressModel",
     "state": {
      "_dom_classes": [],
      "_model_module": "@jupyter-widgets/controls",
      "_model_module_version": "1.5.0",
      "_model_name": "FloatProgressModel",
      "_view_count": null,
      "_view_module": "@jupyter-widgets/controls",
      "_view_module_version": "1.5.0",
      "_view_name": "ProgressView",
      "bar_style": "success",
      "description": "",
      "description_tooltip": null,
      "layout": "IPY_MODEL_115e37596c0e499a904a4101f69ee3e1",
      "max": 170498071,
      "min": 0,
      "orientation": "horizontal",
      "style": "IPY_MODEL_80eddeaa1bb842108d24a369518cac4c",
      "value": 170498071
     }
    },
    "b647132ed5944f4abd5a7f65dbd6e840": {
     "model_module": "@jupyter-widgets/controls",
     "model_module_version": "1.5.0",
     "model_name": "DescriptionStyleModel",
     "state": {
      "_model_module": "@jupyter-widgets/controls",
      "_model_module_version": "1.5.0",
      "_model_name": "DescriptionStyleModel",
      "_view_count": null,
      "_view_module": "@jupyter-widgets/base",
      "_view_module_version": "1.2.0",
      "_view_name": "StyleView",
      "description_width": ""
     }
    },
    "bf2ff425393d402a9c1505b9e51ff6d7": {
     "model_module": "@jupyter-widgets/controls",
     "model_module_version": "1.5.0",
     "model_name": "FloatProgressModel",
     "state": {
      "_dom_classes": [],
      "_model_module": "@jupyter-widgets/controls",
      "_model_module_version": "1.5.0",
      "_model_name": "FloatProgressModel",
      "_view_count": null,
      "_view_module": "@jupyter-widgets/controls",
      "_view_module_version": "1.5.0",
      "_view_name": "ProgressView",
      "bar_style": "success",
      "description": "",
      "description_tooltip": null,
      "layout": "IPY_MODEL_6b70223bc4744a79b00b36c446190e7d",
      "max": 28881,
      "min": 0,
      "orientation": "horizontal",
      "style": "IPY_MODEL_cefcf2dd904349429958cd072d40a217",
      "value": 28881
     }
    },
    "c80b58a8093c4abbbd30f7a54e409205": {
     "model_module": "@jupyter-widgets/base",
     "model_module_version": "1.2.0",
     "model_name": "LayoutModel",
     "state": {
      "_model_module": "@jupyter-widgets/base",
      "_model_module_version": "1.2.0",
      "_model_name": "LayoutModel",
      "_view_count": null,
      "_view_module": "@jupyter-widgets/base",
      "_view_module_version": "1.2.0",
      "_view_name": "LayoutView",
      "align_content": null,
      "align_items": null,
      "align_self": null,
      "border": null,
      "bottom": null,
      "display": null,
      "flex": null,
      "flex_flow": null,
      "grid_area": null,
      "grid_auto_columns": null,
      "grid_auto_flow": null,
      "grid_auto_rows": null,
      "grid_column": null,
      "grid_gap": null,
      "grid_row": null,
      "grid_template_areas": null,
      "grid_template_columns": null,
      "grid_template_rows": null,
      "height": null,
      "justify_content": null,
      "justify_items": null,
      "left": null,
      "margin": null,
      "max_height": null,
      "max_width": null,
      "min_height": null,
      "min_width": null,
      "object_fit": null,
      "object_position": null,
      "order": null,
      "overflow": null,
      "overflow_x": null,
      "overflow_y": null,
      "padding": null,
      "right": null,
      "top": null,
      "visibility": null,
      "width": null
     }
    },
    "c9114a23559e4b2a85a7d4a9c468b666": {
     "model_module": "@jupyter-widgets/controls",
     "model_module_version": "1.5.0",
     "model_name": "HTMLModel",
     "state": {
      "_dom_classes": [],
      "_model_module": "@jupyter-widgets/controls",
      "_model_module_version": "1.5.0",
      "_model_name": "HTMLModel",
      "_view_count": null,
      "_view_module": "@jupyter-widgets/controls",
      "_view_module_version": "1.5.0",
      "_view_name": "HTMLView",
      "description": "",
      "description_tooltip": null,
      "layout": "IPY_MODEL_4b82ecce912a46739c90b594b9f07738",
      "placeholder": "​",
      "style": "IPY_MODEL_cafd86c9224445859d7c287bd519b89c",
      "value": " 28881/28881 [00:00&lt;00:00, 1043167.11it/s]"
     }
    },
    "cafd86c9224445859d7c287bd519b89c": {
     "model_module": "@jupyter-widgets/controls",
     "model_module_version": "1.5.0",
     "model_name": "DescriptionStyleModel",
     "state": {
      "_model_module": "@jupyter-widgets/controls",
      "_model_module_version": "1.5.0",
      "_model_name": "DescriptionStyleModel",
      "_view_count": null,
      "_view_module": "@jupyter-widgets/base",
      "_view_module_version": "1.2.0",
      "_view_name": "StyleView",
      "description_width": ""
     }
    },
    "cc1055767bea4a47902d560fabd63b60": {
     "model_module": "@jupyter-widgets/base",
     "model_module_version": "1.2.0",
     "model_name": "LayoutModel",
     "state": {
      "_model_module": "@jupyter-widgets/base",
      "_model_module_version": "1.2.0",
      "_model_name": "LayoutModel",
      "_view_count": null,
      "_view_module": "@jupyter-widgets/base",
      "_view_module_version": "1.2.0",
      "_view_name": "LayoutView",
      "align_content": null,
      "align_items": null,
      "align_self": null,
      "border": null,
      "bottom": null,
      "display": null,
      "flex": null,
      "flex_flow": null,
      "grid_area": null,
      "grid_auto_columns": null,
      "grid_auto_flow": null,
      "grid_auto_rows": null,
      "grid_column": null,
      "grid_gap": null,
      "grid_row": null,
      "grid_template_areas": null,
      "grid_template_columns": null,
      "grid_template_rows": null,
      "height": null,
      "justify_content": null,
      "justify_items": null,
      "left": null,
      "margin": null,
      "max_height": null,
      "max_width": null,
      "min_height": null,
      "min_width": null,
      "object_fit": null,
      "object_position": null,
      "order": null,
      "overflow": null,
      "overflow_x": null,
      "overflow_y": null,
      "padding": null,
      "right": null,
      "top": null,
      "visibility": null,
      "width": null
     }
    },
    "cefcf2dd904349429958cd072d40a217": {
     "model_module": "@jupyter-widgets/controls",
     "model_module_version": "1.5.0",
     "model_name": "ProgressStyleModel",
     "state": {
      "_model_module": "@jupyter-widgets/controls",
      "_model_module_version": "1.5.0",
      "_model_name": "ProgressStyleModel",
      "_view_count": null,
      "_view_module": "@jupyter-widgets/base",
      "_view_module_version": "1.2.0",
      "_view_name": "StyleView",
      "bar_color": null,
      "description_width": ""
     }
    },
    "d4ede617053b4baaa32c64d430844bd1": {
     "model_module": "@jupyter-widgets/controls",
     "model_module_version": "1.5.0",
     "model_name": "HTMLModel",
     "state": {
      "_dom_classes": [],
      "_model_module": "@jupyter-widgets/controls",
      "_model_module_version": "1.5.0",
      "_model_name": "HTMLModel",
      "_view_count": null,
      "_view_module": "@jupyter-widgets/controls",
      "_view_module_version": "1.5.0",
      "_view_name": "HTMLView",
      "description": "",
      "description_tooltip": null,
      "layout": "IPY_MODEL_e5ae412348e34334acfea296ec463b27",
      "placeholder": "​",
      "style": "IPY_MODEL_9fed6b5ee0cc4cad8999ddd1eb111efb",
      "value": " 170498071/170498071 [00:01&lt;00:00, 95609432.35it/s]"
     }
    },
    "deb94fac980345c8a26c22fe37018d79": {
     "model_module": "@jupyter-widgets/controls",
     "model_module_version": "1.5.0",
     "model_name": "DescriptionStyleModel",
     "state": {
      "_model_module": "@jupyter-widgets/controls",
      "_model_module_version": "1.5.0",
      "_model_name": "DescriptionStyleModel",
      "_view_count": null,
      "_view_module": "@jupyter-widgets/base",
      "_view_module_version": "1.2.0",
      "_view_name": "StyleView",
      "description_width": ""
     }
    },
    "e285551db0b148729b25f2a165d3efbc": {
     "model_module": "@jupyter-widgets/controls",
     "model_module_version": "1.5.0",
     "model_name": "HTMLModel",
     "state": {
      "_dom_classes": [],
      "_model_module": "@jupyter-widgets/controls",
      "_model_module_version": "1.5.0",
      "_model_name": "HTMLModel",
      "_view_count": null,
      "_view_module": "@jupyter-widgets/controls",
      "_view_module_version": "1.5.0",
      "_view_name": "HTMLView",
      "description": "",
      "description_tooltip": null,
      "layout": "IPY_MODEL_c80b58a8093c4abbbd30f7a54e409205",
      "placeholder": "​",
      "style": "IPY_MODEL_13a5ab234da14a4b946e37ecb8bd5221",
      "value": "100%"
     }
    },
    "e5ae412348e34334acfea296ec463b27": {
     "model_module": "@jupyter-widgets/base",
     "model_module_version": "1.2.0",
     "model_name": "LayoutModel",
     "state": {
      "_model_module": "@jupyter-widgets/base",
      "_model_module_version": "1.2.0",
      "_model_name": "LayoutModel",
      "_view_count": null,
      "_view_module": "@jupyter-widgets/base",
      "_view_module_version": "1.2.0",
      "_view_name": "LayoutView",
      "align_content": null,
      "align_items": null,
      "align_self": null,
      "border": null,
      "bottom": null,
      "display": null,
      "flex": null,
      "flex_flow": null,
      "grid_area": null,
      "grid_auto_columns": null,
      "grid_auto_flow": null,
      "grid_auto_rows": null,
      "grid_column": null,
      "grid_gap": null,
      "grid_row": null,
      "grid_template_areas": null,
      "grid_template_columns": null,
      "grid_template_rows": null,
      "height": null,
      "justify_content": null,
      "justify_items": null,
      "left": null,
      "margin": null,
      "max_height": null,
      "max_width": null,
      "min_height": null,
      "min_width": null,
      "object_fit": null,
      "object_position": null,
      "order": null,
      "overflow": null,
      "overflow_x": null,
      "overflow_y": null,
      "padding": null,
      "right": null,
      "top": null,
      "visibility": null,
      "width": null
     }
    },
    "f1584fb5abce44f09d26062bbed4833b": {
     "model_module": "@jupyter-widgets/base",
     "model_module_version": "1.2.0",
     "model_name": "LayoutModel",
     "state": {
      "_model_module": "@jupyter-widgets/base",
      "_model_module_version": "1.2.0",
      "_model_name": "LayoutModel",
      "_view_count": null,
      "_view_module": "@jupyter-widgets/base",
      "_view_module_version": "1.2.0",
      "_view_name": "LayoutView",
      "align_content": null,
      "align_items": null,
      "align_self": null,
      "border": null,
      "bottom": null,
      "display": null,
      "flex": null,
      "flex_flow": null,
      "grid_area": null,
      "grid_auto_columns": null,
      "grid_auto_flow": null,
      "grid_auto_rows": null,
      "grid_column": null,
      "grid_gap": null,
      "grid_row": null,
      "grid_template_areas": null,
      "grid_template_columns": null,
      "grid_template_rows": null,
      "height": null,
      "justify_content": null,
      "justify_items": null,
      "left": null,
      "margin": null,
      "max_height": null,
      "max_width": null,
      "min_height": null,
      "min_width": null,
      "object_fit": null,
      "object_position": null,
      "order": null,
      "overflow": null,
      "overflow_x": null,
      "overflow_y": null,
      "padding": null,
      "right": null,
      "top": null,
      "visibility": null,
      "width": null
     }
    },
    "f41b2ad8319a47e8ba06c1b0c173a324": {
     "model_module": "@jupyter-widgets/base",
     "model_module_version": "1.2.0",
     "model_name": "LayoutModel",
     "state": {
      "_model_module": "@jupyter-widgets/base",
      "_model_module_version": "1.2.0",
      "_model_name": "LayoutModel",
      "_view_count": null,
      "_view_module": "@jupyter-widgets/base",
      "_view_module_version": "1.2.0",
      "_view_name": "LayoutView",
      "align_content": null,
      "align_items": null,
      "align_self": null,
      "border": null,
      "bottom": null,
      "display": null,
      "flex": null,
      "flex_flow": null,
      "grid_area": null,
      "grid_auto_columns": null,
      "grid_auto_flow": null,
      "grid_auto_rows": null,
      "grid_column": null,
      "grid_gap": null,
      "grid_row": null,
      "grid_template_areas": null,
      "grid_template_columns": null,
      "grid_template_rows": null,
      "height": null,
      "justify_content": null,
      "justify_items": null,
      "left": null,
      "margin": null,
      "max_height": null,
      "max_width": null,
      "min_height": null,
      "min_width": null,
      "object_fit": null,
      "object_position": null,
      "order": null,
      "overflow": null,
      "overflow_x": null,
      "overflow_y": null,
      "padding": null,
      "right": null,
      "top": null,
      "visibility": null,
      "width": null
     }
    },
    "fa2d3ac6b9cd4b4fb0df1aca16ae5730": {
     "model_module": "@jupyter-widgets/controls",
     "model_module_version": "1.5.0",
     "model_name": "HTMLModel",
     "state": {
      "_dom_classes": [],
      "_model_module": "@jupyter-widgets/controls",
      "_model_module_version": "1.5.0",
      "_model_name": "HTMLModel",
      "_view_count": null,
      "_view_module": "@jupyter-widgets/controls",
      "_view_module_version": "1.5.0",
      "_view_name": "HTMLView",
      "description": "",
      "description_tooltip": null,
      "layout": "IPY_MODEL_f1584fb5abce44f09d26062bbed4833b",
      "placeholder": "​",
      "style": "IPY_MODEL_6d9767b698d4410186e3c260f95c06f3",
      "value": "100%"
     }
    },
    "faff73019f8048c1a7155a8d86a6e287": {
     "model_module": "@jupyter-widgets/controls",
     "model_module_version": "1.5.0",
     "model_name": "ProgressStyleModel",
     "state": {
      "_model_module": "@jupyter-widgets/controls",
      "_model_module_version": "1.5.0",
      "_model_name": "ProgressStyleModel",
      "_view_count": null,
      "_view_module": "@jupyter-widgets/base",
      "_view_module_version": "1.2.0",
      "_view_name": "StyleView",
      "bar_color": null,
      "description_width": ""
     }
    },
    "ff070c33970a494788828e9eefc828eb": {
     "model_module": "@jupyter-widgets/base",
     "model_module_version": "1.2.0",
     "model_name": "LayoutModel",
     "state": {
      "_model_module": "@jupyter-widgets/base",
      "_model_module_version": "1.2.0",
      "_model_name": "LayoutModel",
      "_view_count": null,
      "_view_module": "@jupyter-widgets/base",
      "_view_module_version": "1.2.0",
      "_view_name": "LayoutView",
      "align_content": null,
      "align_items": null,
      "align_self": null,
      "border": null,
      "bottom": null,
      "display": null,
      "flex": null,
      "flex_flow": null,
      "grid_area": null,
      "grid_auto_columns": null,
      "grid_auto_flow": null,
      "grid_auto_rows": null,
      "grid_column": null,
      "grid_gap": null,
      "grid_row": null,
      "grid_template_areas": null,
      "grid_template_columns": null,
      "grid_template_rows": null,
      "height": null,
      "justify_content": null,
      "justify_items": null,
      "left": null,
      "margin": null,
      "max_height": null,
      "max_width": null,
      "min_height": null,
      "min_width": null,
      "object_fit": null,
      "object_position": null,
      "order": null,
      "overflow": null,
      "overflow_x": null,
      "overflow_y": null,
      "padding": null,
      "right": null,
      "top": null,
      "visibility": null,
      "width": null
     }
    }
   }
  }
 },
 "nbformat": 4,
 "nbformat_minor": 1
}
