{
 "cells": [
  {
   "cell_type": "markdown",
   "metadata": {},
   "source": [
    "# Point Cloud Binary Classification with PyTorch"
   ]
  },
  {
   "cell_type": "markdown",
   "metadata": {},
   "source": [
    "Make sure you are using the `dl4cv` conda environment."
   ]
  },
  {
   "cell_type": "markdown",
   "metadata": {},
   "source": [
    "## Dataset loading and visualization"
   ]
  },
  {
   "cell_type": "markdown",
   "metadata": {},
   "source": [
    "The input X contain 100 2D points, and y are their corresponding labels (0 or 1). The goal is to train a model that can classify every point to its correct label.\n"
   ]
  },
  {
   "cell_type": "code",
   "execution_count": 147,
   "metadata": {
    "scrolled": true
   },
   "outputs": [
    {
     "data": {
      "image/png": "[encoded data removed]",
      "text/plain": [
       "<Figure size 640x480 with 1 Axes>"
      ]
     },
     "metadata": {},
     "output_type": "display_data"
    },
    {
     "data": {
      "text/plain": [
       "<Figure size 640x480 with 0 Axes>"
      ]
     },
     "metadata": {},
     "output_type": "display_data"
    }
   ],
   "source": [
    "%matplotlib inline\n",
    "import matplotlib.pyplot as plt\n",
    "import numpy as np\n",
    "import torch\n",
    "import torch.nn as nn\n",
    "import torch.nn.functional as F\n",
    "import torch.optim as optim\n",
    "from torch.utils.data import Dataset\n",
    "from torch.utils.data import DataLoader\n",
    "from torch.optim import Adam\n",
    "\n",
    "dataset = np.load('data/2d_pcl_dataset.npz')\n",
    "X, y = dataset['X'], dataset['y']\n",
    "\n",
    "X0 = X[y==0] # 50 2D points have label 0\n",
    "X1 = X[y==1] # 50 2D points have label 1\n",
    "\n",
    "def plot(X0, X1, fit_param=None):\n",
    "    plt.scatter(X0[:,0], X0[:,1], color='red', label=0)\n",
    "    plt.scatter(X1[:,0], X1[:,1], color='blue', label=1)\n",
    "    \n",
    "    plt.xlim([-0.55, 0.55])\n",
    "    plt.ylim([-0.35, 0.25])\n",
    "    plt.legend()\n",
    "    plt.show()\n",
    "    plt.clf()\n",
    "\n",
    "plot(X0, X1)"
   ]
  },
  {
   "cell_type": "markdown",
   "metadata": {},
   "source": [
    "## Logistic Regression for the point cloud classification task\n"
   ]
  },
  {
   "cell_type": "markdown",
   "metadata": {},
   "source": [
    "Starting by filling in the `Simple2DDataset` class below. First, in the class constructore `__init__`, you will need to read the right `2d_pcl_dataset.npz` from disk.\n",
    "\n",
    "Second, in the `__getitem__`, you will need to take a single data point and its label based on its index `idx`"
   ]
  },
  {
   "cell_type": "code",
   "execution_count": 148,
   "metadata": {},
   "outputs": [],
   "source": [
    "class Simple2DDataset(Dataset):\n",
    "    def __init__(self):\n",
    "        super().__init__()\n",
    "        #########################################################################\n",
    "        # TODO: read data from disk using np.load.\n",
    "        # Data is located in the folder \"data\".\n",
    "        # Save samples and labels to class members self.X and self.y respectively.\n",
    "        # samples should be an Nx2 numpy array. Labels should be Nx1.\n",
    "        #########################################################################\n",
    "        self.X = np.load('data/X.npy')\n",
    "        self.y = np.load('data/y.npy')\n",
    "     \n",
    "    def __len__(self):\n",
    "        # Returns the number of samples in the dataset.\n",
    "        return self.X.shape[0]\n",
    "    \n",
    "    def __getitem__(self, idx):\n",
    "        #########################################################################\n",
    "        # TODO: return the sample and label with index idx\n",
    "        #########################################################################\n",
    "        point = X[idx,:]\n",
    "        label = y[idx]\n",
    "        \n",
    "        # Convert to tensor.\n",
    "        return torch.from_numpy(point).float(), \\\n",
    "               torch.from_numpy(label[np.newaxis]).float()\n"
   ]
  },
  {
   "cell_type": "markdown",
   "metadata": {},
   "source": [
    "With the complete `Simple2DDataset`, we can create a PyTorch dataloader\n",
    "\n",
    "**NOTE**: if you encounter some unexpected errors in data loading, try setting `NUM_WORKERS = 0`"
   ]
  },
  {
   "cell_type": "code",
   "execution_count": 149,
   "metadata": {},
   "outputs": [],
   "source": [
    "BATCH_SIZE = 8\n",
    "NUM_WORKERS = 0\n",
    "\n",
    "# create the dataloader\n",
    "dataset = Simple2DDataset()\n",
    "train_dataloader = DataLoader(\n",
    "    dataset,\n",
    "    batch_size=BATCH_SIZE,\n",
    "    num_workers=NUM_WORKERS,\n",
    "    shuffle=True\n",
    ")"
   ]
  },
  {
   "cell_type": "markdown",
   "metadata": {},
   "source": [
    "Now, define your first network by filling in the `LinearClassifier` class below.\n",
    "\n",
    "Add a single linear layer `nn.Linear` inside the `nn.Sequential` call. The input is 2D, and the output should be a single value, corresponding to the probability of a given 2D point being part of cluster 0."
   ]
  },
  {
   "cell_type": "code",
   "execution_count": 150,
   "metadata": {},
   "outputs": [],
   "source": [
    "class LinearClassifier(nn.Module):\n",
    "    def __init__(self):\n",
    "        super().__init__()\n",
    "\n",
    "        self.codename = 'linear'\n",
    "\n",
    "        #########################################################################\n",
    "        # TODO: add a single linear layer with nn.Linear, inside the `nn.Sequential` call.\n",
    "        # Input is 2D.\n",
    "        # Output is a single value.\n",
    "        #########################################################################\n",
    "        in_features = dataset.X.shape[1] # [x,y]\n",
    "        out_features = 1 # y : [0,1]\n",
    "        self.model = nn.Sequential(\n",
    "                     nn.Linear(in_features,out_features)\n",
    "        )\n",
    "        \n",
    "    def forward(self, batch):\n",
    "        # Process batch using the defined model.\n",
    "        x = self.model(batch)\n",
    "        # Final sigmoid activation to obtain a probability between 0 and 1.\n",
    "        return torch.sigmoid(x)"
   ]
  },
  {
   "cell_type": "markdown",
   "metadata": {},
   "source": [
    "Now, you are asked to implement the training loop below"
   ]
  },
  {
   "cell_type": "code",
   "execution_count": 151,
   "metadata": {},
   "outputs": [],
   "source": [
    "def train(net, optimizer, dataloader, epoch):\n",
    "    net.train() #sets model to training mode\n",
    "    loss_sum = 0\n",
    "    for batch_idx, (point, label) in enumerate(dataloader): # each batch contains 8 training samples and labels\n",
    "        # First we need to zero the gradient, otherwise PyTorch would accumulate them\n",
    "        optimizer.zero_grad()\n",
    "\n",
    "        #########################################################################\n",
    "        #TODO: \n",
    "        # 1. forward pass of the network to obtain the predictions given the batch\n",
    "        # 2. compute the loss using F.binary_cross_entropy\n",
    "        # 3. backward pass on the loss using loss.backward(), and one step \n",
    "        # of gradient descent (optimization) using optimizer.step()\n",
    "        #########################################################################        \n",
    "        # in one epoch all points are used to compute the loss\n",
    "        # one epoch processes all 100 samples in 12.5 rounds with batchsize 8\n",
    "        preds = net.forward(point)\n",
    "        loss = F.binary_cross_entropy(preds,label)\n",
    "        loss.backward()\n",
    "        optimizer.step()        \n",
    "        #loss = 0 \n",
    "        loss_sum += loss\n",
    "    return loss_sum\n",
    "        "
   ]
  },
  {
   "cell_type": "markdown",
   "metadata": {},
   "source": [
    "You can now run below to train the linear model."
   ]
  },
  {
   "cell_type": "code",
   "execution_count": 152,
   "metadata": {
    "scrolled": true,
    "tags": []
   },
   "outputs": [
    {
     "name": "stdout",
     "output_type": "stream",
     "text": [
      "[Epoch 01] Loss: 8.4476\n",
      "[Epoch 02] Loss: 6.9259\n",
      "[Epoch 03] Loss: 6.1599\n",
      "[Epoch 04] Loss: 5.3542\n",
      "[Epoch 05] Loss: 4.9276\n",
      "[Epoch 06] Loss: 4.8038\n",
      "[Epoch 07] Loss: 4.4890\n",
      "[Epoch 08] Loss: 4.3063\n",
      "[Epoch 09] Loss: 4.2311\n",
      "[Epoch 10] Loss: 4.2941\n",
      "[Epoch 11] Loss: 4.2196\n",
      "[Epoch 12] Loss: 3.9202\n",
      "[Epoch 13] Loss: 3.8811\n",
      "[Epoch 14] Loss: 3.8832\n",
      "[Epoch 15] Loss: 3.9816\n",
      "[Epoch 16] Loss: 3.7660\n",
      "[Epoch 17] Loss: 3.6984\n",
      "[Epoch 18] Loss: 3.6578\n",
      "[Epoch 19] Loss: 3.6466\n",
      "[Epoch 20] Loss: 3.6754\n",
      "[Epoch 21] Loss: 3.7623\n",
      "[Epoch 22] Loss: 3.5709\n",
      "[Epoch 23] Loss: 3.6764\n",
      "[Epoch 24] Loss: 3.6858\n",
      "[Epoch 25] Loss: 3.7193\n",
      "[Epoch 26] Loss: 3.5923\n",
      "[Epoch 27] Loss: 3.7797\n",
      "[Epoch 28] Loss: 3.5179\n",
      "[Epoch 29] Loss: 3.6701\n",
      "[Epoch 30] Loss: 3.7766\n",
      "[Epoch 31] Loss: 3.4838\n",
      "[Epoch 32] Loss: 3.5446\n",
      "[Epoch 33] Loss: 3.4754\n",
      "[Epoch 34] Loss: 3.4676\n",
      "[Epoch 35] Loss: 3.4689\n",
      "[Epoch 36] Loss: 3.7774\n",
      "[Epoch 37] Loss: 3.4844\n",
      "[Epoch 38] Loss: 3.6376\n",
      "[Epoch 39] Loss: 3.7121\n",
      "[Epoch 40] Loss: 3.4905\n",
      "[Epoch 41] Loss: 3.4863\n",
      "[Epoch 42] Loss: 3.4929\n",
      "[Epoch 43] Loss: 3.6431\n",
      "[Epoch 44] Loss: 3.6329\n",
      "[Epoch 45] Loss: 3.4712\n",
      "[Epoch 46] Loss: 3.7027\n",
      "[Epoch 47] Loss: 3.7350\n",
      "[Epoch 48] Loss: 3.8497\n",
      "[Epoch 49] Loss: 3.4489\n",
      "[Epoch 50] Loss: 3.5076\n",
      "[Epoch 51] Loss: 3.8717\n",
      "[Epoch 52] Loss: 3.5577\n",
      "[Epoch 53] Loss: 3.9559\n",
      "[Epoch 54] Loss: 3.4866\n",
      "[Epoch 55] Loss: 3.6078\n",
      "[Epoch 56] Loss: 3.5085\n",
      "[Epoch 57] Loss: 3.4488\n",
      "[Epoch 58] Loss: 3.5308\n",
      "[Epoch 59] Loss: 3.8307\n",
      "[Epoch 60] Loss: 3.5978\n",
      "[Epoch 61] Loss: 3.5541\n",
      "[Epoch 62] Loss: 3.4400\n",
      "[Epoch 63] Loss: 3.6323\n",
      "[Epoch 64] Loss: 3.6611\n",
      "[Epoch 65] Loss: 3.5130\n",
      "[Epoch 66] Loss: 3.4519\n",
      "[Epoch 67] Loss: 3.7383\n",
      "[Epoch 68] Loss: 3.7485\n",
      "[Epoch 69] Loss: 3.5638\n",
      "[Epoch 70] Loss: 3.4397\n",
      "[Epoch 71] Loss: 3.5802\n",
      "[Epoch 72] Loss: 3.5835\n",
      "[Epoch 73] Loss: 3.5512\n",
      "[Epoch 74] Loss: 3.4677\n",
      "[Epoch 75] Loss: 3.4643\n",
      "[Epoch 76] Loss: 3.4680\n",
      "[Epoch 77] Loss: 3.5288\n",
      "[Epoch 78] Loss: 3.4964\n",
      "[Epoch 79] Loss: 3.6720\n",
      "[Epoch 80] Loss: 3.4354\n",
      "[Epoch 81] Loss: 3.4424\n",
      "[Epoch 82] Loss: 3.7937\n",
      "[Epoch 83] Loss: 3.4855\n",
      "[Epoch 84] Loss: 3.8085\n",
      "[Epoch 85] Loss: 3.4571\n",
      "[Epoch 86] Loss: 3.6433\n",
      "[Epoch 87] Loss: 3.5114\n",
      "[Epoch 88] Loss: 3.4580\n",
      "[Epoch 89] Loss: 3.6629\n",
      "[Epoch 90] Loss: 3.5815\n",
      "[Epoch 91] Loss: 3.6655\n",
      "[Epoch 92] Loss: 3.5186\n",
      "[Epoch 93] Loss: 3.5372\n",
      "[Epoch 94] Loss: 3.6338\n",
      "[Epoch 95] Loss: 3.4616\n",
      "[Epoch 96] Loss: 3.6451\n",
      "[Epoch 97] Loss: 3.5816\n",
      "[Epoch 98] Loss: 3.4372\n",
      "[Epoch 99] Loss: 3.7041\n",
      "[Epoch 100] Loss: 3.4984\n"
     ]
    }
   ],
   "source": [
    "NUM_EPOCHS = 100\n",
    "# create the network.\n",
    "net = LinearClassifier()\n",
    "\n",
    "# create the optimizer.\n",
    "optimizer = Adam(net.parameters(), lr=0.1)\n",
    "\n",
    "best_accuracy = 0\n",
    "for epoch_idx in range(NUM_EPOCHS):\n",
    "    loss = train(net, optimizer, train_dataloader, epoch_idx)\n",
    "    print('[Epoch %02d] Loss: %.4f' % (epoch_idx + 1, loss))"
   ]
  },
  {
   "cell_type": "markdown",
   "metadata": {},
   "source": [
    "Now plot your result below.\n"
   ]
  },
  {
   "cell_type": "code",
   "execution_count": 153,
   "metadata": {},
   "outputs": [
    {
     "data": {
      "image/png": "[encoded data removed]",
      "text/plain": [
       "<Figure size 640x480 with 1 Axes>"
      ]
     },
     "metadata": {},
     "output_type": "display_data"
    },
    {
     "data": {
      "text/plain": [
       "<Figure size 640x480 with 0 Axes>"
      ]
     },
     "metadata": {},
     "output_type": "display_data"
    }
   ],
   "source": [
    "p = np.linspace(-0.5, 0.5, 500)\n",
    "x_plot, y_plot = np.meshgrid(p, p)\n",
    "X_plot = np.stack((x_plot, y_plot), axis=2).reshape(-1, 2)\n",
    "X_plot = torch.from_numpy(X_plot).float()\n",
    "output = net(X_plot)\n",
    "output = output.detach().numpy()\n",
    "output = output.reshape(x_plot.shape[0], x_plot.shape[1])\n",
    "\n",
    "plt.contour(x_plot, y_plot, output, [0.5],\n",
    "                  colors=('k',),\n",
    "                  linewidths=(3,))\n",
    "plot(X0, X1)\n"
   ]
  },
  {
   "cell_type": "markdown",
   "metadata": {},
   "source": [
    "### Implement your first multi-layer perceptron (MLP) for point cloud classification\n",
    "Now you should notice that your logistic regression model cannot classify the point cloud correctly, and this is as expected :)  \n",
    "Therefore, we now ask you to implement an MLP for the same binary classification task."
   ]
  },
  {
   "cell_type": "code",
   "execution_count": 154,
   "metadata": {},
   "outputs": [],
   "source": [
    "# These are the parameters to be used\n",
    "nInput = 2\n",
    "nOutput = 1\n",
    "nHidden = 16\n",
    "act_fn = nn.ReLU()\n",
    "\n",
    "class MLP(nn.Module):\n",
    "    def __init__(self, nInput, nOutput, nHidden, act_fn):\n",
    "        super().__init__()\n",
    "\n",
    "        # Define the network layers in order.\n",
    "        # Input is 2D (nInput).\n",
    "        # Output is a single value (nOutput).\n",
    "        # Multiple linear layers each followed by a ReLU non-linearity (apart from the last).\n",
    "        #########################################################################\n",
    "        # TODO: add a two-layer MLP, inside the `nn.Sequential` call.\n",
    "        # Input is 2D.\n",
    "        # Output is a single value.\n",
    "\n",
    "        # Hint: unlike logistic regression where you need only one nn.Linear layer, \n",
    "        # here you will have two nn.Linear layers. After the first layer, we \n",
    "        # apply a ReLU activation function. The output is then passed to another \n",
    "        # linear layer. Note that you should use `nHidden` below as the hidden dimension \n",
    "        # of your linear layers.\n",
    "        #########################################################################\n",
    "        self.model = nn.Sequential(\n",
    "                     nn.Linear(nInput,nHidden),\n",
    "                     act_fn,\n",
    "                     nn.Linear(nHidden,nOutput),       \n",
    "        )\n",
    "        \n",
    "    def forward(self, batch):\n",
    "        # Process batch using the defined model.\n",
    "        x = self.model(batch)\n",
    "        # Final sigmoid activation to obtain a probability.\n",
    "        return torch.sigmoid(x)\n"
   ]
  },
  {
   "cell_type": "markdown",
   "metadata": {},
   "source": [
    "Run below again!"
   ]
  },
  {
   "cell_type": "code",
   "execution_count": 155,
   "metadata": {},
   "outputs": [
    {
     "name": "stdout",
     "output_type": "stream",
     "text": [
      "[Epoch 01] Loss: 6.5836\n",
      "[Epoch 02] Loss: 4.7334\n",
      "[Epoch 03] Loss: 3.8383\n",
      "[Epoch 04] Loss: 3.8872\n",
      "[Epoch 05] Loss: 4.2423\n",
      "[Epoch 06] Loss: 3.9101\n",
      "[Epoch 07] Loss: 3.7266\n",
      "[Epoch 08] Loss: 3.9431\n",
      "[Epoch 09] Loss: 3.5655\n",
      "[Epoch 10] Loss: 3.9131\n",
      "[Epoch 11] Loss: 4.2233\n",
      "[Epoch 12] Loss: 3.8431\n",
      "[Epoch 13] Loss: 3.5835\n",
      "[Epoch 14] Loss: 3.5739\n",
      "[Epoch 15] Loss: 3.5967\n",
      "[Epoch 16] Loss: 3.7190\n",
      "[Epoch 17] Loss: 3.5627\n",
      "[Epoch 18] Loss: 3.6115\n",
      "[Epoch 19] Loss: 3.4951\n",
      "[Epoch 20] Loss: 3.6948\n",
      "[Epoch 21] Loss: 3.7825\n",
      "[Epoch 22] Loss: 4.0696\n",
      "[Epoch 23] Loss: 4.7086\n",
      "[Epoch 24] Loss: 4.1823\n",
      "[Epoch 25] Loss: 3.4805\n",
      "[Epoch 26] Loss: 3.6762\n",
      "[Epoch 27] Loss: 3.4121\n",
      "[Epoch 28] Loss: 3.9381\n",
      "[Epoch 29] Loss: 3.5690\n",
      "[Epoch 30] Loss: 3.4506\n",
      "[Epoch 31] Loss: 3.4408\n",
      "[Epoch 32] Loss: 3.4259\n",
      "[Epoch 33] Loss: 3.5945\n",
      "[Epoch 34] Loss: 3.3552\n",
      "[Epoch 35] Loss: 3.2787\n",
      "[Epoch 36] Loss: 3.5437\n",
      "[Epoch 37] Loss: 3.4636\n",
      "[Epoch 38] Loss: 3.5864\n",
      "[Epoch 39] Loss: 3.4148\n",
      "[Epoch 40] Loss: 3.4886\n",
      "[Epoch 41] Loss: 3.8588\n",
      "[Epoch 42] Loss: 3.4888\n",
      "[Epoch 43] Loss: 3.2316\n",
      "[Epoch 44] Loss: 3.1906\n",
      "[Epoch 45] Loss: 3.1568\n",
      "[Epoch 46] Loss: 3.2702\n",
      "[Epoch 47] Loss: 3.3852\n",
      "[Epoch 48] Loss: 3.3605\n",
      "[Epoch 49] Loss: 3.1741\n",
      "[Epoch 50] Loss: 3.4203\n",
      "[Epoch 51] Loss: 3.1398\n",
      "[Epoch 52] Loss: 3.8039\n",
      "[Epoch 53] Loss: 3.9382\n",
      "[Epoch 54] Loss: 3.6428\n",
      "[Epoch 55] Loss: 3.3855\n",
      "[Epoch 56] Loss: 3.5647\n",
      "[Epoch 57] Loss: 3.4097\n",
      "[Epoch 58] Loss: 3.2341\n",
      "[Epoch 59] Loss: 3.1210\n",
      "[Epoch 60] Loss: 2.9257\n",
      "[Epoch 61] Loss: 2.6850\n",
      "[Epoch 62] Loss: 2.7853\n",
      "[Epoch 63] Loss: 2.6548\n",
      "[Epoch 64] Loss: 2.9471\n",
      "[Epoch 65] Loss: 2.6971\n",
      "[Epoch 66] Loss: 2.3844\n",
      "[Epoch 67] Loss: 2.1414\n",
      "[Epoch 68] Loss: 2.0566\n",
      "[Epoch 69] Loss: 1.7938\n",
      "[Epoch 70] Loss: 1.6367\n",
      "[Epoch 71] Loss: 1.4746\n",
      "[Epoch 72] Loss: 1.3729\n",
      "[Epoch 73] Loss: 1.1115\n",
      "[Epoch 74] Loss: 1.0216\n",
      "[Epoch 75] Loss: 0.7134\n",
      "[Epoch 76] Loss: 0.5815\n",
      "[Epoch 77] Loss: 0.5573\n",
      "[Epoch 78] Loss: 0.4938\n",
      "[Epoch 79] Loss: 0.4371\n",
      "[Epoch 80] Loss: 0.2818\n",
      "[Epoch 81] Loss: 0.2633\n",
      "[Epoch 82] Loss: 0.2037\n",
      "[Epoch 83] Loss: 0.1812\n",
      "[Epoch 84] Loss: 0.1526\n",
      "[Epoch 85] Loss: 0.1538\n",
      "[Epoch 86] Loss: 0.1284\n",
      "[Epoch 87] Loss: 0.1273\n",
      "[Epoch 88] Loss: 0.1171\n",
      "[Epoch 89] Loss: 0.1187\n",
      "[Epoch 90] Loss: 0.0970\n",
      "[Epoch 91] Loss: 0.1033\n",
      "[Epoch 92] Loss: 0.0826\n",
      "[Epoch 93] Loss: 0.0903\n",
      "[Epoch 94] Loss: 0.0830\n",
      "[Epoch 95] Loss: 0.0853\n",
      "[Epoch 96] Loss: 0.0743\n",
      "[Epoch 97] Loss: 0.0683\n",
      "[Epoch 98] Loss: 0.0687\n",
      "[Epoch 99] Loss: 0.0672\n",
      "[Epoch 100] Loss: 0.0623\n",
      "[Epoch 101] Loss: 0.0549\n",
      "[Epoch 102] Loss: 0.0539\n",
      "[Epoch 103] Loss: 0.0501\n",
      "[Epoch 104] Loss: 0.0664\n",
      "[Epoch 105] Loss: 0.0513\n",
      "[Epoch 106] Loss: 0.0549\n",
      "[Epoch 107] Loss: 0.0444\n",
      "[Epoch 108] Loss: 0.0455\n",
      "[Epoch 109] Loss: 0.0434\n",
      "[Epoch 110] Loss: 0.0399\n",
      "[Epoch 111] Loss: 0.0417\n",
      "[Epoch 112] Loss: 0.0420\n",
      "[Epoch 113] Loss: 0.0385\n",
      "[Epoch 114] Loss: 0.0334\n",
      "[Epoch 115] Loss: 0.0452\n",
      "[Epoch 116] Loss: 0.0374\n",
      "[Epoch 117] Loss: 0.0321\n",
      "[Epoch 118] Loss: 0.0317\n",
      "[Epoch 119] Loss: 0.0307\n",
      "[Epoch 120] Loss: 0.0287\n",
      "[Epoch 121] Loss: 0.0308\n",
      "[Epoch 122] Loss: 0.0284\n",
      "[Epoch 123] Loss: 0.0297\n",
      "[Epoch 124] Loss: 0.0284\n",
      "[Epoch 125] Loss: 0.0261\n",
      "[Epoch 126] Loss: 0.0297\n",
      "[Epoch 127] Loss: 0.0256\n",
      "[Epoch 128] Loss: 0.0237\n",
      "[Epoch 129] Loss: 0.0258\n",
      "[Epoch 130] Loss: 0.0225\n",
      "[Epoch 131] Loss: 0.0235\n",
      "[Epoch 132] Loss: 0.0257\n",
      "[Epoch 133] Loss: 0.0228\n",
      "[Epoch 134] Loss: 0.0221\n",
      "[Epoch 135] Loss: 0.0217\n",
      "[Epoch 136] Loss: 0.0232\n",
      "[Epoch 137] Loss: 0.0197\n",
      "[Epoch 138] Loss: 0.0205\n",
      "[Epoch 139] Loss: 0.0213\n",
      "[Epoch 140] Loss: 0.0182\n",
      "[Epoch 141] Loss: 0.0179\n",
      "[Epoch 142] Loss: 0.0180\n",
      "[Epoch 143] Loss: 0.0185\n",
      "[Epoch 144] Loss: 0.0185\n",
      "[Epoch 145] Loss: 0.0179\n",
      "[Epoch 146] Loss: 0.0161\n",
      "[Epoch 147] Loss: 0.0151\n",
      "[Epoch 148] Loss: 0.0161\n",
      "[Epoch 149] Loss: 0.0142\n",
      "[Epoch 150] Loss: 0.0148\n",
      "[Epoch 151] Loss: 0.0143\n",
      "[Epoch 152] Loss: 0.0145\n",
      "[Epoch 153] Loss: 0.0140\n",
      "[Epoch 154] Loss: 0.0134\n",
      "[Epoch 155] Loss: 0.0135\n",
      "[Epoch 156] Loss: 0.0142\n",
      "[Epoch 157] Loss: 0.0125\n",
      "[Epoch 158] Loss: 0.0127\n",
      "[Epoch 159] Loss: 0.0129\n",
      "[Epoch 160] Loss: 0.0122\n",
      "[Epoch 161] Loss: 0.0116\n",
      "[Epoch 162] Loss: 0.0114\n",
      "[Epoch 163] Loss: 0.0117\n",
      "[Epoch 164] Loss: 0.0110\n",
      "[Epoch 165] Loss: 0.0114\n",
      "[Epoch 166] Loss: 0.0108\n",
      "[Epoch 167] Loss: 0.0114\n",
      "[Epoch 168] Loss: 0.0115\n",
      "[Epoch 169] Loss: 0.0110\n",
      "[Epoch 170] Loss: 0.0100\n",
      "[Epoch 171] Loss: 0.0104\n",
      "[Epoch 172] Loss: 0.0106\n",
      "[Epoch 173] Loss: 0.0097\n",
      "[Epoch 174] Loss: 0.0095\n",
      "[Epoch 175] Loss: 0.0105\n",
      "[Epoch 176] Loss: 0.0091\n",
      "[Epoch 177] Loss: 0.0095\n",
      "[Epoch 178] Loss: 0.0092\n",
      "[Epoch 179] Loss: 0.0098\n",
      "[Epoch 180] Loss: 0.0087\n",
      "[Epoch 181] Loss: 0.0085\n",
      "[Epoch 182] Loss: 0.0085\n",
      "[Epoch 183] Loss: 0.0085\n",
      "[Epoch 184] Loss: 0.0091\n",
      "[Epoch 185] Loss: 0.0080\n",
      "[Epoch 186] Loss: 0.0082\n",
      "[Epoch 187] Loss: 0.0078\n",
      "[Epoch 188] Loss: 0.0083\n",
      "[Epoch 189] Loss: 0.0080\n",
      "[Epoch 190] Loss: 0.0075\n",
      "[Epoch 191] Loss: 0.0073\n",
      "[Epoch 192] Loss: 0.0074\n",
      "[Epoch 193] Loss: 0.0074\n",
      "[Epoch 194] Loss: 0.0077\n",
      "[Epoch 195] Loss: 0.0072\n",
      "[Epoch 196] Loss: 0.0074\n",
      "[Epoch 197] Loss: 0.0067\n",
      "[Epoch 198] Loss: 0.0066\n",
      "[Epoch 199] Loss: 0.0065\n",
      "[Epoch 200] Loss: 0.0072\n"
     ]
    }
   ],
   "source": [
    "NUM_EPOCHS = 200\n",
    "\n",
    "# create the network.\n",
    "net = MLP(nInput, nOutput, nHidden, act_fn)\n",
    "\n",
    "# create the optimizer.\n",
    "optimizer = Adam(net.parameters(), lr=0.1)\n",
    "\n",
    "best_accuracy = 0\n",
    "for epoch_idx in range(NUM_EPOCHS):\n",
    "    loss = train(net, optimizer, train_dataloader, epoch_idx)\n",
    "    print('[Epoch %02d] Loss: %.4f' % (epoch_idx + 1, loss))"
   ]
  },
  {
   "cell_type": "markdown",
   "metadata": {},
   "source": [
    "Again plot your result. You should see that the decision boundary can clearly separate the point clouds.\n"
   ]
  },
  {
   "cell_type": "code",
   "execution_count": 156,
   "metadata": {},
   "outputs": [
    {
     "data": {
      "image/png": "[encoded data removed]",
      "text/plain": [
       "<Figure size 640x480 with 1 Axes>"
      ]
     },
     "metadata": {},
     "output_type": "display_data"
    },
    {
     "data": {
      "text/plain": [
       "<Figure size 640x480 with 0 Axes>"
      ]
     },
     "metadata": {},
     "output_type": "display_data"
    }
   ],
   "source": [
    "p = np.linspace(-0.5, 0.5, 500)\n",
    "x_plot, y_plot = np.meshgrid(p, p)\n",
    "X_plot = np.stack((x_plot, y_plot), axis=2).reshape(-1, 2)\n",
    "X_plot = torch.from_numpy(X_plot).float()\n",
    "output = net(X_plot)\n",
    "output = output.detach().numpy()\n",
    "output = output.reshape(x_plot.shape[0], x_plot.shape[1])\n",
    "\n",
    "plt.contour(x_plot, y_plot, output, [0.5],\n",
    "                  colors=('k',),\n",
    "                  linewidths=(3,))\n",
    "plot(X0, X1)"
   ]
  },
  {
   "cell_type": "markdown",
   "metadata": {},
   "source": [
    "When you are done, move forward to `image_classification.ipynb`."
   ]
  },
  {
   "cell_type": "markdown",
   "metadata": {},
   "source": []
  },
  {
   "cell_type": "code",
   "execution_count": null,
   "metadata": {},
   "outputs": [],
   "source": []
  },
  {
   "cell_type": "code",
   "execution_count": null,
   "metadata": {},
   "outputs": [],
   "source": []
  },
  {
   "cell_type": "code",
   "execution_count": null,
   "metadata": {},
   "outputs": [],
   "source": []
  }
 ],
 "metadata": {
  "kernelspec": {
   "display_name": "Python 3 (ipykernel)",
   "language": "python",
   "name": "python3"
  },
  "language_info": {
   "codemirror_mode": {
    "name": "ipython",
    "version": 3
   },
   "file_extension": ".py",
   "mimetype": "text/x-python",
   "name": "python",
   "nbconvert_exporter": "python",
   "pygments_lexer": "ipython3",
   "version": "3.9.12"
  },
  "vscode": {
   "interpreter": {
    "hash": "d268b61a0efacafa8645774cb6d0204c9f01d7563ef03f7672146d044e8f345c"
   }
  }
 },
 "nbformat": 4,
 "nbformat_minor": 4
}
