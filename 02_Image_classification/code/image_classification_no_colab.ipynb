{
 "cells": [
  {
   "cell_type": "markdown",
   "metadata": {},
   "source": [
    "# Image Classification with PyTorch"
   ]
  },
  {
   "cell_type": "markdown",
   "metadata": {},
   "source": [
    "## Data loading\n"
   ]
  },
  {
   "cell_type": "code",
   "execution_count": 76,
   "metadata": {},
   "outputs": [],
   "source": [
    "import numpy as np\n",
    "import matplotlib.pyplot as plt\n",
    "\n",
    "import torch\n",
    "import torch.nn as nn\n",
    "import torch.nn.functional as F\n",
    "import torch.optim as optim\n",
    "from torch.utils.data import DataLoader\n",
    "import torchvision\n",
    "from torchvision import datasets, transforms"
   ]
  },
  {
   "cell_type": "code",
   "execution_count": 77,
   "metadata": {},
   "outputs": [],
   "source": [
    "# torchvision contains convinience functions for popular datasets\n",
    "ds_train = datasets.MNIST('data', train=True, download=True)"
   ]
  },
  {
   "cell_type": "markdown",
   "metadata": {},
   "source": [
    "Each sample is a 28x28 image"
   ]
  },
  {
   "cell_type": "code",
   "execution_count": 78,
   "metadata": {},
   "outputs": [
    {
     "name": "stdout",
     "output_type": "stream",
     "text": [
      "(<PIL.Image.Image image mode=L size=28x28 at 0x7FF8051BBDC0>, 5)\n"
     ]
    },
    {
     "data": {
      "image/png": "[encoded data removed]",
      "text/plain": [
       "<PIL.Image.Image image mode=L size=120x120 at 0x7FF8036FFFD0>"
      ]
     },
     "execution_count": 78,
     "metadata": {},
     "output_type": "execute_result"
    }
   ],
   "source": [
    "# if we index this dataset, we get a single data point: a PIL image and an Integer\n",
    "print(ds_train[0])\n",
    "ds_train[0][0].resize((120,120))"
   ]
  },
  {
   "cell_type": "markdown",
   "metadata": {},
   "source": [
    "Let's transform the data to something that our Pytorch models will understand\n",
    "for this purpose, we can supply a transform function to the datase"
   ]
  },
  {
   "cell_type": "code",
   "execution_count": 79,
   "metadata": {},
   "outputs": [],
   "source": [
    "transform = transforms.Compose([\n",
    "    transforms.ToTensor(),\n",
    "])\n",
    "ds_train = datasets.MNIST('data', train=True, download=True, transform=transform)"
   ]
  },
  {
   "cell_type": "markdown",
   "metadata": {},
   "source": [
    "The image is now a `torch.Tensor`"
   ]
  },
  {
   "cell_type": "code",
   "execution_count": 7,
   "metadata": {},
   "outputs": [
    {
     "data": {
      "text/plain": [
       "torch.Tensor"
      ]
     },
     "execution_count": 7,
     "metadata": {},
     "output_type": "execute_result"
    }
   ],
   "source": [
    "type(ds_train[0][0])"
   ]
  },
  {
   "cell_type": "markdown",
   "metadata": {},
   "source": [
    "The normalization is something you learned about in the lecture. Normalizing with $\\mu=0, \\sigma=1$ corresponds to no normalization. Let's compute the proper normalization constants!"
   ]
  },
  {
   "cell_type": "code",
   "execution_count": 81,
   "metadata": {},
   "outputs": [
    {
     "name": "stdout",
     "output_type": "stream",
     "text": [
      "torch.Size([60000, 28, 28])\n"
     ]
    }
   ],
   "source": [
    "# lets get only the images \n",
    "ims_train = ds_train.data\n",
    "ims_train = ims_train.float() / 255.\n",
    "print(ims_train.shape)"
   ]
  },
  {
   "cell_type": "code",
   "execution_count": 9,
   "metadata": {},
   "outputs": [],
   "source": [
    "#########################################################################\n",
    "# TODO: calculate the mean and std of MNIST images\n",
    "# hint: to look for operations on pytorch tensor, refer to the official PyTorch docs \n",
    "# https://pytorch.org/docs/stable/\n",
    "#########################################################################\n",
    "mu = torch.mean(ims_train)\n",
    "std = torch.std(ims_train, unbiased=False)"
   ]
  },
  {
   "cell_type": "markdown",
   "metadata": {},
   "source": [
    "We normalize the data as below."
   ]
  },
  {
   "cell_type": "code",
   "execution_count": 10,
   "metadata": {},
   "outputs": [],
   "source": [
    "transform = transforms.Compose([\n",
    "    transforms.ToTensor(),\n",
    "    transforms.Normalize(mu, std)\n",
    "])\n",
    "ds_train = datasets.MNIST('data', train=True, download=True, transform=transform)\n",
    "ds_test = datasets.MNIST('data', train=False, download=True, transform=transform)"
   ]
  },
  {
   "cell_type": "code",
   "execution_count": 11,
   "metadata": {},
   "outputs": [
    {
     "data": {
      "text/plain": [
       "(tensor(-0.4241), tensor(2.8215))"
      ]
     },
     "execution_count": 11,
     "metadata": {},
     "output_type": "execute_result"
    }
   ],
   "source": [
    "ds_train[0][0].min(), ds_train[0][0].max()"
   ]
  },
  {
   "cell_type": "markdown",
   "metadata": {},
   "source": [
    "Next, we want to receive mini-batches, not only single data points.\n",
    "We use PyTorch's DataLoader class. Build a dataloader with a batch size of 64 and 4 workers (number of subprocess that peform the dataloading). Important: you need to shuffle the training data, not the test data.\n",
    "\n",
    "**NOTE**: if you encounter some unexpected errors in data loading, try setting `NUM_WORKERS = 0`"
   ]
  },
  {
   "cell_type": "code",
   "execution_count": 12,
   "metadata": {},
   "outputs": [],
   "source": [
    "BATCH_SIZE = 64\n",
    "NUM_WORKERS = 4\n",
    "#########################################################################\n",
    "# TODO: Build a dataloader for both train and test data.\n",
    "#########################################################################\n",
    "dl_train = DataLoader(\n",
    "    ds_train,\n",
    "    batch_size=BATCH_SIZE,\n",
    "    num_workers=NUM_WORKERS,\n",
    "    shuffle=True\n",
    ")\n",
    "dl_test = DataLoader(\n",
    "    ds_test,\n",
    "    batch_size=BATCH_SIZE,\n",
    "    num_workers=NUM_WORKERS,\n",
    "    shuffle=False\n",
    ")"
   ]
  },
  {
   "cell_type": "markdown",
   "metadata": {},
   "source": [
    "## MLP in Pytorch\n",
    "\n",
    "Ok, the dataloading works. Let's build our model, PyTorch makes this very easy. We will build replicate the model from our last exercises. However, now, we add another variable called `nLayer` that indicates how many linear layers that in your network. Please adapt your code from last exercise accordingly to allow different number of layers."
   ]
  },
  {
   "cell_type": "code",
   "execution_count": 13,
   "metadata": {},
   "outputs": [],
   "source": [
    "# These are the parameters to be used\n",
    "nInput = 784\n",
    "nOutput = 10\n",
    "nLayer = 2\n",
    "nHidden = 16\n",
    "act_fn = nn.ReLU()"
   ]
  },
  {
   "cell_type": "code",
   "execution_count": 14,
   "metadata": {},
   "outputs": [],
   "source": [
    "#########################################################################\n",
    "# TODO: Implement the __init__ of the MLP class. \n",
    "# insert the activation after every linear layer. Important: the number of \n",
    "# hidden layers should be variable!\n",
    "#########################################################################\n",
    "\n",
    "class MLP(nn.Module):\n",
    "    def __init__(self, nInput, nOutput, nLayer, nHidden, act_fn):\n",
    "        super(MLP, self).__init__()\n",
    "        layers = []\n",
    "        \n",
    "        ##### implement this part #####\n",
    "        layers.append(nn.Linear(nInput,nHidden))\n",
    "        layers.append(act_fn)\n",
    "        for i in range(nLayer):\n",
    "            layers.append(nn.Linear(nHidden,nHidden))\n",
    "            layers.append(act_fn)\n",
    "        layers.append(nn.Linear(nHidden,nOutput))\n",
    "        ###############################\n",
    "        \n",
    "        self.model = nn.Sequential(*layers)\n",
    "\n",
    "    def forward(self, x):\n",
    "        x = torch.flatten(x, 1)\n",
    "        return self.model(x)"
   ]
  },
  {
   "cell_type": "code",
   "execution_count": 15,
   "metadata": {
    "scrolled": true
   },
   "outputs": [
    {
     "data": {
      "text/plain": [
       "torch.Size([1, 10])"
      ]
     },
     "execution_count": 15,
     "metadata": {},
     "output_type": "execute_result"
    }
   ],
   "source": [
    "# Let's test if the forward pass works\n",
    "# this should print torch.Size([1, 10])\n",
    "t = torch.randn(1,1,28,28)\n",
    "mlp = MLP(nInput, nOutput, nLayer, nHidden, act_fn)\n",
    "mlp(t).shape"
   ]
  },
  {
   "cell_type": "code",
   "execution_count": 16,
   "metadata": {},
   "outputs": [
    {
     "data": {
      "text/plain": [
       "MLP(\n",
       "  (model): Sequential(\n",
       "    (0): Linear(in_features=784, out_features=16, bias=True)\n",
       "    (1): ReLU()\n",
       "    (2): Linear(in_features=16, out_features=16, bias=True)\n",
       "    (3): ReLU()\n",
       "    (4): Linear(in_features=16, out_features=16, bias=True)\n",
       "    (5): ReLU()\n",
       "    (6): Linear(in_features=16, out_features=10, bias=True)\n",
       "  )\n",
       ")"
      ]
     },
     "execution_count": 16,
     "metadata": {},
     "output_type": "execute_result"
    }
   ],
   "source": [
    "mlp"
   ]
  },
  {
   "cell_type": "markdown",
   "metadata": {},
   "source": [
    "We already implemented the test function for you"
   ]
  },
  {
   "cell_type": "code",
   "execution_count": 17,
   "metadata": {},
   "outputs": [],
   "source": [
    "def test(model, dl_test, device='cpu'):\n",
    "    model.eval()\n",
    "    test_loss = 0\n",
    "    correct = 0\n",
    "    with torch.no_grad():\n",
    "        for data, target in dl_test:\n",
    "            data, target = data.to(device), target.to(device)\n",
    "            output = model(data)\n",
    "            test_loss += F.cross_entropy(output, target, reduction='sum').item()  # sum up batch loss\n",
    "            pred = output.argmax(dim=1, keepdim=True)  # get the index of the max log-probability\n",
    "            correct += pred.eq(target.view_as(pred)).sum().item()\n",
    "\n",
    "    test_loss /= len(dl_test.dataset)\n",
    "\n",
    "    print('\\nTest set: Average loss: {:.4f}, Accuracy: {}/{} ({:.3f}%)\\n'.format(\n",
    "        test_loss, correct, len(dl_test.dataset),\n",
    "        100. * correct / len(dl_test.dataset)))"
   ]
  },
  {
   "cell_type": "markdown",
   "metadata": {},
   "source": [
    "Now you only need to implement the training and you are good to go"
   ]
  },
  {
   "cell_type": "code",
   "execution_count": 18,
   "metadata": {},
   "outputs": [],
   "source": [
    "#########################################################################\n",
    "# TODO: Implement the missing part of the training function. As a loss function we want to use cross entropy\n",
    "# It can be called with F.cross_entropy().\n",
    "# Hint: Pass through the model -> Backpropagate gradients -> Take gradient step\n",
    "#########################################################################\n",
    "\n",
    "def train(model, dl_train, optimizer, epoch, log_interval=100, device='cpu'):\n",
    "    model.train()\n",
    "    correct = 0\n",
    "    for batch_idx, (data, target) in enumerate(dl_train):\n",
    "        data, target = data.to(device), target.to(device)\n",
    "        \n",
    "        # first we need to zero the gradient, otherwise PyTorch would accumulate them\n",
    "        optimizer.zero_grad()         \n",
    "        \n",
    "        ##### implement this part #####\n",
    "        output = model.forward(data)\n",
    "        loss = F.cross_entropy(output, target)\n",
    "        loss.backward()\n",
    "        optimizer.step()        \n",
    "        ###############################\n",
    "\n",
    "        # stats\n",
    "        pred = output.argmax(dim=1, keepdim=True)  # get the index of the max log-probability\n",
    "        correct += pred.eq(target.view_as(pred)).sum().item()\n",
    "\n",
    "        if batch_idx % log_interval == 0:\n",
    "            print('Train Epoch: {} [{}/{} ({:.0f}%)]\\tLoss: {:.6f}'.format(\n",
    "                epoch, batch_idx * len(data), len(dl_train.dataset),\n",
    "                100. * batch_idx / len(dl_train), loss.item()))\n",
    "\n",
    "    print('\\nTrain set: Average loss: {:.4f}, Accuracy: {}/{} ({:.1f}%)\\n'.format(\n",
    "        loss, correct, len(dl_train.dataset),\n",
    "        100. * correct / len(dl_train.dataset)))"
   ]
  },
  {
   "cell_type": "markdown",
   "metadata": {},
   "source": [
    "Ok, the setup is almost done. The onoly missing part is the optimizer. We are going to use Adam."
   ]
  },
  {
   "cell_type": "code",
   "execution_count": 19,
   "metadata": {},
   "outputs": [],
   "source": [
    "# reinitialize the mlp, so we can play with parameters right here\n",
    "mlp = MLP(nInput, nOutput, nLayer, nHidden, act_fn)\n",
    "optimizer = optim.Adam(mlp.parameters())"
   ]
  },
  {
   "cell_type": "code",
   "execution_count": 20,
   "metadata": {
    "scrolled": true
   },
   "outputs": [
    {
     "name": "stdout",
     "output_type": "stream",
     "text": [
      "Train Epoch: 1 [0/60000 (0%)]\tLoss: 2.282038\n",
      "Train Epoch: 1 [6400/60000 (11%)]\tLoss: 0.817220\n",
      "Train Epoch: 1 [12800/60000 (21%)]\tLoss: 0.616604\n",
      "Train Epoch: 1 [19200/60000 (32%)]\tLoss: 0.272904\n",
      "Train Epoch: 1 [25600/60000 (43%)]\tLoss: 0.428381\n",
      "Train Epoch: 1 [32000/60000 (53%)]\tLoss: 0.215842\n",
      "Train Epoch: 1 [38400/60000 (64%)]\tLoss: 0.332926\n",
      "Train Epoch: 1 [44800/60000 (75%)]\tLoss: 0.197209\n",
      "Train Epoch: 1 [51200/60000 (85%)]\tLoss: 0.308215\n",
      "Train Epoch: 1 [57600/60000 (96%)]\tLoss: 0.315718\n",
      "\n",
      "Train set: Average loss: 0.1338, Accuracy: 50440/60000 (84.1%)\n",
      "\n",
      "\n",
      "Test set: Average loss: 0.2824, Accuracy: 9186/10000 (91.860%)\n",
      "\n",
      "Train Epoch: 2 [0/60000 (0%)]\tLoss: 0.344370\n",
      "Train Epoch: 2 [6400/60000 (11%)]\tLoss: 0.174894\n",
      "Train Epoch: 2 [12800/60000 (21%)]\tLoss: 0.443647\n",
      "Train Epoch: 2 [19200/60000 (32%)]\tLoss: 0.306625\n",
      "Train Epoch: 2 [25600/60000 (43%)]\tLoss: 0.369705\n",
      "Train Epoch: 2 [32000/60000 (53%)]\tLoss: 0.190663\n",
      "Train Epoch: 2 [38400/60000 (64%)]\tLoss: 0.145176\n",
      "Train Epoch: 2 [44800/60000 (75%)]\tLoss: 0.209329\n",
      "Train Epoch: 2 [51200/60000 (85%)]\tLoss: 0.328386\n",
      "Train Epoch: 2 [57600/60000 (96%)]\tLoss: 0.316108\n",
      "\n",
      "Train set: Average loss: 0.3104, Accuracy: 55260/60000 (92.1%)\n",
      "\n",
      "\n",
      "Test set: Average loss: 0.2266, Accuracy: 9348/10000 (93.480%)\n",
      "\n",
      "Train Epoch: 3 [0/60000 (0%)]\tLoss: 0.172966\n",
      "Train Epoch: 3 [6400/60000 (11%)]\tLoss: 0.075637\n",
      "Train Epoch: 3 [12800/60000 (21%)]\tLoss: 0.269818\n",
      "Train Epoch: 3 [19200/60000 (32%)]\tLoss: 0.332652\n",
      "Train Epoch: 3 [25600/60000 (43%)]\tLoss: 0.412609\n",
      "Train Epoch: 3 [32000/60000 (53%)]\tLoss: 0.411063\n",
      "Train Epoch: 3 [38400/60000 (64%)]\tLoss: 0.211826\n",
      "Train Epoch: 3 [44800/60000 (75%)]\tLoss: 0.158741\n",
      "Train Epoch: 3 [51200/60000 (85%)]\tLoss: 0.087451\n",
      "Train Epoch: 3 [57600/60000 (96%)]\tLoss: 0.142566\n",
      "\n",
      "Train set: Average loss: 0.1512, Accuracy: 56123/60000 (93.5%)\n",
      "\n",
      "\n",
      "Test set: Average loss: 0.2137, Accuracy: 9373/10000 (93.730%)\n",
      "\n",
      "Train Epoch: 4 [0/60000 (0%)]\tLoss: 0.214093\n",
      "Train Epoch: 4 [6400/60000 (11%)]\tLoss: 0.344555\n",
      "Train Epoch: 4 [12800/60000 (21%)]\tLoss: 0.156696\n",
      "Train Epoch: 4 [19200/60000 (32%)]\tLoss: 0.148823\n",
      "Train Epoch: 4 [25600/60000 (43%)]\tLoss: 0.083020\n",
      "Train Epoch: 4 [32000/60000 (53%)]\tLoss: 0.313868\n",
      "Train Epoch: 4 [38400/60000 (64%)]\tLoss: 0.138648\n",
      "Train Epoch: 4 [44800/60000 (75%)]\tLoss: 0.328596\n",
      "Train Epoch: 4 [51200/60000 (85%)]\tLoss: 0.260416\n",
      "Train Epoch: 4 [57600/60000 (96%)]\tLoss: 0.133469\n",
      "\n",
      "Train set: Average loss: 0.2434, Accuracy: 56603/60000 (94.3%)\n",
      "\n",
      "\n",
      "Test set: Average loss: 0.1920, Accuracy: 9434/10000 (94.340%)\n",
      "\n",
      "Train Epoch: 5 [0/60000 (0%)]\tLoss: 0.061432\n",
      "Train Epoch: 5 [6400/60000 (11%)]\tLoss: 0.092699\n",
      "Train Epoch: 5 [12800/60000 (21%)]\tLoss: 0.292453\n",
      "Train Epoch: 5 [19200/60000 (32%)]\tLoss: 0.160357\n",
      "Train Epoch: 5 [25600/60000 (43%)]\tLoss: 0.156662\n",
      "Train Epoch: 5 [32000/60000 (53%)]\tLoss: 0.147781\n",
      "Train Epoch: 5 [38400/60000 (64%)]\tLoss: 0.212190\n",
      "Train Epoch: 5 [44800/60000 (75%)]\tLoss: 0.199153\n",
      "Train Epoch: 5 [51200/60000 (85%)]\tLoss: 0.152778\n",
      "Train Epoch: 5 [57600/60000 (96%)]\tLoss: 0.122839\n",
      "\n",
      "Train set: Average loss: 0.2261, Accuracy: 56925/60000 (94.9%)\n",
      "\n",
      "\n",
      "Test set: Average loss: 0.1699, Accuracy: 9500/10000 (95.000%)\n",
      "\n",
      "Train Epoch: 6 [0/60000 (0%)]\tLoss: 0.080311\n",
      "Train Epoch: 6 [6400/60000 (11%)]\tLoss: 0.191509\n",
      "Train Epoch: 6 [12800/60000 (21%)]\tLoss: 0.219695\n",
      "Train Epoch: 6 [19200/60000 (32%)]\tLoss: 0.098220\n",
      "Train Epoch: 6 [25600/60000 (43%)]\tLoss: 0.196828\n",
      "Train Epoch: 6 [32000/60000 (53%)]\tLoss: 0.202247\n",
      "Train Epoch: 6 [38400/60000 (64%)]\tLoss: 0.196923\n",
      "Train Epoch: 6 [44800/60000 (75%)]\tLoss: 0.226978\n",
      "Train Epoch: 6 [51200/60000 (85%)]\tLoss: 0.036021\n",
      "Train Epoch: 6 [57600/60000 (96%)]\tLoss: 0.285829\n",
      "\n",
      "Train set: Average loss: 0.3500, Accuracy: 57206/60000 (95.3%)\n",
      "\n",
      "\n",
      "Test set: Average loss: 0.1596, Accuracy: 9534/10000 (95.340%)\n",
      "\n",
      "Train Epoch: 7 [0/60000 (0%)]\tLoss: 0.105519\n",
      "Train Epoch: 7 [6400/60000 (11%)]\tLoss: 0.051242\n",
      "Train Epoch: 7 [12800/60000 (21%)]\tLoss: 0.221879\n",
      "Train Epoch: 7 [19200/60000 (32%)]\tLoss: 0.545917\n",
      "Train Epoch: 7 [25600/60000 (43%)]\tLoss: 0.027770\n",
      "Train Epoch: 7 [32000/60000 (53%)]\tLoss: 0.075546\n",
      "Train Epoch: 7 [38400/60000 (64%)]\tLoss: 0.267572\n",
      "Train Epoch: 7 [44800/60000 (75%)]\tLoss: 0.151409\n",
      "Train Epoch: 7 [51200/60000 (85%)]\tLoss: 0.098822\n",
      "Train Epoch: 7 [57600/60000 (96%)]\tLoss: 0.129745\n",
      "\n",
      "Train set: Average loss: 0.1991, Accuracy: 57333/60000 (95.6%)\n",
      "\n",
      "\n",
      "Test set: Average loss: 0.1633, Accuracy: 9516/10000 (95.160%)\n",
      "\n",
      "Train Epoch: 8 [0/60000 (0%)]\tLoss: 0.169005\n",
      "Train Epoch: 8 [6400/60000 (11%)]\tLoss: 0.079205\n",
      "Train Epoch: 8 [12800/60000 (21%)]\tLoss: 0.130911\n",
      "Train Epoch: 8 [19200/60000 (32%)]\tLoss: 0.075894\n",
      "Train Epoch: 8 [25600/60000 (43%)]\tLoss: 0.287493\n",
      "Train Epoch: 8 [32000/60000 (53%)]\tLoss: 0.172269\n",
      "Train Epoch: 8 [38400/60000 (64%)]\tLoss: 0.175565\n",
      "Train Epoch: 8 [44800/60000 (75%)]\tLoss: 0.163829\n",
      "Train Epoch: 8 [51200/60000 (85%)]\tLoss: 0.040366\n",
      "Train Epoch: 8 [57600/60000 (96%)]\tLoss: 0.088010\n",
      "\n",
      "Train set: Average loss: 0.0313, Accuracy: 57464/60000 (95.8%)\n",
      "\n",
      "\n",
      "Test set: Average loss: 0.1574, Accuracy: 9524/10000 (95.240%)\n",
      "\n",
      "Train Epoch: 9 [0/60000 (0%)]\tLoss: 0.184907\n",
      "Train Epoch: 9 [6400/60000 (11%)]\tLoss: 0.042209\n",
      "Train Epoch: 9 [12800/60000 (21%)]\tLoss: 0.093387\n",
      "Train Epoch: 9 [19200/60000 (32%)]\tLoss: 0.102016\n",
      "Train Epoch: 9 [25600/60000 (43%)]\tLoss: 0.253522\n",
      "Train Epoch: 9 [32000/60000 (53%)]\tLoss: 0.050951\n",
      "Train Epoch: 9 [38400/60000 (64%)]\tLoss: 0.045828\n",
      "Train Epoch: 9 [44800/60000 (75%)]\tLoss: 0.172188\n",
      "Train Epoch: 9 [51200/60000 (85%)]\tLoss: 0.051457\n",
      "Train Epoch: 9 [57600/60000 (96%)]\tLoss: 0.095869\n",
      "\n",
      "Train set: Average loss: 0.0142, Accuracy: 57579/60000 (96.0%)\n",
      "\n",
      "\n",
      "Test set: Average loss: 0.1592, Accuracy: 9518/10000 (95.180%)\n",
      "\n",
      "Train Epoch: 10 [0/60000 (0%)]\tLoss: 0.143879\n",
      "Train Epoch: 10 [6400/60000 (11%)]\tLoss: 0.127519\n",
      "Train Epoch: 10 [12800/60000 (21%)]\tLoss: 0.160429\n",
      "Train Epoch: 10 [19200/60000 (32%)]\tLoss: 0.121812\n",
      "Train Epoch: 10 [25600/60000 (43%)]\tLoss: 0.105889\n",
      "Train Epoch: 10 [32000/60000 (53%)]\tLoss: 0.320884\n",
      "Train Epoch: 10 [38400/60000 (64%)]\tLoss: 0.078026\n",
      "Train Epoch: 10 [44800/60000 (75%)]\tLoss: 0.205635\n",
      "Train Epoch: 10 [51200/60000 (85%)]\tLoss: 0.070787\n",
      "Train Epoch: 10 [57600/60000 (96%)]\tLoss: 0.243637\n",
      "\n",
      "Train set: Average loss: 0.1280, Accuracy: 57639/60000 (96.1%)\n",
      "\n",
      "\n",
      "Test set: Average loss: 0.1649, Accuracy: 9510/10000 (95.100%)\n",
      "\n",
      "Training is finished.\n"
     ]
    }
   ],
   "source": [
    "epochs = 10\n",
    "for epoch in range(1, epochs + 1):\n",
    "    train(mlp, dl_train, optimizer, epoch, log_interval=100)\n",
    "    test(mlp, dl_test)\n",
    "\n",
    "print ('Training is finished.')"
   ]
  },
  {
   "cell_type": "markdown",
   "metadata": {},
   "source": [
    "After training, you should see test accuracies of > **94%** - By they way, here we report test accuracy, the last exercises reported test error. Accuracy is simply (1 - error). Both metrics are commonly reported, there is no clear preference in literature for one or the other."
   ]
  },
  {
   "cell_type": "markdown",
   "metadata": {},
   "source": [
    "Now, can you do some parameter tuning to boost the test accuracy to > **97%**?"
   ]
  },
  {
   "cell_type": "code",
   "execution_count": 21,
   "metadata": {},
   "outputs": [
    {
     "name": "stdout",
     "output_type": "stream",
     "text": [
      "Train Epoch: 1 [0/60000 (0%)]\tLoss: 2.290699\n",
      "Train Epoch: 1 [6400/60000 (11%)]\tLoss: 0.579435\n",
      "Train Epoch: 1 [12800/60000 (21%)]\tLoss: 0.515696\n",
      "Train Epoch: 1 [19200/60000 (32%)]\tLoss: 0.251453\n",
      "Train Epoch: 1 [25600/60000 (43%)]\tLoss: 0.483963\n",
      "Train Epoch: 1 [32000/60000 (53%)]\tLoss: 0.138647\n",
      "Train Epoch: 1 [38400/60000 (64%)]\tLoss: 0.345522\n",
      "Train Epoch: 1 [44800/60000 (75%)]\tLoss: 0.369770\n",
      "Train Epoch: 1 [51200/60000 (85%)]\tLoss: 0.084374\n",
      "Train Epoch: 1 [57600/60000 (96%)]\tLoss: 0.244509\n",
      "\n",
      "Train set: Average loss: 0.2706, Accuracy: 53698/60000 (89.5%)\n",
      "\n",
      "\n",
      "Test set: Average loss: 0.1701, Accuracy: 9470/10000 (94.700%)\n",
      "\n",
      "Train Epoch: 2 [0/60000 (0%)]\tLoss: 0.276080\n",
      "Train Epoch: 2 [6400/60000 (11%)]\tLoss: 0.244696\n",
      "Train Epoch: 2 [12800/60000 (21%)]\tLoss: 0.243962\n",
      "Train Epoch: 2 [19200/60000 (32%)]\tLoss: 0.270019\n",
      "Train Epoch: 2 [25600/60000 (43%)]\tLoss: 0.095785\n",
      "Train Epoch: 2 [32000/60000 (53%)]\tLoss: 0.164754\n",
      "Train Epoch: 2 [38400/60000 (64%)]\tLoss: 0.058994\n",
      "Train Epoch: 2 [44800/60000 (75%)]\tLoss: 0.190005\n",
      "Train Epoch: 2 [51200/60000 (85%)]\tLoss: 0.081810\n",
      "Train Epoch: 2 [57600/60000 (96%)]\tLoss: 0.091447\n",
      "\n",
      "Train set: Average loss: 0.0369, Accuracy: 57174/60000 (95.3%)\n",
      "\n",
      "\n",
      "Test set: Average loss: 0.1355, Accuracy: 9559/10000 (95.590%)\n",
      "\n",
      "Train Epoch: 3 [0/60000 (0%)]\tLoss: 0.084491\n",
      "Train Epoch: 3 [6400/60000 (11%)]\tLoss: 0.181895\n",
      "Train Epoch: 3 [12800/60000 (21%)]\tLoss: 0.143539\n",
      "Train Epoch: 3 [19200/60000 (32%)]\tLoss: 0.177332\n",
      "Train Epoch: 3 [25600/60000 (43%)]\tLoss: 0.128555\n",
      "Train Epoch: 3 [32000/60000 (53%)]\tLoss: 0.113288\n",
      "Train Epoch: 3 [38400/60000 (64%)]\tLoss: 0.044656\n",
      "Train Epoch: 3 [44800/60000 (75%)]\tLoss: 0.196543\n",
      "Train Epoch: 3 [51200/60000 (85%)]\tLoss: 0.146329\n",
      "Train Epoch: 3 [57600/60000 (96%)]\tLoss: 0.107512\n",
      "\n",
      "Train set: Average loss: 0.0720, Accuracy: 57817/60000 (96.4%)\n",
      "\n",
      "\n",
      "Test set: Average loss: 0.1124, Accuracy: 9644/10000 (96.440%)\n",
      "\n",
      "Train Epoch: 4 [0/60000 (0%)]\tLoss: 0.131611\n",
      "Train Epoch: 4 [6400/60000 (11%)]\tLoss: 0.071459\n",
      "Train Epoch: 4 [12800/60000 (21%)]\tLoss: 0.020713\n",
      "Train Epoch: 4 [19200/60000 (32%)]\tLoss: 0.191331\n",
      "Train Epoch: 4 [25600/60000 (43%)]\tLoss: 0.155827\n",
      "Train Epoch: 4 [32000/60000 (53%)]\tLoss: 0.103008\n",
      "Train Epoch: 4 [38400/60000 (64%)]\tLoss: 0.087815\n",
      "Train Epoch: 4 [44800/60000 (75%)]\tLoss: 0.094306\n",
      "Train Epoch: 4 [51200/60000 (85%)]\tLoss: 0.076011\n",
      "Train Epoch: 4 [57600/60000 (96%)]\tLoss: 0.088905\n",
      "\n",
      "Train set: Average loss: 0.0148, Accuracy: 58218/60000 (97.0%)\n",
      "\n",
      "\n",
      "Test set: Average loss: 0.1167, Accuracy: 9650/10000 (96.500%)\n",
      "\n",
      "Train Epoch: 5 [0/60000 (0%)]\tLoss: 0.035760\n",
      "Train Epoch: 5 [6400/60000 (11%)]\tLoss: 0.049716\n",
      "Train Epoch: 5 [12800/60000 (21%)]\tLoss: 0.044442\n",
      "Train Epoch: 5 [19200/60000 (32%)]\tLoss: 0.095180\n",
      "Train Epoch: 5 [25600/60000 (43%)]\tLoss: 0.082965\n",
      "Train Epoch: 5 [32000/60000 (53%)]\tLoss: 0.025792\n",
      "Train Epoch: 5 [38400/60000 (64%)]\tLoss: 0.122861\n",
      "Train Epoch: 5 [44800/60000 (75%)]\tLoss: 0.078030\n",
      "Train Epoch: 5 [51200/60000 (85%)]\tLoss: 0.018688\n",
      "Train Epoch: 5 [57600/60000 (96%)]\tLoss: 0.055815\n",
      "\n",
      "Train set: Average loss: 0.0310, Accuracy: 58466/60000 (97.4%)\n",
      "\n",
      "\n",
      "Test set: Average loss: 0.0972, Accuracy: 9697/10000 (96.970%)\n",
      "\n",
      "Train Epoch: 6 [0/60000 (0%)]\tLoss: 0.060100\n",
      "Train Epoch: 6 [6400/60000 (11%)]\tLoss: 0.045315\n",
      "Train Epoch: 6 [12800/60000 (21%)]\tLoss: 0.016943\n",
      "Train Epoch: 6 [19200/60000 (32%)]\tLoss: 0.052331\n",
      "Train Epoch: 6 [25600/60000 (43%)]\tLoss: 0.028962\n",
      "Train Epoch: 6 [32000/60000 (53%)]\tLoss: 0.096129\n",
      "Train Epoch: 6 [38400/60000 (64%)]\tLoss: 0.071463\n",
      "Train Epoch: 6 [44800/60000 (75%)]\tLoss: 0.048291\n",
      "Train Epoch: 6 [51200/60000 (85%)]\tLoss: 0.025924\n",
      "Train Epoch: 6 [57600/60000 (96%)]\tLoss: 0.027112\n",
      "\n",
      "Train set: Average loss: 0.0185, Accuracy: 58601/60000 (97.7%)\n",
      "\n",
      "\n",
      "Test set: Average loss: 0.1085, Accuracy: 9666/10000 (96.660%)\n",
      "\n",
      "Train Epoch: 7 [0/60000 (0%)]\tLoss: 0.066791\n",
      "Train Epoch: 7 [6400/60000 (11%)]\tLoss: 0.033585\n",
      "Train Epoch: 7 [12800/60000 (21%)]\tLoss: 0.022247\n",
      "Train Epoch: 7 [19200/60000 (32%)]\tLoss: 0.071326\n",
      "Train Epoch: 7 [25600/60000 (43%)]\tLoss: 0.024117\n",
      "Train Epoch: 7 [32000/60000 (53%)]\tLoss: 0.027046\n",
      "Train Epoch: 7 [38400/60000 (64%)]\tLoss: 0.209305\n",
      "Train Epoch: 7 [44800/60000 (75%)]\tLoss: 0.011751\n",
      "Train Epoch: 7 [51200/60000 (85%)]\tLoss: 0.111322\n",
      "Train Epoch: 7 [57600/60000 (96%)]\tLoss: 0.021307\n",
      "\n",
      "Train set: Average loss: 0.0584, Accuracy: 58770/60000 (98.0%)\n",
      "\n",
      "\n",
      "Test set: Average loss: 0.1002, Accuracy: 9698/10000 (96.980%)\n",
      "\n",
      "Train Epoch: 8 [0/60000 (0%)]\tLoss: 0.015950\n",
      "Train Epoch: 8 [6400/60000 (11%)]\tLoss: 0.212580\n",
      "Train Epoch: 8 [12800/60000 (21%)]\tLoss: 0.009190\n",
      "Train Epoch: 8 [19200/60000 (32%)]\tLoss: 0.134994\n",
      "Train Epoch: 8 [25600/60000 (43%)]\tLoss: 0.016970\n",
      "Train Epoch: 8 [32000/60000 (53%)]\tLoss: 0.021442\n",
      "Train Epoch: 8 [38400/60000 (64%)]\tLoss: 0.005994\n",
      "Train Epoch: 8 [44800/60000 (75%)]\tLoss: 0.100365\n",
      "Train Epoch: 8 [51200/60000 (85%)]\tLoss: 0.007279\n",
      "Train Epoch: 8 [57600/60000 (96%)]\tLoss: 0.041200\n",
      "\n",
      "Train set: Average loss: 0.0687, Accuracy: 58903/60000 (98.2%)\n",
      "\n",
      "\n",
      "Test set: Average loss: 0.1130, Accuracy: 9687/10000 (96.870%)\n",
      "\n",
      "Train Epoch: 9 [0/60000 (0%)]\tLoss: 0.073482\n",
      "Train Epoch: 9 [6400/60000 (11%)]\tLoss: 0.017408\n",
      "Train Epoch: 9 [12800/60000 (21%)]\tLoss: 0.009564\n",
      "Train Epoch: 9 [19200/60000 (32%)]\tLoss: 0.031545\n",
      "Train Epoch: 9 [25600/60000 (43%)]\tLoss: 0.149577\n",
      "Train Epoch: 9 [32000/60000 (53%)]\tLoss: 0.035174\n",
      "Train Epoch: 9 [38400/60000 (64%)]\tLoss: 0.042869\n",
      "Train Epoch: 9 [44800/60000 (75%)]\tLoss: 0.066194\n",
      "Train Epoch: 9 [51200/60000 (85%)]\tLoss: 0.072646\n",
      "Train Epoch: 9 [57600/60000 (96%)]\tLoss: 0.007817\n",
      "\n",
      "Train set: Average loss: 0.0334, Accuracy: 59035/60000 (98.4%)\n",
      "\n",
      "\n",
      "Test set: Average loss: 0.0985, Accuracy: 9702/10000 (97.020%)\n",
      "\n",
      "Train Epoch: 10 [0/60000 (0%)]\tLoss: 0.098422\n",
      "Train Epoch: 10 [6400/60000 (11%)]\tLoss: 0.025642\n",
      "Train Epoch: 10 [12800/60000 (21%)]\tLoss: 0.065270\n",
      "Train Epoch: 10 [19200/60000 (32%)]\tLoss: 0.009379\n",
      "Train Epoch: 10 [25600/60000 (43%)]\tLoss: 0.070086\n",
      "Train Epoch: 10 [32000/60000 (53%)]\tLoss: 0.204984\n",
      "Train Epoch: 10 [38400/60000 (64%)]\tLoss: 0.043003\n",
      "Train Epoch: 10 [44800/60000 (75%)]\tLoss: 0.024776\n",
      "Train Epoch: 10 [51200/60000 (85%)]\tLoss: 0.034269\n",
      "Train Epoch: 10 [57600/60000 (96%)]\tLoss: 0.029951\n",
      "\n",
      "Train set: Average loss: 0.0101, Accuracy: 59100/60000 (98.5%)\n",
      "\n",
      "\n",
      "Test set: Average loss: 0.1151, Accuracy: 9685/10000 (96.850%)\n",
      "\n",
      "Training is finished.\n"
     ]
    }
   ],
   "source": [
    "#########################################################################\n",
    "#TODO: modify the parameters below to see which setting that you can get to 97%\n",
    "#########################################################################\n",
    "nLayer = 2 \n",
    "nHidden = 50 # 50 : 97.5\n",
    "act_fn = nn.ReLU()\n",
    "\n",
    "# reinitialize the mlp, so we can play with parameters right here\n",
    "mlp = MLP(nInput, nOutput, nLayer, nHidden, act_fn)\n",
    "optimizer = optim.Adam(mlp.parameters())\n",
    "\n",
    "epochs = 10\n",
    "for epoch in range(1, epochs + 1):\n",
    "    train(mlp, dl_train, optimizer, epoch, log_interval=100)\n",
    "    test(mlp, dl_test)\n",
    "\n",
    "print ('Training is finished.')"
   ]
  },
  {
   "cell_type": "markdown",
   "metadata": {},
   "source": [
    "Before you move on to the next exercise, you can further play with the other parameters (learning rate, epochs, a different optimizer, etc.) to get a feeling what can improve or hamper performance. "
   ]
  },
  {
   "cell_type": "markdown",
   "metadata": {},
   "source": [
    "## CNN\n",
    "Alright, we matched our prior performance. Let's surpass it! You will soon see the power of CNN by building a small one yourself. The structure should be as follows\n",
    "\n",
    "| CNN Architecture                             \t|\n",
    "|----------------------------------------------\t|\n",
    "| Conv: $C_{in}=1, C_{out}=32, K=3, S=1, P=0$  \t|\n",
    "| ReLU                                         \t|\n",
    "| Conv: $C_{in}=32, C_{out}=64, K=3, S=1, P=0$ \t|\n",
    "| ReLU                                         \t|\n",
    "| MaxPool2d: $K=2, S=2, P=0$                   \t|\n",
    "| Dropout: $p=0.25$                            \t|\n",
    "| Linear: $C_{in}=9216, C_{out}=128$           \t|\n",
    "| ReLU                                         \t|\n",
    "| Dropout: $p=0.5$                             \t|\n",
    "| Linear: $C_{in}=128, C_{out}=10$             \t|\n",
    "\n",
    "The layers you will need are: \n",
    "\n",
    "`nn.Conv2d,  nn.Linear,  nn.Dropout, nn.MaxPool2d, nn.Flatten`\n",
    "\n",
    "For layers without parameters you can alternatively use function in the forward pass:  \n",
    "\n",
    "`F.max_pool2d, torch.flatten`"
   ]
  },
  {
   "cell_type": "code",
   "execution_count": 22,
   "metadata": {},
   "outputs": [],
   "source": [
    "#########################################################################\n",
    "# TODO: Implement the __init__ and forward method of the CNN class. \n",
    "# Hint: do not forget to flatten the appropriate dimension after the convolutional blocks. \n",
    "# A linear layers expect input of the size (B, H) with batch size B and feature size H\n",
    "#########################################################################\n",
    "\n",
    "class CNN(nn.Module):\n",
    "    def __init__(self):\n",
    "        super(CNN, self).__init__()\n",
    "        self.model = nn.Sequential(\n",
    "                     nn.Conv2d(1,32,3,stride=1,padding=0),\n",
    "                     nn.ReLU(),\n",
    "                     nn.Conv2d(32,64,3,stride=1,padding=0),\n",
    "                     nn.ReLU(),\n",
    "                     nn.MaxPool2d(2,stride=2,padding=0),\n",
    "                     nn.Dropout(p=0.25),\n",
    "                     nn.Flatten(),\n",
    "                     nn.Linear(9216,128),\n",
    "                     nn.ReLU(),\n",
    "                     nn.Dropout(p=0.25),\n",
    "                     nn.Linear(128,10)\n",
    "        )\n",
    "\n",
    "    def forward(self, x):\n",
    "        return self.model(x) #preds after passing x through the model\n"
   ]
  },
  {
   "cell_type": "code",
   "execution_count": 23,
   "metadata": {},
   "outputs": [
    {
     "data": {
      "text/plain": [
       "torch.Size([1, 10])"
      ]
     },
     "execution_count": 23,
     "metadata": {},
     "output_type": "execute_result"
    }
   ],
   "source": [
    "# Let's test if the forward pass works\n",
    "# this should print torch.Size([1, 10])\n",
    "t = torch.randn(1,1,28,28)\n",
    "cnn = CNN()\n",
    "cnn(t).shape"
   ]
  },
  {
   "cell_type": "markdown",
   "metadata": {},
   "source": [
    "Alright, let's train!"
   ]
  },
  {
   "cell_type": "code",
   "execution_count": 24,
   "metadata": {},
   "outputs": [],
   "source": [
    "optimizer = optim.Adam(cnn.parameters())"
   ]
  },
  {
   "cell_type": "code",
   "execution_count": 25,
   "metadata": {
    "scrolled": true
   },
   "outputs": [
    {
     "name": "stdout",
     "output_type": "stream",
     "text": [
      "Train Epoch: 1 [0/60000 (0%)]\tLoss: 2.323094\n",
      "Train Epoch: 1 [6400/60000 (11%)]\tLoss: 0.081708\n",
      "Train Epoch: 1 [12800/60000 (21%)]\tLoss: 0.050934\n",
      "Train Epoch: 1 [19200/60000 (32%)]\tLoss: 0.070542\n",
      "Train Epoch: 1 [25600/60000 (43%)]\tLoss: 0.072397\n",
      "Train Epoch: 1 [32000/60000 (53%)]\tLoss: 0.059431\n",
      "Train Epoch: 1 [38400/60000 (64%)]\tLoss: 0.120810\n",
      "Train Epoch: 1 [44800/60000 (75%)]\tLoss: 0.145541\n",
      "Train Epoch: 1 [51200/60000 (85%)]\tLoss: 0.114622\n",
      "Train Epoch: 1 [57600/60000 (96%)]\tLoss: 0.021953\n",
      "\n",
      "Train set: Average loss: 0.3509, Accuracy: 57319/60000 (95.5%)\n",
      "\n",
      "\n",
      "Test set: Average loss: 0.0455, Accuracy: 9850/10000 (98.500%)\n",
      "\n",
      "Train Epoch: 2 [0/60000 (0%)]\tLoss: 0.087946\n",
      "Train Epoch: 2 [6400/60000 (11%)]\tLoss: 0.005572\n",
      "Train Epoch: 2 [12800/60000 (21%)]\tLoss: 0.055174\n",
      "Train Epoch: 2 [19200/60000 (32%)]\tLoss: 0.025084\n",
      "Train Epoch: 2 [25600/60000 (43%)]\tLoss: 0.043278\n",
      "Train Epoch: 2 [32000/60000 (53%)]\tLoss: 0.012093\n",
      "Train Epoch: 2 [38400/60000 (64%)]\tLoss: 0.009888\n",
      "Train Epoch: 2 [44800/60000 (75%)]\tLoss: 0.003123\n",
      "Train Epoch: 2 [51200/60000 (85%)]\tLoss: 0.015611\n",
      "Train Epoch: 2 [57600/60000 (96%)]\tLoss: 0.028011\n",
      "\n",
      "Train set: Average loss: 0.0005, Accuracy: 59009/60000 (98.3%)\n",
      "\n",
      "\n",
      "Test set: Average loss: 0.0320, Accuracy: 9891/10000 (98.910%)\n",
      "\n",
      "Train Epoch: 3 [0/60000 (0%)]\tLoss: 0.001648\n",
      "Train Epoch: 3 [6400/60000 (11%)]\tLoss: 0.008124\n",
      "Train Epoch: 3 [12800/60000 (21%)]\tLoss: 0.091935\n",
      "Train Epoch: 3 [19200/60000 (32%)]\tLoss: 0.073057\n",
      "Train Epoch: 3 [25600/60000 (43%)]\tLoss: 0.098178\n",
      "Train Epoch: 3 [32000/60000 (53%)]\tLoss: 0.015404\n",
      "Train Epoch: 3 [38400/60000 (64%)]\tLoss: 0.028034\n",
      "Train Epoch: 3 [44800/60000 (75%)]\tLoss: 0.026269\n",
      "Train Epoch: 3 [51200/60000 (85%)]\tLoss: 0.012650\n",
      "Train Epoch: 3 [57600/60000 (96%)]\tLoss: 0.036634\n",
      "\n",
      "Train set: Average loss: 0.1754, Accuracy: 59235/60000 (98.7%)\n",
      "\n",
      "\n",
      "Test set: Average loss: 0.0321, Accuracy: 9891/10000 (98.910%)\n",
      "\n",
      "Train Epoch: 4 [0/60000 (0%)]\tLoss: 0.025221\n",
      "Train Epoch: 4 [6400/60000 (11%)]\tLoss: 0.010144\n",
      "Train Epoch: 4 [12800/60000 (21%)]\tLoss: 0.016266\n",
      "Train Epoch: 4 [19200/60000 (32%)]\tLoss: 0.021598\n",
      "Train Epoch: 4 [25600/60000 (43%)]\tLoss: 0.208550\n",
      "Train Epoch: 4 [32000/60000 (53%)]\tLoss: 0.014801\n",
      "Train Epoch: 4 [38400/60000 (64%)]\tLoss: 0.012016\n",
      "Train Epoch: 4 [44800/60000 (75%)]\tLoss: 0.007799\n",
      "Train Epoch: 4 [51200/60000 (85%)]\tLoss: 0.080730\n",
      "Train Epoch: 4 [57600/60000 (96%)]\tLoss: 0.005792\n",
      "\n",
      "Train set: Average loss: 0.0077, Accuracy: 59408/60000 (99.0%)\n",
      "\n",
      "\n",
      "Test set: Average loss: 0.0391, Accuracy: 9877/10000 (98.770%)\n",
      "\n",
      "Train Epoch: 5 [0/60000 (0%)]\tLoss: 0.138909\n",
      "Train Epoch: 5 [6400/60000 (11%)]\tLoss: 0.008307\n",
      "Train Epoch: 5 [12800/60000 (21%)]\tLoss: 0.002782\n",
      "Train Epoch: 5 [19200/60000 (32%)]\tLoss: 0.034089\n",
      "Train Epoch: 5 [25600/60000 (43%)]\tLoss: 0.008205\n",
      "Train Epoch: 5 [32000/60000 (53%)]\tLoss: 0.109536\n",
      "Train Epoch: 5 [38400/60000 (64%)]\tLoss: 0.006044\n",
      "Train Epoch: 5 [44800/60000 (75%)]\tLoss: 0.064651\n",
      "Train Epoch: 5 [51200/60000 (85%)]\tLoss: 0.009905\n",
      "Train Epoch: 5 [57600/60000 (96%)]\tLoss: 0.005722\n",
      "\n",
      "Train set: Average loss: 0.0021, Accuracy: 59530/60000 (99.2%)\n",
      "\n",
      "\n",
      "Test set: Average loss: 0.0302, Accuracy: 9911/10000 (99.110%)\n",
      "\n"
     ]
    }
   ],
   "source": [
    "epochs = 5\n",
    "for epoch in range(1, epochs + 1):\n",
    "    train(cnn, dl_train, optimizer, epoch, log_interval=100)\n",
    "    test(cnn, dl_test)"
   ]
  },
  {
   "cell_type": "markdown",
   "metadata": {},
   "source": [
    "This will probably take a bit longer to train, as a convolutional network is not very efficient on a CPU. The current settings should get you around **99%** accuracy. Nice! \n",
    "Again, you should try different hyperparameters and see how far you can push the performance."
   ]
  },
  {
   "cell_type": "markdown",
   "metadata": {},
   "source": [
    "### Inline Question\n",
    "\n",
    "If your model weight is randomly initalized, and no training is done as above. What accuracy do you think the model will get for a 10-class classification task in theory?\n",
    "\n",
    "**Your answer**: \n",
    "\n",
    "For a binary classifier it should not be better than guessing, so 50%. For a 10-class classifier the accuracy would be below 10%, when every label has an a priori probability of 1/10."
   ]
  },
  {
   "cell_type": "markdown",
   "metadata": {},
   "source": [
    "## Training on CIFAR10\n",
    "\n",
    "Now we are going to move to something more challenging - CIFAR10. We can reuse most of the code above. Thankfully, CIFAR is also a popular dataset, so we can again make use of a PyTorch convience function."
   ]
  },
  {
   "cell_type": "code",
   "execution_count": 26,
   "metadata": {},
   "outputs": [
    {
     "name": "stdout",
     "output_type": "stream",
     "text": [
      "Downloading https://www.cs.toronto.edu/~kriz/cifar-10-python.tar.gz to ./data/cifar-10-python.tar.gz\n"
     ]
    },
    {
     "data": {
      "application/vnd.jupyter.widget-view+json": {
       "model_id": "c24ae3d450a445a5817585ed260ce7f8",
       "version_major": 2,
       "version_minor": 0
      },
      "text/plain": [
       "  0%|          | 0/170498071 [00:00<?, ?it/s]"
      ]
     },
     "metadata": {},
     "output_type": "display_data"
    },
    {
     "name": "stdout",
     "output_type": "stream",
     "text": [
      "Extracting ./data/cifar-10-python.tar.gz to ./data\n"
     ]
    }
   ],
   "source": [
    "ds_train = datasets.CIFAR10(root='./data', train=True, download=True)"
   ]
  },
  {
   "cell_type": "markdown",
   "metadata": {},
   "source": [
    "This dataset is not normalized yet, so we need to calculate the normalization constants."
   ]
  },
  {
   "cell_type": "code",
   "execution_count": 47,
   "metadata": {},
   "outputs": [],
   "source": [
    "ims_train = torch.tensor(ds_train.data)\n",
    "ims_train = ims_train.float() / 255."
   ]
  },
  {
   "cell_type": "code",
   "execution_count": 48,
   "metadata": {},
   "outputs": [
    {
     "data": {
      "text/plain": [
       "tensor([0.2470, 0.2435, 0.2616])"
      ]
     },
     "execution_count": 48,
     "metadata": {},
     "output_type": "execute_result"
    }
   ],
   "source": [
    "ims_train.std((0,1,2))"
   ]
  },
  {
   "cell_type": "code",
   "execution_count": 71,
   "metadata": {},
   "outputs": [
    {
     "name": "stdout",
     "output_type": "stream",
     "text": [
      "torch.Size([50000, 32, 32, 3])\n"
     ]
    }
   ],
   "source": [
    "#########################################################################\n",
    "# TODO: calculate the mean and std of CIFAR\n",
    "# hint: We want the mean and std of the channel dimension, these should\n",
    "# be 3 dimensional\n",
    "#########################################################################\n",
    "mu = torch.mean(ims_train, dim=(0,1,2))\n",
    "#r, g, b = torch.mean(ims_train, dim=[0, 1, 2])\n",
    "std = ims_train.std((0,1,2))\n",
    "print(ims_train.shape)"
   ]
  },
  {
   "cell_type": "code",
   "execution_count": 66,
   "metadata": {},
   "outputs": [
    {
     "data": {
      "text/plain": [
       "tensor([0.4914, 0.4822, 0.4465])"
      ]
     },
     "execution_count": 66,
     "metadata": {},
     "output_type": "execute_result"
    }
   ],
   "source": [
    "torch.mean(ims_train, dim=(0,1,2))"
   ]
  },
  {
   "cell_type": "markdown",
   "metadata": {},
   "source": [
    "For CIFAR we want to make use of data augmentation to improve generalization. You will find all data augmentations data are included in torchvision here:\n",
    "\n",
    "https://pytorch.org/docs/stable/torchvision/transforms.html"
   ]
  },
  {
   "cell_type": "code",
   "execution_count": 91,
   "metadata": {},
   "outputs": [
    {
     "name": "stdout",
     "output_type": "stream",
     "text": [
      "Files already downloaded and verified\n",
      "Files already downloaded and verified\n"
     ]
    }
   ],
   "source": [
    "BATCH_SIZE = 128\n",
    "NUM_WORKERS = 4 # if you encounter some unexpected errors in data loading, try setting `NUM_WORKERS = 0`\n",
    "#########################################################################\n",
    "# TODO: Implement the proper transforms for the training and test dataloaders. \n",
    "# Then build train and test dataloaders with batch size 128 and 4 workers\n",
    "#\n",
    "# Train: \n",
    "# - Apply a random crop with size 32 on a padded version of the image with P=4\n",
    "# - Flip the image horizontally with a probability of 40 %\n",
    "# - Transform to a Tensor\n",
    "# - Normalize with the constants calculated above\n",
    "# Test: \n",
    "# - Transform to a Tensor\n",
    "# - Normalize with the constants calculated above\n",
    "#########################################################################\n",
    "\n",
    "\n",
    "# horizontal flip 40%\n",
    "#for img in ims_train:\n",
    "#    if random.random() > 0.6:\n",
    "#        transform_hflip = functional.hflip()\n",
    "\n",
    "# normalizing\n",
    "transform_train = transforms.Compose([\n",
    "    transforms.RandomCrop(32,padding=4),\n",
    "    transforms.RandomHorizontalFlip(p=0.4),\n",
    "    transforms.ToTensor(),\n",
    "    transforms.Normalize(mu, std)\n",
    "])\n",
    "\n",
    "\n",
    "transform_test = transforms.Compose([\n",
    "    transforms.ToTensor(),\n",
    "    transforms.Normalize(mu,std)  \n",
    "])\n",
    "\n",
    "ds_train = datasets.CIFAR10('./data', train=True, download=True, transform=transform_train)\n",
    "ds_test = datasets.CIFAR10('./data', train=False, download=True, transform=transform_test)\n",
    "\n",
    "dl_train = DataLoader(\n",
    "    ds_train,\n",
    "    batch_size=BATCH_SIZE,\n",
    "    num_workers=NUM_WORKERS,\n",
    "    shuffle=True\n",
    ")\n",
    "dl_test = DataLoader(\n",
    "    ds_test,\n",
    "    batch_size=BATCH_SIZE,\n",
    "    num_workers=NUM_WORKERS,\n",
    "    shuffle=False\n",
    ")\n"
   ]
  },
  {
   "cell_type": "markdown",
   "metadata": {},
   "source": [
    "Setting up the  optimizer, this time we use SGD. The scheduler adapts the learning rate during traing (you can ignore it)"
   ]
  },
  {
   "cell_type": "code",
   "execution_count": 92,
   "metadata": {},
   "outputs": [],
   "source": [
    "cnn = CNN()\n",
    "optimizer = optim.SGD(cnn.parameters(), lr=0.1, momentum=0.9, weight_decay=5e-4)\n",
    "scheduler = torch.optim.lr_scheduler.CosineAnnealingLR(optimizer, T_max=200)\n"
   ]
  },
  {
   "cell_type": "code",
   "execution_count": 93,
   "metadata": {
    "scrolled": true
   },
   "outputs": [
    {
     "ename": "RuntimeError",
     "evalue": "Given groups=1, weight of size [32, 1, 3, 3], expected input[128, 3, 32, 32] to have 1 channels, but got 3 channels instead",
     "output_type": "error",
     "traceback": [
      "\u001b[0;31m---------------------------------------------------------------------------\u001b[0m",
      "\u001b[0;31mRuntimeError\u001b[0m                              Traceback (most recent call last)",
      "Cell \u001b[0;32mIn [93], line 3\u001b[0m\n\u001b[1;32m      1\u001b[0m epochs \u001b[38;5;241m=\u001b[39m \u001b[38;5;241m5\u001b[39m\n\u001b[1;32m      2\u001b[0m \u001b[38;5;28;01mfor\u001b[39;00m epoch \u001b[38;5;129;01min\u001b[39;00m \u001b[38;5;28mrange\u001b[39m(\u001b[38;5;241m1\u001b[39m, epochs \u001b[38;5;241m+\u001b[39m \u001b[38;5;241m1\u001b[39m):\n\u001b[0;32m----> 3\u001b[0m     \u001b[43mtrain\u001b[49m\u001b[43m(\u001b[49m\u001b[43mcnn\u001b[49m\u001b[43m,\u001b[49m\u001b[43m \u001b[49m\u001b[43mdl_train\u001b[49m\u001b[43m,\u001b[49m\u001b[43m \u001b[49m\u001b[43moptimizer\u001b[49m\u001b[43m,\u001b[49m\u001b[43m \u001b[49m\u001b[43mepoch\u001b[49m\u001b[43m,\u001b[49m\u001b[43m \u001b[49m\u001b[43mlog_interval\u001b[49m\u001b[38;5;241;43m=\u001b[39;49m\u001b[38;5;241;43m100\u001b[39;49m\u001b[43m)\u001b[49m\n\u001b[1;32m      4\u001b[0m     test(cnn, dl_test)    \n\u001b[1;32m      5\u001b[0m     scheduler\u001b[38;5;241m.\u001b[39mstep()\n",
      "Cell \u001b[0;32mIn [18], line 17\u001b[0m, in \u001b[0;36mtrain\u001b[0;34m(model, dl_train, optimizer, epoch, log_interval, device)\u001b[0m\n\u001b[1;32m     14\u001b[0m optimizer\u001b[38;5;241m.\u001b[39mzero_grad()         \n\u001b[1;32m     16\u001b[0m \u001b[38;5;66;03m##### implement this part #####\u001b[39;00m\n\u001b[0;32m---> 17\u001b[0m output \u001b[38;5;241m=\u001b[39m \u001b[43mmodel\u001b[49m\u001b[38;5;241;43m.\u001b[39;49m\u001b[43mforward\u001b[49m\u001b[43m(\u001b[49m\u001b[43mdata\u001b[49m\u001b[43m)\u001b[49m\n\u001b[1;32m     18\u001b[0m loss \u001b[38;5;241m=\u001b[39m F\u001b[38;5;241m.\u001b[39mcross_entropy(output, target)\n\u001b[1;32m     19\u001b[0m loss\u001b[38;5;241m.\u001b[39mbackward()\n",
      "Cell \u001b[0;32mIn [88], line 27\u001b[0m, in \u001b[0;36mCNN.forward\u001b[0;34m(self, x)\u001b[0m\n\u001b[1;32m     26\u001b[0m \u001b[38;5;28;01mdef\u001b[39;00m \u001b[38;5;21mforward\u001b[39m(\u001b[38;5;28mself\u001b[39m, x):\n\u001b[0;32m---> 27\u001b[0m     \u001b[38;5;28;01mreturn\u001b[39;00m \u001b[38;5;28;43mself\u001b[39;49m\u001b[38;5;241;43m.\u001b[39;49m\u001b[43mmodel\u001b[49m\u001b[43m(\u001b[49m\u001b[43mx\u001b[49m\u001b[43m)\u001b[49m\n",
      "File \u001b[0;32m~/miniconda3/envs/dl4cv/lib/python3.9/site-packages/torch/nn/modules/module.py:1051\u001b[0m, in \u001b[0;36mModule._call_impl\u001b[0;34m(self, *input, **kwargs)\u001b[0m\n\u001b[1;32m   1047\u001b[0m \u001b[38;5;66;03m# If we don't have any hooks, we want to skip the rest of the logic in\u001b[39;00m\n\u001b[1;32m   1048\u001b[0m \u001b[38;5;66;03m# this function, and just call forward.\u001b[39;00m\n\u001b[1;32m   1049\u001b[0m \u001b[38;5;28;01mif\u001b[39;00m \u001b[38;5;129;01mnot\u001b[39;00m (\u001b[38;5;28mself\u001b[39m\u001b[38;5;241m.\u001b[39m_backward_hooks \u001b[38;5;129;01mor\u001b[39;00m \u001b[38;5;28mself\u001b[39m\u001b[38;5;241m.\u001b[39m_forward_hooks \u001b[38;5;129;01mor\u001b[39;00m \u001b[38;5;28mself\u001b[39m\u001b[38;5;241m.\u001b[39m_forward_pre_hooks \u001b[38;5;129;01mor\u001b[39;00m _global_backward_hooks\n\u001b[1;32m   1050\u001b[0m         \u001b[38;5;129;01mor\u001b[39;00m _global_forward_hooks \u001b[38;5;129;01mor\u001b[39;00m _global_forward_pre_hooks):\n\u001b[0;32m-> 1051\u001b[0m     \u001b[38;5;28;01mreturn\u001b[39;00m \u001b[43mforward_call\u001b[49m\u001b[43m(\u001b[49m\u001b[38;5;241;43m*\u001b[39;49m\u001b[38;5;28;43minput\u001b[39;49m\u001b[43m,\u001b[49m\u001b[43m \u001b[49m\u001b[38;5;241;43m*\u001b[39;49m\u001b[38;5;241;43m*\u001b[39;49m\u001b[43mkwargs\u001b[49m\u001b[43m)\u001b[49m\n\u001b[1;32m   1052\u001b[0m \u001b[38;5;66;03m# Do not call functions when jit is used\u001b[39;00m\n\u001b[1;32m   1053\u001b[0m full_backward_hooks, non_full_backward_hooks \u001b[38;5;241m=\u001b[39m [], []\n",
      "File \u001b[0;32m~/miniconda3/envs/dl4cv/lib/python3.9/site-packages/torch/nn/modules/container.py:139\u001b[0m, in \u001b[0;36mSequential.forward\u001b[0;34m(self, input)\u001b[0m\n\u001b[1;32m    137\u001b[0m \u001b[38;5;28;01mdef\u001b[39;00m \u001b[38;5;21mforward\u001b[39m(\u001b[38;5;28mself\u001b[39m, \u001b[38;5;28minput\u001b[39m):\n\u001b[1;32m    138\u001b[0m     \u001b[38;5;28;01mfor\u001b[39;00m module \u001b[38;5;129;01min\u001b[39;00m \u001b[38;5;28mself\u001b[39m:\n\u001b[0;32m--> 139\u001b[0m         \u001b[38;5;28minput\u001b[39m \u001b[38;5;241m=\u001b[39m \u001b[43mmodule\u001b[49m\u001b[43m(\u001b[49m\u001b[38;5;28;43minput\u001b[39;49m\u001b[43m)\u001b[49m\n\u001b[1;32m    140\u001b[0m     \u001b[38;5;28;01mreturn\u001b[39;00m \u001b[38;5;28minput\u001b[39m\n",
      "File \u001b[0;32m~/miniconda3/envs/dl4cv/lib/python3.9/site-packages/torch/nn/modules/module.py:1051\u001b[0m, in \u001b[0;36mModule._call_impl\u001b[0;34m(self, *input, **kwargs)\u001b[0m\n\u001b[1;32m   1047\u001b[0m \u001b[38;5;66;03m# If we don't have any hooks, we want to skip the rest of the logic in\u001b[39;00m\n\u001b[1;32m   1048\u001b[0m \u001b[38;5;66;03m# this function, and just call forward.\u001b[39;00m\n\u001b[1;32m   1049\u001b[0m \u001b[38;5;28;01mif\u001b[39;00m \u001b[38;5;129;01mnot\u001b[39;00m (\u001b[38;5;28mself\u001b[39m\u001b[38;5;241m.\u001b[39m_backward_hooks \u001b[38;5;129;01mor\u001b[39;00m \u001b[38;5;28mself\u001b[39m\u001b[38;5;241m.\u001b[39m_forward_hooks \u001b[38;5;129;01mor\u001b[39;00m \u001b[38;5;28mself\u001b[39m\u001b[38;5;241m.\u001b[39m_forward_pre_hooks \u001b[38;5;129;01mor\u001b[39;00m _global_backward_hooks\n\u001b[1;32m   1050\u001b[0m         \u001b[38;5;129;01mor\u001b[39;00m _global_forward_hooks \u001b[38;5;129;01mor\u001b[39;00m _global_forward_pre_hooks):\n\u001b[0;32m-> 1051\u001b[0m     \u001b[38;5;28;01mreturn\u001b[39;00m \u001b[43mforward_call\u001b[49m\u001b[43m(\u001b[49m\u001b[38;5;241;43m*\u001b[39;49m\u001b[38;5;28;43minput\u001b[39;49m\u001b[43m,\u001b[49m\u001b[43m \u001b[49m\u001b[38;5;241;43m*\u001b[39;49m\u001b[38;5;241;43m*\u001b[39;49m\u001b[43mkwargs\u001b[49m\u001b[43m)\u001b[49m\n\u001b[1;32m   1052\u001b[0m \u001b[38;5;66;03m# Do not call functions when jit is used\u001b[39;00m\n\u001b[1;32m   1053\u001b[0m full_backward_hooks, non_full_backward_hooks \u001b[38;5;241m=\u001b[39m [], []\n",
      "File \u001b[0;32m~/miniconda3/envs/dl4cv/lib/python3.9/site-packages/torch/nn/modules/conv.py:443\u001b[0m, in \u001b[0;36mConv2d.forward\u001b[0;34m(self, input)\u001b[0m\n\u001b[1;32m    442\u001b[0m \u001b[38;5;28;01mdef\u001b[39;00m \u001b[38;5;21mforward\u001b[39m(\u001b[38;5;28mself\u001b[39m, \u001b[38;5;28minput\u001b[39m: Tensor) \u001b[38;5;241m-\u001b[39m\u001b[38;5;241m>\u001b[39m Tensor:\n\u001b[0;32m--> 443\u001b[0m     \u001b[38;5;28;01mreturn\u001b[39;00m \u001b[38;5;28;43mself\u001b[39;49m\u001b[38;5;241;43m.\u001b[39;49m\u001b[43m_conv_forward\u001b[49m\u001b[43m(\u001b[49m\u001b[38;5;28;43minput\u001b[39;49m\u001b[43m,\u001b[49m\u001b[43m \u001b[49m\u001b[38;5;28;43mself\u001b[39;49m\u001b[38;5;241;43m.\u001b[39;49m\u001b[43mweight\u001b[49m\u001b[43m,\u001b[49m\u001b[43m \u001b[49m\u001b[38;5;28;43mself\u001b[39;49m\u001b[38;5;241;43m.\u001b[39;49m\u001b[43mbias\u001b[49m\u001b[43m)\u001b[49m\n",
      "File \u001b[0;32m~/miniconda3/envs/dl4cv/lib/python3.9/site-packages/torch/nn/modules/conv.py:439\u001b[0m, in \u001b[0;36mConv2d._conv_forward\u001b[0;34m(self, input, weight, bias)\u001b[0m\n\u001b[1;32m    435\u001b[0m \u001b[38;5;28;01mif\u001b[39;00m \u001b[38;5;28mself\u001b[39m\u001b[38;5;241m.\u001b[39mpadding_mode \u001b[38;5;241m!=\u001b[39m \u001b[38;5;124m'\u001b[39m\u001b[38;5;124mzeros\u001b[39m\u001b[38;5;124m'\u001b[39m:\n\u001b[1;32m    436\u001b[0m     \u001b[38;5;28;01mreturn\u001b[39;00m F\u001b[38;5;241m.\u001b[39mconv2d(F\u001b[38;5;241m.\u001b[39mpad(\u001b[38;5;28minput\u001b[39m, \u001b[38;5;28mself\u001b[39m\u001b[38;5;241m.\u001b[39m_reversed_padding_repeated_twice, mode\u001b[38;5;241m=\u001b[39m\u001b[38;5;28mself\u001b[39m\u001b[38;5;241m.\u001b[39mpadding_mode),\n\u001b[1;32m    437\u001b[0m                     weight, bias, \u001b[38;5;28mself\u001b[39m\u001b[38;5;241m.\u001b[39mstride,\n\u001b[1;32m    438\u001b[0m                     _pair(\u001b[38;5;241m0\u001b[39m), \u001b[38;5;28mself\u001b[39m\u001b[38;5;241m.\u001b[39mdilation, \u001b[38;5;28mself\u001b[39m\u001b[38;5;241m.\u001b[39mgroups)\n\u001b[0;32m--> 439\u001b[0m \u001b[38;5;28;01mreturn\u001b[39;00m \u001b[43mF\u001b[49m\u001b[38;5;241;43m.\u001b[39;49m\u001b[43mconv2d\u001b[49m\u001b[43m(\u001b[49m\u001b[38;5;28;43minput\u001b[39;49m\u001b[43m,\u001b[49m\u001b[43m \u001b[49m\u001b[43mweight\u001b[49m\u001b[43m,\u001b[49m\u001b[43m \u001b[49m\u001b[43mbias\u001b[49m\u001b[43m,\u001b[49m\u001b[43m \u001b[49m\u001b[38;5;28;43mself\u001b[39;49m\u001b[38;5;241;43m.\u001b[39;49m\u001b[43mstride\u001b[49m\u001b[43m,\u001b[49m\n\u001b[1;32m    440\u001b[0m \u001b[43m                \u001b[49m\u001b[38;5;28;43mself\u001b[39;49m\u001b[38;5;241;43m.\u001b[39;49m\u001b[43mpadding\u001b[49m\u001b[43m,\u001b[49m\u001b[43m \u001b[49m\u001b[38;5;28;43mself\u001b[39;49m\u001b[38;5;241;43m.\u001b[39;49m\u001b[43mdilation\u001b[49m\u001b[43m,\u001b[49m\u001b[43m \u001b[49m\u001b[38;5;28;43mself\u001b[39;49m\u001b[38;5;241;43m.\u001b[39;49m\u001b[43mgroups\u001b[49m\u001b[43m)\u001b[49m\n",
      "\u001b[0;31mRuntimeError\u001b[0m: Given groups=1, weight of size [32, 1, 3, 3], expected input[128, 3, 32, 32] to have 1 channels, but got 3 channels instead"
     ]
    }
   ],
   "source": [
    "epochs = 5\n",
    "for epoch in range(1, epochs + 1):\n",
    "    train(cnn, dl_train, optimizer, epoch, log_interval=100)\n",
    "    test(cnn, dl_test)    \n",
    "    scheduler.step()"
   ]
  },
  {
   "cell_type": "markdown",
   "metadata": {},
   "source": [
    "This will not work. You should see the following error message\n",
    "\n",
    "```\n",
    "Given groups=1, weight of size [32, 1, 3, 3], expected input[128, 3, 32, 32] to have 1 channels, but got 3 channels instead\n",
    "```\n",
    "\n",
    "This error is telling us that something is not right in the definition of our model. Copy the CNN class from above and make changes, so the training works."
   ]
  },
  {
   "cell_type": "code",
   "execution_count": 100,
   "metadata": {},
   "outputs": [],
   "source": [
    "#########################################################################\n",
    "# TODO: Adapt the definition from the CNN class above to work on CIFAR.\n",
    "# You can copy and run the following prompt for evaluation:\n",
    "# CNN()(torch.randn(1,3,32,32)).shape\n",
    "# It should print 'torch.Size([1, 10])'\n",
    "# Hint: You need to change 2 things. \n",
    "#########################################################################\n",
    "\n",
    "class CNN(nn.Module):\n",
    "    def __init__(self):\n",
    "        super(CNN, self).__init__()\n",
    "        self.model = nn.Sequential(\n",
    "                     # changed number of input channels to RGB = 3\n",
    "                     nn.Conv2d(3,32,3,stride=1,padding=0),\n",
    "                     nn.ReLU(),\n",
    "                     nn.Conv2d(32,64,3,stride=1,padding=0),\n",
    "                     nn.ReLU(),\n",
    "                     nn.MaxPool2d(2,stride=2,padding=0),\n",
    "                     nn.Dropout(p=0.25),\n",
    "                     nn.Flatten(), \n",
    "                     # output size of flatten layer changed to 12544, so for matrix multiplication \n",
    "                     # to work the input size of the linear layer has to be adjusted accordingly: \n",
    "                     # (1,12544) x (12544,128)\n",
    "                     nn.Linear(12544,128),\n",
    "                     nn.ReLU(),\n",
    "                     nn.Dropout(p=0.25),\n",
    "                     nn.Linear(128,10)\n",
    "        )\n",
    "\n",
    "    def forward(self, x):\n",
    "        return self.model(x) #preds after passing x through the model"
   ]
  },
  {
   "cell_type": "code",
   "execution_count": 101,
   "metadata": {},
   "outputs": [
    {
     "data": {
      "text/plain": [
       "torch.Size([1, 10])"
      ]
     },
     "execution_count": 101,
     "metadata": {},
     "output_type": "execute_result"
    }
   ],
   "source": [
    "CNN()(torch.randn(1,3,32,32)).shape"
   ]
  },
  {
   "cell_type": "markdown",
   "metadata": {},
   "source": [
    "Let's try again"
   ]
  },
  {
   "cell_type": "code",
   "execution_count": 102,
   "metadata": {
    "scrolled": true
   },
   "outputs": [
    {
     "name": "stdout",
     "output_type": "stream",
     "text": [
      "Train Epoch: 1 [0/50000 (0%)]\tLoss: 2.306425\n",
      "Train Epoch: 1 [12800/50000 (26%)]\tLoss: 1.897091\n",
      "Train Epoch: 1 [25600/50000 (51%)]\tLoss: 1.975763\n",
      "Train Epoch: 1 [38400/50000 (77%)]\tLoss: 2.275690\n",
      "\n",
      "Train set: Average loss: 2.1826, Accuracy: 11580/50000 (23.2%)\n",
      "\n",
      "\n",
      "Test set: Average loss: 2.1437, Accuracy: 2012/10000 (20.120%)\n",
      "\n",
      "Train Epoch: 2 [0/50000 (0%)]\tLoss: 2.209856\n",
      "Train Epoch: 2 [12800/50000 (26%)]\tLoss: 2.103656\n",
      "Train Epoch: 2 [25600/50000 (51%)]\tLoss: 2.121919\n",
      "Train Epoch: 2 [38400/50000 (77%)]\tLoss: 2.006813\n",
      "\n",
      "Train set: Average loss: 1.9571, Accuracy: 11581/50000 (23.2%)\n",
      "\n",
      "\n",
      "Test set: Average loss: 1.8122, Accuracy: 3262/10000 (32.620%)\n",
      "\n",
      "Train Epoch: 3 [0/50000 (0%)]\tLoss: 1.902110\n",
      "Train Epoch: 3 [12800/50000 (26%)]\tLoss: 1.754003\n",
      "Train Epoch: 3 [25600/50000 (51%)]\tLoss: 1.870773\n",
      "Train Epoch: 3 [38400/50000 (77%)]\tLoss: 1.773311\n",
      "\n",
      "Train set: Average loss: 1.6762, Accuracy: 17226/50000 (34.5%)\n",
      "\n",
      "\n",
      "Test set: Average loss: 1.4889, Accuracy: 4635/10000 (46.350%)\n",
      "\n",
      "Train Epoch: 4 [0/50000 (0%)]\tLoss: 1.604838\n",
      "Train Epoch: 4 [12800/50000 (26%)]\tLoss: 1.654490\n",
      "Train Epoch: 4 [25600/50000 (51%)]\tLoss: 1.559844\n",
      "Train Epoch: 4 [38400/50000 (77%)]\tLoss: 1.628743\n",
      "\n",
      "Train set: Average loss: 1.9024, Accuracy: 19505/50000 (39.0%)\n",
      "\n",
      "\n",
      "Test set: Average loss: 1.5933, Accuracy: 4363/10000 (43.630%)\n",
      "\n",
      "Train Epoch: 5 [0/50000 (0%)]\tLoss: 1.701347\n",
      "Train Epoch: 5 [12800/50000 (26%)]\tLoss: 1.786094\n",
      "Train Epoch: 5 [25600/50000 (51%)]\tLoss: 1.716925\n",
      "Train Epoch: 5 [38400/50000 (77%)]\tLoss: 1.755997\n",
      "\n",
      "Train set: Average loss: 1.4755, Accuracy: 20514/50000 (41.0%)\n",
      "\n",
      "\n",
      "Test set: Average loss: 1.3637, Accuracy: 5085/10000 (50.850%)\n",
      "\n",
      "Train Epoch: 6 [0/50000 (0%)]\tLoss: 1.491426\n",
      "Train Epoch: 6 [12800/50000 (26%)]\tLoss: 1.716350\n",
      "Train Epoch: 6 [25600/50000 (51%)]\tLoss: 1.504107\n",
      "Train Epoch: 6 [38400/50000 (77%)]\tLoss: 1.642966\n",
      "\n",
      "Train set: Average loss: 1.5807, Accuracy: 21472/50000 (42.9%)\n",
      "\n",
      "\n",
      "Test set: Average loss: 1.3825, Accuracy: 4888/10000 (48.880%)\n",
      "\n",
      "Train Epoch: 7 [0/50000 (0%)]\tLoss: 1.472795\n",
      "Train Epoch: 7 [12800/50000 (26%)]\tLoss: 1.565211\n",
      "Train Epoch: 7 [25600/50000 (51%)]\tLoss: 1.554820\n",
      "Train Epoch: 7 [38400/50000 (77%)]\tLoss: 1.642030\n",
      "\n",
      "Train set: Average loss: 1.5489, Accuracy: 22050/50000 (44.1%)\n",
      "\n",
      "\n",
      "Test set: Average loss: 1.4612, Accuracy: 4765/10000 (47.650%)\n",
      "\n",
      "Train Epoch: 8 [0/50000 (0%)]\tLoss: 1.467630\n",
      "Train Epoch: 8 [12800/50000 (26%)]\tLoss: 1.411768\n",
      "Train Epoch: 8 [25600/50000 (51%)]\tLoss: 1.589790\n",
      "Train Epoch: 8 [38400/50000 (77%)]\tLoss: 1.486820\n",
      "\n",
      "Train set: Average loss: 1.7280, Accuracy: 22542/50000 (45.1%)\n",
      "\n",
      "\n",
      "Test set: Average loss: 1.5039, Accuracy: 4609/10000 (46.090%)\n",
      "\n",
      "Train Epoch: 9 [0/50000 (0%)]\tLoss: 1.521643\n",
      "Train Epoch: 9 [12800/50000 (26%)]\tLoss: 1.569730\n",
      "Train Epoch: 9 [25600/50000 (51%)]\tLoss: 1.559406\n",
      "Train Epoch: 9 [38400/50000 (77%)]\tLoss: 1.534348\n",
      "\n",
      "Train set: Average loss: 1.4230, Accuracy: 22652/50000 (45.3%)\n",
      "\n",
      "\n",
      "Test set: Average loss: 1.3281, Accuracy: 5210/10000 (52.100%)\n",
      "\n",
      "Train Epoch: 10 [0/50000 (0%)]\tLoss: 1.509278\n",
      "Train Epoch: 10 [12800/50000 (26%)]\tLoss: 1.493425\n",
      "Train Epoch: 10 [25600/50000 (51%)]\tLoss: 1.488160\n",
      "Train Epoch: 10 [38400/50000 (77%)]\tLoss: 1.489650\n",
      "\n",
      "Train set: Average loss: 1.4540, Accuracy: 23222/50000 (46.4%)\n",
      "\n",
      "\n",
      "Test set: Average loss: 1.2594, Accuracy: 5635/10000 (56.350%)\n",
      "\n"
     ]
    }
   ],
   "source": [
    "cnn = CNN()\n",
    "optimizer = optim.SGD(cnn.parameters(), lr=0.1, momentum=0.9, weight_decay=5e-4)\n",
    "scheduler = torch.optim.lr_scheduler.CosineAnnealingLR(optimizer, T_max=200)\n",
    "\n",
    "epochs = 10\n",
    "for epoch in range(1, epochs + 1):\n",
    "    train(cnn, dl_train, optimizer, epoch, log_interval=100)\n",
    "    test(cnn, dl_test)    \n",
    "    scheduler.step()"
   ]
  },
  {
   "cell_type": "markdown",
   "metadata": {},
   "source": [
    "This should give 40 - 50 % - and if you are not already on Colab it will give you a stressed out laptop. The performance is a lot better than random, but we can definitely do better."
   ]
  },
  {
   "cell_type": "markdown",
   "metadata": {},
   "source": [
    "### Have fun with GPUs\n",
    "You can already call it a day until this point because we won't grade the rest of the excecise. You can have more fun with the rest :)\n"
   ]
  },
  {
   "cell_type": "markdown",
   "metadata": {},
   "source": [
    "\n",
    "If you didn't already, move to colab. To use a GPU, follow on the collaboratory menu tabs, \"Runtime\" => \"Change runtime type\" and set it to GPU. Then run the same training loop but now on GPU. \n",
    "\n",
    "It as easy as:"
   ]
  },
  {
   "cell_type": "code",
   "execution_count": null,
   "metadata": {},
   "outputs": [],
   "source": [
    "device = 'cuda'\n",
    "if device == 'cuda': torch.backends.cudnn.benchmark = True # additional speed up\n",
    "\n",
    "cnn = CNN()\n",
    "optimizer = optim.SGD(cnn.parameters(), lr=0.1, momentum=0.9, weight_decay=5e-4)\n",
    "scheduler = torch.optim.lr_scheduler.CosineAnnealingLR(optimizer, T_max=200)\n",
    "cnn = cnn.to(device)\n",
    "\n",
    "epochs = 10\n",
    "for epoch in range(1, epochs + 1):\n",
    "    train(cnn, dl_train, optimizer, epoch, log_interval=100, device=device)\n",
    "    test(cnn, dl_test, device=device)    \n",
    "    scheduler.step()"
   ]
  },
  {
   "cell_type": "markdown",
   "metadata": {},
   "source": [
    "This should be way faster now. But the true advantage of the GPU is that we can use much bigger models now and still train them in a reasonable amount of time. PyTorch is again very handy. The torchvision library comes with varies state-of-the-art model architectures, some of which you have seen in the lecture."
   ]
  },
  {
   "cell_type": "code",
   "execution_count": null,
   "metadata": {},
   "outputs": [],
   "source": [
    "from torchvision.models import resnet18"
   ]
  },
  {
   "cell_type": "code",
   "execution_count": null,
   "metadata": {
    "scrolled": true
   },
   "outputs": [],
   "source": [
    "cnn = resnet18()\n",
    "print(cnn)"
   ]
  },
  {
   "cell_type": "markdown",
   "metadata": {},
   "source": [
    "Looks scary! But the only thing you need to change to make it work on CIFAR is the last layer.\n",
    "Currently the last layer is:\n",
    "```\n",
    "  (fc): Linear(in_features=512, out_features=1000, bias=True)\n",
    "```\n",
    "out_features is the number of classes. This models are developed for Imagenet, a dataset with 1000 classes. So this part of the model you need to adapt. Additionally, you need to add a log-softmax layer again, as we us negative log-likelihood as the training criterion. "
   ]
  },
  {
   "cell_type": "code",
   "execution_count": null,
   "metadata": {},
   "outputs": [],
   "source": [
    "#########################################################################\n",
    "# TODO: Adapt the Resnet to work on CIFAR\n",
    "#########################################################################\n"
   ]
  },
  {
   "cell_type": "code",
   "execution_count": null,
   "metadata": {},
   "outputs": [],
   "source": [
    "# This should print 'torch.Size([16, 10])'\n",
    "cnn(torch.randn(16,3,32,32)).shape"
   ]
  },
  {
   "cell_type": "code",
   "execution_count": null,
   "metadata": {},
   "outputs": [],
   "source": [
    "device = 'cuda'\n",
    "if device == 'cuda': torch.backends.cudnn.benchmark = True # this gives us additional speed up\n",
    "\n",
    "optimizer = optim.SGD(cnn.parameters(), lr=0.1, momentum=0.9, weight_decay=5e-4)\n",
    "scheduler = torch.optim.lr_scheduler.CosineAnnealingLR(optimizer, T_max=200)\n",
    "cnn = cnn.to(device)\n",
    "\n",
    "epochs = 50\n",
    "for epoch in range(1, epochs + 1):\n",
    "    train(cnn, dl_train, optimizer, epoch, log_interval=100, device=device)\n",
    "    test(cnn, dl_test, device=device)    \n",
    "    scheduler.step()"
   ]
  },
  {
   "cell_type": "markdown",
   "metadata": {},
   "source": [
    "This should get us well above 75%, the best we got was ~ 80%.\n",
    "\n",
    "Now, use different torchvision architectures, different optimizers (Adam is always a good choice), data augmentation techniques, and hyperparameter search to achieve a test accuracy of >90 %"
   ]
  },
  {
   "cell_type": "code",
   "execution_count": null,
   "metadata": {},
   "outputs": [],
   "source": []
  }
 ],
 "metadata": {
  "kernelspec": {
   "display_name": "Python 3 (ipykernel)",
   "language": "python",
   "name": "python3"
  },
  "language_info": {
   "codemirror_mode": {
    "name": "ipython",
    "version": 3
   },
   "file_extension": ".py",
   "mimetype": "text/x-python",
   "name": "python",
   "nbconvert_exporter": "python",
   "pygments_lexer": "ipython3",
   "version": "3.9.12"
  },
  "vscode": {
   "interpreter": {
    "hash": "d268b61a0efacafa8645774cb6d0204c9f01d7563ef03f7672146d044e8f345c"
   }
  }
 },
 "nbformat": 4,
 "nbformat_minor": 4
}
